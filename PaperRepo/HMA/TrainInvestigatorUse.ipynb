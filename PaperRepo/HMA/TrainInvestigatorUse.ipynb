{
 "cells": [
  {
   "cell_type": "markdown",
   "id": "05dc8d73",
   "metadata": {},
   "source": [
    "# Investigate a Sample"
   ]
  },
  {
   "cell_type": "markdown",
   "id": "66bd8cfe",
   "metadata": {},
   "source": [
    "### First run this cell"
   ]
  },
  {
   "cell_type": "code",
   "execution_count": null,
   "id": "b0e0539d",
   "metadata": {},
   "outputs": [],
   "source": [
    "%load_ext autoreload\n",
    "%autoreload 2\n",
    "\n",
    "%matplotlib notebook\n",
    "%load_ext autoreload\n",
    "%autoreload 2\n",
    "\n",
    "\n",
    "#load some packages in\n",
    "import tensorflow as tf\n",
    "from tensorflow import keras\n",
    "from tensorflow.keras import layers\n",
    "import numpy as np\n",
    "import matplotlib.pyplot as plt\n",
    "import random as python_random\n",
    "from numba import njit\n",
    "from tensorboard.plugins.hparams import api as hp\n",
    "from stemutils.io import Path\n",
    "import hyperspy.api as hs\n",
    "import concurrent.futures\n",
    "from skimage.transform import resize\n",
    "from sklearn.utils import shuffle\n",
    "from sklearn.model_selection import train_test_split\n",
    "from functools import lru_cache\n",
    "from stemseg.processing_funcs import *\n",
    "import json\n",
    "\n",
    "#set some variables\n",
    "print('Using TensorFlow v%s' % tf.__version__)\n",
    "plt.style.use('default')\n",
    "python_random.seed(0)\n",
    "np.random.seed(0)\n",
    "tf.random.set_seed(0)\n",
    "\n",
    "\n",
    "#define some functions\n",
    "\n",
    "###################################################\n",
    "########### Data Preprocessing ####################\n",
    "###################################################\n",
    "\n",
    "def batch_resize(d, bs=512):\n",
    "    if len(d.shape) == 4:\n",
    "        flat_d = flatten_nav(d)\n",
    "    else:\n",
    "        flat_d = d\n",
    "    n_batches = int(np.ceil(flat_d.shape[0]//bs))\n",
    "    batches = [flat_d[i*bs:(i+1)*bs] for i in range(n_batches+1)]\n",
    "    if len(batches[-1])==0:\n",
    "        batches.pop(-1)\n",
    "    print(len(batches[-1]))\n",
    "    with concurrent.futures.ProcessPoolExecutor() as exe:\n",
    "        res = [exe.submit(resize, batch, (batch.shape[0],128,128)) for batch in batches]\n",
    "    r_batches = [f.result() for f in res]\n",
    "    return np.concatenate(r_batches, axis = 0).reshape((d.shape[0],128,128))\n",
    "\n",
    "def data_manip(d, bs = 512):\n",
    "    if type(d) != np.ndarray:\n",
    "        print('dask to numpy')\n",
    "        d = d.compute()\n",
    "        print('dask to numpy done')\n",
    "    print('started data manipulations')\n",
    "    #d = resize(d,(d.shape[0],128,128))\n",
    "    print('resized')\n",
    "    d_maxes = np.max(d,(1,2))[:,None,None]\n",
    "    d = d/d_maxes\n",
    "    d_maxes = None\n",
    "    d = batch_resize(d, bs)\n",
    "    scaler = np.log(1001)\n",
    "    return np.log((d*1000)+1)/scaler \n",
    "\n",
    "\n",
    "###################################################\n",
    "###################################################\n",
    "###################################################\n",
    "\n",
    "def flatten_nav(sig):\n",
    "    shape = [sig.shape[0]*sig.shape[1]]\n",
    "    for i in sig.shape[2:]:\n",
    "        shape.append(i)\n",
    "    return sig.reshape(shape)\n",
    "\n",
    "\n",
    "class My_Custom_Generator(keras.utils.Sequence) :\n",
    "    def __init__(self, image_filenames,  batch_size) :\n",
    "        self.image_filenames = image_filenames\n",
    "        self.batch_size = batch_size\n",
    "\n",
    "    def __len__(self) :\n",
    "        return (np.ceil(len(self.image_filenames) / float(self.batch_size))).astype(np.int)\n",
    "    \n",
    "    \n",
    "    @lru_cache(None)\n",
    "    def __getitem__(self, idx) :\n",
    "        batch_x = self.image_filenames[idx * self.batch_size : (idx+1) * self.batch_size]\n",
    "        out_img = np.asarray([np.load(file_name)[:,:,None] for file_name in batch_x])\n",
    "        return out_img, out_img\n",
    "        #return batch_x, batch_y\n",
    "        \n",
    "        \n",
    "class Array_Generator(keras.utils.Sequence) :\n",
    "    def __init__(self, images,  batch_size) :\n",
    "        self.images = images\n",
    "        self.batch_size = batch_size\n",
    "\n",
    "    def __len__(self) :\n",
    "        return (np.ceil(len(self.images) / float(self.batch_size))).astype(np.int)\n",
    "    \n",
    "    \n",
    "    @lru_cache(None)\n",
    "    def __getitem__(self, idx) :\n",
    "        out_img = self.images[idx * self.batch_size : (idx+1) * self.batch_size, :,:,None]\n",
    "        return out_img, out_img\n",
    "        #return batch_x, batch_y\n",
    "\n",
    "class Sampling(layers.Layer):\n",
    "    def call(self, inputs):\n",
    "        z_mean, z_log_var = inputs\n",
    "        epsilon = tf.keras.backend.random_normal(shape=tf.shape(z_mean))\n",
    "        return z_mean + tf.exp(0.5 * z_log_var) * epsilon\n",
    "    \n",
    "def create_vae_model(hparams):\n",
    "    \n",
    "    n_img = 128\n",
    "    latent_dim = hparams['LAT']\n",
    "    beta = hparams['B']\n",
    "\n",
    "    image_input = keras.Input(shape=(n_img, n_img,1), name = 'enc_input')\n",
    "    x = layers.Conv2D(hparams['KN1'],5, strides = 2, activation='relu',padding='same', input_shape=image_input.shape, name = 'enc_conv1')(image_input)\n",
    "    x = layers.Conv2D(hparams['KN2'],5, strides = 2, activation='relu',padding='same', name = 'enc_conv2')(x)\n",
    "    x = layers.Conv2D(hparams['KN3'],5, strides = 2, activation='relu',padding='same', name = 'enc_conv3')(x)\n",
    "    x = layers.Conv2D(hparams['KN4'],5, strides = 2, activation='relu',padding='same', name = 'enc_conv4')(x)\n",
    "    x = layers.Conv2D(hparams['KN5'],5, strides = 2, activation='relu',padding='same', name = 'enc_conv5')(x)\n",
    "    x = layers.Flatten()(x)\n",
    "    x = layers.Dense(hparams['D1'], activation='relu', name = 'enc_d1')(x)\n",
    "    x = layers.Dense(hparams['D2'], activation=\"relu\", name = 'enc_d2_t')(x)\n",
    "    x = layers.Dense(hparams['D2'], activation=\"relu\", name = 'enc_d3_t')(x)\n",
    "    x = layers.Dense(hparams['D2'], activation=\"relu\", name = 'enc_d4_t')(x)\n",
    "    x = layers.Dense(hparams['D2'], activation=\"relu\", name = 'enc_d5_t')(x)\n",
    "    x = layers.Dense(hparams['D2'], activation=\"relu\", name = 'enc_d6_t')(x)\n",
    "    x = layers.Dense(hparams['D2'], activation=\"relu\", name = 'enc_d7_t')(x)\n",
    "    x = layers.Dense(hparams['D2'], activation=\"relu\", name = 'enc_d8_t')(x)\n",
    "    z_mean = layers.Dense(latent_dim, name=\"z_mean_t\")(x)\n",
    "    z_log_var = layers.Dense(latent_dim, name=\"z_log_var_t\")(x)\n",
    "    z_output = Sampling()([z_mean, z_log_var])\n",
    "    encoder_VAE = keras.Model(image_input, [z_mean, z_log_var, z_output])\n",
    "\n",
    "    z_input = keras.Input(shape=(latent_dim,), name = 'dec_input_t')\n",
    "    x = layers.Dense(hparams['D2'], activation=\"relu\", name = 'dec_d1_t')(z_input)\n",
    "    x = layers.Dense(hparams['D2'], activation=\"relu\", name = 'dec_d2')(x)\n",
    "    x = layers.Dense(hparams['D2'], activation=\"relu\", name = 'dec_d3')(x)\n",
    "    x = layers.Dense(hparams['D2'], activation=\"relu\", name = 'dec_d4')(x)\n",
    "    x = layers.Dense(hparams['D2'], activation=\"relu\", name = 'dec_d5')(x)\n",
    "    x = layers.Dense(hparams['D2'], activation=\"relu\", name = 'dec_d6')(x)\n",
    "    x = layers.Dense(hparams['D1'], activation=\"relu\", name = 'dec_d7')(x)\n",
    "    x = layers.Dense(4*4*hparams['KN5'], activation=\"relu\", name = 'dec_d8')(x)\n",
    "    x = layers.Reshape((4, 4,hparams['KN5']))(x)\n",
    "    x = layers.Conv2DTranspose(hparams['KN4'],5, strides = 2, activation='relu',padding='same', name = 'dec_conv1')(x)\n",
    "    x = layers.Conv2DTranspose(hparams['KN3'],5, strides = 2, activation='relu',padding='same', name = 'dec_conv2')(x)\n",
    "    x = layers.Conv2DTranspose(hparams['KN2'],5, strides = 2, activation='relu',padding='same', name = 'dec_conv3')(x)\n",
    "    x = layers.Conv2DTranspose(hparams['KN1'],5, strides = 2, activation='relu',padding='same', name = 'dec_conv4')(x)\n",
    "    image_output = layers.Conv2DTranspose(1,5, strides = 2, activation='sigmoid',padding='same', name = 'dec_conv5')(x)\n",
    "    #image_output = layers.Conv2DTranspose(16,3, strides = 2, activation='sigmoid',padding='same')\n",
    "    #image_output = layers.Reshape((n_img, n_img,1))(x)\n",
    "    decoder_VAE = keras.Model(z_input, image_output)\n",
    "\n",
    "    # VAE class\n",
    "    class VAE(keras.Model):\n",
    "        # constructor\n",
    "        def __init__(self, encoder, decoder, **kwargs):\n",
    "            super(VAE, self).__init__(**kwargs)\n",
    "            self.encoder = encoder\n",
    "            self.decoder = decoder\n",
    "\n",
    "        # customise train_step() to implement the loss \n",
    "        def train_step(self, x):\n",
    "            if isinstance(x, tuple):\n",
    "                x = x[0]\n",
    "            with tf.GradientTape() as tape:\n",
    "                # encoding\n",
    "                z_mean, z_log_var, z = self.encoder(x)\n",
    "                # decoding\n",
    "                x_prime = self.decoder(z)\n",
    "                # reconstruction error by binary crossentropy loss\n",
    "                reconstruction_loss = tf.reduce_mean(keras.losses.binary_crossentropy(x, x_prime)) * n_img * n_img\n",
    "                # KL divergence\n",
    "                kl_loss = -0.5 * tf.reduce_mean(1 + z_log_var - tf.square(z_mean) - tf.exp(z_log_var))\n",
    "                # loss = reconstruction error + KL divergence\n",
    "                loss = reconstruction_loss + beta* kl_loss\n",
    "            # apply gradient\n",
    "            grads = tape.gradient(loss, self.trainable_weights)\n",
    "            self.optimizer.apply_gradients(zip(grads, self.trainable_weights))\n",
    "            # return loss for metrics log\n",
    "            return {\"loss\": loss}\n",
    "\n",
    "\n",
    "        def call(self, x):\n",
    "            if isinstance(x, tuple):\n",
    "                x = x[0]\n",
    "            # encoding\n",
    "            z_mean, z_log_var, z = self.encoder(x)\n",
    "            # decoding\n",
    "            x_prime = self.decoder(z)\n",
    "            return x_prime\n",
    "    # build the VAE\n",
    "    vae_model = VAE(encoder_VAE, decoder_VAE)\n",
    "\n",
    "    # compile the VAE\n",
    "    vae_model.compile(optimizer=keras.optimizers.Adam(learning_rate=hparams['LR']),loss=custom_loss)\n",
    "    vae_model.build((1,128,128,1))\n",
    "    \n",
    "    return vae_model\n",
    "\n",
    "\n",
    "\n",
    "def custom_loss(x,y):\n",
    "    n_img = 128\n",
    "    return tf.reduce_mean(keras.losses.binary_crossentropy(x, y)) * n_img * n_img\n",
    "\n",
    "def remove_background(sample, thresh = 500, old_tag=None, new_tag=None,blanker = 30):\n",
    "    d = sample.raw_data.data.copy()\n",
    "    d_shape = d.shape\n",
    "    n_shape, p_shape = d_shape[0:2], d_shape[2:]\n",
    "    ps0 = p_shape[0] //2\n",
    "    try:\n",
    "        d[:,:,ps0- blanker:ps0 + blanker, ps0 - blanker: ps0 + blanker] = np.zeros((2*blanker,2*blanker))\n",
    "    except:\n",
    "        d = d.compute()\n",
    "        d[:,:,ps0- blanker:ps0 + blanker, ps0 - blanker: ps0 + blanker] = np.zeros((2*blanker,2*blanker))\n",
    "    maskx, masky = np.where(d.sum(axis=(2,3))<thresh)\n",
    "    if old_tag !=None:\n",
    "        clustmap = sample.all_maps[old_tag].copy()\n",
    "        clustmap += 1\n",
    "        clustmap[maskx, masky] = 0 \n",
    "        newmap = np.zeros_like(clustmap)\n",
    "        for i, o in enumerate(np.unique(clustmap)):\n",
    "            newmap[np.where(clustmap == o)] = i\n",
    "        newmap += 1\n",
    "        if new_tag != None:\n",
    "            sample.all_maps[new_tag] = newmap\n",
    "        return newmap\n",
    "    else:\n",
    "        return np.where(d.sum(axis=(2,3))<thresh, 0, 1)\n",
    "\n",
    "def show_cluster_patterns(sample, tag):\n",
    "    uis = np.unique(sample.all_maps[tag])\n",
    "    od = np.zeros((uis.size, 512, 256))\n",
    "    for x,i in enumerate(uis):\n",
    "        p = resize(sample.all_patterns[tag][i-1], (256,256))\n",
    "        n = resize(np.where(sample.all_maps[tag] == i, p.max(), 1), (256,256))\n",
    "        p[0,:] = p.max()\n",
    "        o = np.concatenate([n,p], axis = 0)\n",
    "        od[x] = o\n",
    "    return hs.signals.Signal2D(od)\n",
    "\n",
    "def signal_boosted_scan(sample, tag):\n",
    "    uts = np.unique(sample.all_maps[tag])\n",
    "    blank = np.zeros_like((sample.raw_data))\n",
    "    blank = blank.astype('float32')\n",
    "    for t in uts:\n",
    "        blank[np.where(sample.all_maps[tag]==t)] = sample.all_patterns[tag][t]\n",
    "    return hs.signals.Signal2D(blank)\n",
    "\n",
    "def inv_sbs(sbs, tag = 'vl_vae', sp = (0,0), return_fig = False, interactive = True, **kwargs):\n",
    "    sbsg = np.repeat(sbs.data.sum(axis= (2,3))[:,:,None],3, -1)\n",
    "    sbsg /= sbsg.max()\n",
    "    \n",
    "    def boost(array):\n",
    "        return np.log10(np.log10(array+1)+1)\n",
    "\n",
    "    def format_ax():\n",
    "        ax[0].set_frame_on(False)\n",
    "        #ax[1].set_frame_on(False)\n",
    "        ax[0].set_xticks([])\n",
    "        ax[0].set_yticks([])\n",
    "        ax[1].set_xticks([])\n",
    "        ax[1].set_yticks([])\n",
    "    fig, ax = plt.subplots(2, 1, gridspec_kw={'height_ratios': [1, 2]}, figsize=(8,8))\n",
    "    \n",
    "    \n",
    "    clust = sample.all_maps[tag][sp[0],sp[1]]\n",
    "\n",
    "    clust_loc = np.where(sample.all_maps[tag] == clust)\n",
    "\n",
    "    new_nav = sbsg.copy()\n",
    "\n",
    "    new_nav[clust_loc] = np.array([0.1254902 , 0.69803922, 0.66666667])\n",
    "    \n",
    "    \n",
    "    ax[0].imshow(new_nav)\n",
    "    ax[1].imshow(boost(sbs.data[sp[0],sp[1]]), cmap= 'gray', **kwargs)\n",
    "\n",
    "    format_ax()\n",
    "    \n",
    "    if interactive == True:\n",
    "    \n",
    "        global coords\n",
    "        coords = []\n",
    "\n",
    "        def onclick(event):\n",
    "            global ix, iy\n",
    "            ix, iy = np.round(event.xdata,0), np.round(event.ydata,0)\n",
    "            print(ix, iy)\n",
    "\n",
    "            coords.append((ix, iy))\n",
    "\n",
    "            ax[0].clear()\n",
    "            ax[1].clear()\n",
    "\n",
    "            clust = sample.all_maps[tag][int(iy),int(ix)]\n",
    "\n",
    "            clust_loc = np.where(sample.all_maps[tag] == clust)\n",
    "\n",
    "            new_nav = sbsg.copy()\n",
    "\n",
    "            new_nav[clust_loc] = np.array([0.1254902 , 0.69803922, 0.66666667])\n",
    "\n",
    "\n",
    "\n",
    "            ax[0].imshow(new_nav)\n",
    "            ax[1].imshow(boost(sbs.data[int(iy),int(ix)]), cmap = 'gray', **kwargs)\n",
    "\n",
    "            format_ax()\n",
    "\n",
    "            ax[0].draw()\n",
    "            ax[1].draw()\n",
    "\n",
    "\n",
    "            return coords\n",
    "\n",
    "        cid = fig.canvas.mpl_connect('button_press_event', onclick)\n",
    "\n",
    "    if return_fig == True:\n",
    "        return fig\n",
    "        "
   ]
  },
  {
   "cell_type": "markdown",
   "id": "b6223059",
   "metadata": {},
   "source": [
    "### Check the GPU can be found"
   ]
  },
  {
   "cell_type": "code",
   "execution_count": null,
   "id": "1d02e61b",
   "metadata": {},
   "outputs": [],
   "source": [
    "tf.__version__"
   ]
  },
  {
   "cell_type": "code",
   "execution_count": null,
   "id": "86e69563",
   "metadata": {
    "scrolled": true
   },
   "outputs": [],
   "source": [
    "tf.config.list_physical_devices()"
   ]
  },
  {
   "cell_type": "code",
   "execution_count": null,
   "id": "386cb249",
   "metadata": {
    "scrolled": true
   },
   "outputs": [],
   "source": [
    "fdp = Path('/dls/e02/data/2021/mg28749-1/processing/Calibrated/')\n",
    "\n",
    "dl = fdp.ls()\n",
    "[i for i in enumerate(dl)]"
   ]
  },
  {
   "cell_type": "markdown",
   "id": "ad224592",
   "metadata": {},
   "source": [
    "### Select your data set"
   ]
  },
  {
   "cell_type": "code",
   "execution_count": null,
   "id": "ff3d12e0",
   "metadata": {},
   "outputs": [],
   "source": [
    "#Can just set a Path to your dataset\n",
    "dp = Path('something/something/file.hdf5')"
   ]
  },
  {
   "cell_type": "code",
   "execution_count": null,
   "id": "a5fd735e",
   "metadata": {},
   "outputs": [],
   "source": [
    "#Or can use the index from the list above\n",
    "\n",
    "#Can set index directly \n",
    "select = 0\n",
    "\n",
    "#or find the timestamp\n",
    "#ts = '135457'\n",
    "#select = np.argmax([str(x).find(ts) for x in dl])"
   ]
  },
  {
   "cell_type": "code",
   "execution_count": null,
   "id": "5b3af15b",
   "metadata": {},
   "outputs": [],
   "source": [
    "dp = dl[select].walk('.hdf5', 'Model')[0]\n",
    "dp"
   ]
  },
  {
   "cell_type": "markdown",
   "id": "f7adf3f0",
   "metadata": {},
   "source": [
    "### Set the Model Path"
   ]
  },
  {
   "cell_type": "code",
   "execution_count": null,
   "id": "31776336",
   "metadata": {},
   "outputs": [],
   "source": [
    "mp = dp.redirect('Final_Models')\n",
    "mp"
   ]
  },
  {
   "cell_type": "markdown",
   "id": "c4bd4bbb",
   "metadata": {},
   "source": [
    "### Create a ProcessedSample Object"
   ]
  },
  {
   "cell_type": "code",
   "execution_count": null,
   "id": "d2f856c6",
   "metadata": {},
   "outputs": [],
   "source": [
    "sample = ProcessedSample(dp, 'Test')"
   ]
  },
  {
   "cell_type": "code",
   "execution_count": null,
   "id": "17e029e7",
   "metadata": {
    "scrolled": false
   },
   "outputs": [],
   "source": [
    "sample.raw_data.plot()"
   ]
  },
  {
   "cell_type": "markdown",
   "id": "7b9179ce",
   "metadata": {},
   "source": [
    "### Pre-process the data to speed up later functions (can avoid this if there are memory constraints)"
   ]
  },
  {
   "cell_type": "code",
   "execution_count": null,
   "id": "6eff8770",
   "metadata": {
    "scrolled": true
   },
   "outputs": [],
   "source": [
    "sample.save_ml_manipulation('full_ds', data_manip,64)"
   ]
  },
  {
   "cell_type": "markdown",
   "id": "e2fb4bcd",
   "metadata": {},
   "source": [
    "## Set the hparams, can pull these out of the info dictionary"
   ]
  },
  {
   "cell_type": "code",
   "execution_count": null,
   "id": "fc31e909",
   "metadata": {},
   "outputs": [],
   "source": [
    "info_path = dp.redirect('Final_Models',1).walk('.json')[1]"
   ]
  },
  {
   "cell_type": "code",
   "execution_count": null,
   "id": "cba4b363",
   "metadata": {},
   "outputs": [],
   "source": [
    "with open(info_path, 'r') as f:\n",
    "    info = json.load(f)"
   ]
  },
  {
   "cell_type": "code",
   "execution_count": null,
   "id": "085b1b1b",
   "metadata": {},
   "outputs": [],
   "source": [
    "info"
   ]
  },
  {
   "cell_type": "code",
   "execution_count": null,
   "id": "c8d888ef",
   "metadata": {},
   "outputs": [],
   "source": [
    "hparams= info['full']['hparams']"
   ]
  },
  {
   "cell_type": "code",
   "execution_count": null,
   "id": "e4cd40dc",
   "metadata": {},
   "outputs": [],
   "source": [
    "sample.set_model_data('/dls/science/groups/imaging/ePSIC_students/Andy_Bridger/mg28034-1/processing/Models/New','cnn',hparams['LAT'],use_generic_model = True)"
   ]
  },
  {
   "cell_type": "markdown",
   "id": "ca0b6ef0",
   "metadata": {},
   "source": [
    "### Check the model has built"
   ]
  },
  {
   "cell_type": "code",
   "execution_count": null,
   "id": "a911ede6",
   "metadata": {},
   "outputs": [],
   "source": [
    "model = create_vae_model(hparams)\n",
    "model.summary()"
   ]
  },
  {
   "cell_type": "markdown",
   "id": "8611fdc3",
   "metadata": {},
   "source": [
    "### Load in the trained weights"
   ]
  },
  {
   "cell_type": "markdown",
   "id": "4d01309f",
   "metadata": {},
   "source": [
    "best_model = mp.walk('.hdf5')[1]\n",
    "best_model"
   ]
  },
  {
   "cell_type": "code",
   "execution_count": null,
   "id": "58e56688",
   "metadata": {},
   "outputs": [],
   "source": [
    "model.load_weights('/dls/e02/data/2021/mg28749-1/processing/Calibrated/20210925_152115/FullModel/chk-250-3.23907e+02.hdf5')"
   ]
  },
  {
   "cell_type": "markdown",
   "id": "6f928615",
   "metadata": {},
   "source": [
    "### You now need to set the model to the sample "
   ]
  },
  {
   "cell_type": "code",
   "execution_count": null,
   "id": "f12a46e1",
   "metadata": {},
   "outputs": [],
   "source": [
    "sample.set_model(model)"
   ]
  },
  {
   "cell_type": "markdown",
   "id": "670a8f2e",
   "metadata": {},
   "source": [
    "### You can encode the data you pre-processed earlier (or will default to sample.raw_data)"
   ]
  },
  {
   "cell_type": "code",
   "execution_count": null,
   "id": "c52246ea",
   "metadata": {},
   "outputs": [],
   "source": [
    "sample.encode('vae',input_data_tag='full_ds')"
   ]
  },
  {
   "cell_type": "markdown",
   "id": "3807d05e",
   "metadata": {},
   "source": [
    "### You can inspect the reconstructed image and compare it to the raw data"
   ]
  },
  {
   "cell_type": "code",
   "execution_count": null,
   "id": "41bb0a27",
   "metadata": {},
   "outputs": [],
   "source": [
    "sample.inspect_model()"
   ]
  },
  {
   "cell_type": "code",
   "execution_count": null,
   "id": "c13ababa",
   "metadata": {},
   "outputs": [],
   "source": [
    "from skimage.metrics import structural_similarity as SSI\n",
    "from skimage.transform import PiecewiseAffineTransform, warp\n",
    "from sklearn.neighbors import NearestNeighbors as kNN\n",
    "\n",
    "def get_latgrid(sample, res=100):\n",
    "    xmin, xmax = np.floor(np.min(sample.encoded_data[:,0])), np.ceil(np.max(sample.encoded_data[:,0]))\n",
    "    ymin, ymax = np.floor(np.min(sample.encoded_data[:,1])), np.ceil(np.max(sample.encoded_data[:,1]))\n",
    "\n",
    "    latgrid_res = res\n",
    "\n",
    "    xgrid, ygrid = np.repeat(np.linspace(xmin, xmax, latgrid_res)[:,None],latgrid_res, axis = 1), np.repeat(np.linspace(ymin, ymax, latgrid_res)[None,:],latgrid_res, axis = 0)\n",
    "\n",
    "    return np.concatenate([xgrid[:,:,None], ygrid[:,:,None]],axis = 2)\n",
    "\n",
    "\n",
    "def batch_calc_grad(img, radial_kernel, decoded_data, weighting_func, bs=256):\n",
    "    ssi_ff = []\n",
    "    n_batches = int(np.ceil(img.shape[0]//bs))\n",
    "    batches = [img[i*bs:(i+1)*bs] for i in range(n_batches+1)]\n",
    "    dec_batches = [decoded_data[i*bs:(i+1)*bs] for i in range(n_batches+1)]\n",
    "    rs_batches = [b.reshape(b.shape[0]*b.shape[1]) for b in batches]\n",
    "    cart_rs_batches = [np.concatenate([b.real[:,None], b.imag[:,None]], axis = 1) for b in rs_batches]\n",
    "    for i, batch in enumerate(cart_rs_batches):\n",
    "        print(i, n_batches)\n",
    "        nimg = sample.model.decoder(batch).numpy()\n",
    "        rs_nimg = nimg.reshape((int(nimg.size/(img.shape[1]*128*128)), img.shape[1], 128, 128))\n",
    "        comp_patterns = dec_batches[i]\n",
    "        for x, dec_pat in enumerate(comp_patterns):\n",
    "            grad_ssi = np.asarray([weighting_func(dec_pat, y) for y in rs_nimg[x]])\n",
    "            ssi_ff.append(np.sum(grad_ssi*radial_kernel))\n",
    "    return np.asarray(ssi_ff)\n",
    "\n",
    "\n",
    "def SSI_weighting(img1, img2):\n",
    "    return 100*SSI(img1,img2)\n",
    "\n",
    "def get_mobile_points(nn_comp_enc,steps, prev_mp_locs = (), thresh = 'mean', relative_locs = False):\n",
    "    if thresh == 'mean':\n",
    "        thresh = np.mean(np.abs(steps))\n",
    "    if thresh == 'ten':\n",
    "        thresh = np.max(np.abs(steps))/10\n",
    "        print(thresh)\n",
    "        print(np.where(np.abs(steps) > thresh))\n",
    "    mp_locs = np.where(np.abs(steps) > thresh)\n",
    "    mobile_points = nn_comp_enc[mp_locs]\n",
    "    \n",
    "    if len(prev_mp_locs) != 0:\n",
    "        n_mp_locs = prev_mp_locs[mp_locs]\n",
    "        \n",
    "    if relative_locs == True:\n",
    "\n",
    "        return mobile_points, n_mp_locs, mp_locs\n",
    "    else:\n",
    "        return mobile_points, n_mp_locs\n",
    "\n",
    "def get_grad_and_decode_data(mobile_points, radial_kernel, r_scale_kernel = False, nn_scale = False):\n",
    "    if r_scale_kernel ==False:\n",
    "        grad_points = np.repeat(mobile_points[:,None], radial_kernel.shape[0], axis = 1) + radial_kernel[None, :]\n",
    "    else:\n",
    "        if nn_scale == False:\n",
    "            rf = np.round((np.abs(mobile_points)/np.abs(mobile_points).min()),0).astype('int')\n",
    "            grad_points = np.repeat(mobile_points[:,None], radial_kernel.shape[0], axis = 1) + r_scale_kernel*rf[:,None]*radial_kernel[None, :]\n",
    "        else:\n",
    "            sample_locs = np.concatenate((mobile_points.real[:,None], mobile_points.imag[:,None]), axis = 0)\n",
    "            nbrs = kNN(n_neighbors=1, algorithm='ball_tree').fit(sample_locs)\n",
    "            p_sep, indices = nbrs.kneighbors(sample_locs)\n",
    "            closest = p_sep.min()\n",
    "            norm_sep = p_sep/closest\n",
    "            grad_points = np.repeat(mobile_points[:,None], radial_kernel.shape[0], axis = 1) + r_scale_kernel*norm_sep[:,None]*radial_kernel[None, :]\n",
    "\n",
    "    dec_dat = get_terr_patts(np.concatenate([mobile_points.real[:,None], mobile_points.imag[:,None]],axis = 1))\n",
    "    return grad_points, dec_dat\n",
    "\n",
    "def sig_step_from_grad(d_gp, gradient_step, sigz=0.25, sigf=100):\n",
    "    grad_mag = np.abs(d_gp)\n",
    "\n",
    "    return sigmoid(grad_mag, sigz, sigf)*gradient_step*(d_gp/grad_mag) \n",
    "\n",
    "def norm_step_from_grad(d_gp, factor):\n",
    "    grad_mag = np.max(np.abs(d_gp))\n",
    "    \n",
    "    return (d_gp/grad_mag)*factor \n",
    "\n",
    "def sigmoid(z, sigz=0.25, sigf=100):\n",
    "    x = sigf*(z - sigz)\n",
    "    return np.exp(-np.logaddexp(0, -x))\n",
    "\n",
    "\n",
    "def adjust_encoding(mobile_points, grads, comp_enc, mp_locs):\n",
    "    X,Y  = mobile_points.real, mobile_points.imag\n",
    "\n",
    "    dX, dY = grads.real, grads.imag\n",
    "    U, V = X+dX, Y+dY\n",
    "\n",
    "    moved_points = U+1j*V\n",
    "\n",
    "    migrated_points = comp_enc.copy()\n",
    "\n",
    "    migrated_points[mp_locs] = moved_points\n",
    "    \n",
    "    return (X,Y), (U,V), migrated_points\n",
    "\n",
    "def get_terr_patts(img, bs =256):\n",
    "    n_batches = int(np.ceil(img.shape[0]//bs))\n",
    "    batches = [img[i*bs:(i+1)*bs] for i in range(n_batches+1)]\n",
    "    nimg = [sample.model.decoder(batch).numpy() for batch in batches]\n",
    "    return np.concatenate(nimg, axis = 0).reshape((img.shape[0], 128,128))"
   ]
  },
  {
   "cell_type": "code",
   "execution_count": null,
   "id": "eeb02915",
   "metadata": {},
   "outputs": [],
   "source": []
  },
  {
   "cell_type": "code",
   "execution_count": null,
   "id": "02dcf126",
   "metadata": {},
   "outputs": [],
   "source": [
    "latgrid = flatten_nav(get_latgrid(sample, res =250))"
   ]
  },
  {
   "cell_type": "code",
   "execution_count": null,
   "id": "a0d5680a",
   "metadata": {},
   "outputs": [],
   "source": [
    "comp_latgrid = latgrid[:,0] + 1j*latgrid[:,1]"
   ]
  },
  {
   "cell_type": "code",
   "execution_count": null,
   "id": "15278547",
   "metadata": {},
   "outputs": [],
   "source": [
    "plt.figure()\n",
    "plt.scatter(latgrid[:,0], latgrid[:,1])"
   ]
  },
  {
   "cell_type": "code",
   "execution_count": null,
   "id": "2d4c9e6d",
   "metadata": {},
   "outputs": [],
   "source": [
    "gradient_step = 0.01\n",
    "n_rsteps = 12"
   ]
  },
  {
   "cell_type": "code",
   "execution_count": null,
   "id": "8d10f23e",
   "metadata": {},
   "outputs": [],
   "source": [
    "radial_kernel = gradient_step* np.exp(1j*np.pi*(np.linspace(0, 360, n_rsteps+1)/180))[1:]"
   ]
  },
  {
   "cell_type": "code",
   "execution_count": null,
   "id": "7420a39f",
   "metadata": {},
   "outputs": [],
   "source": [
    "grad_p1, decdat1 = get_grad_and_decode_data(comp_latgrid, radial_kernel)"
   ]
  },
  {
   "cell_type": "code",
   "execution_count": null,
   "id": "1a5ce2c0",
   "metadata": {
    "scrolled": true
   },
   "outputs": [],
   "source": [
    "delta_gp1 = batch_calc_grad(grad_p1, radial_kernel, decdat1, SSI_weighting, 256)"
   ]
  },
  {
   "cell_type": "code",
   "execution_count": null,
   "id": "cb37041d",
   "metadata": {},
   "outputs": [],
   "source": [
    "def sig_step_from_grad(d_gp, gradient_step, sigz=0.25, sigf=100):\n",
    "    grad_mag = np.abs(d_gp)\n",
    "\n",
    "    return sigmoid(grad_mag, sigz, sigf)*gradient_step*(d_gp/grad_mag) \n",
    "\n",
    "def sigmoid(z, sigz=0.25, sigf=100):\n",
    "    x = sigf*(z - sigz)\n",
    "    return np.exp(-np.logaddexp(0, -x))\n",
    "\n",
    "def lin_thresh_step(d_gp, thresh, mag = 1):\n",
    "    scale = np.abs(d_gp)\n",
    "    return (np.where(scale>thresh, thresh, scale)/thresh)*(d_gp/scale)*mag\n",
    "\n",
    "def scaled_thresh_step(d_gp, thresh, mobile_points, mag):\n",
    "    sample_locs = np.concatenate((mobile_points.real[:,None], mobile_points.imag[:,None]), axis = 1)\n",
    "    nbrs = kNN(n_neighbors=5, algorithm='ball_tree').fit(sample_locs)\n",
    "    p_sep, indices = nbrs.kneighbors(sample_locs, n_neighbors = 2)\n",
    "    print(p_sep.shape, p_sep[:,0])\n",
    "    p_sep = p_sep[:,1]\n",
    "    closest = p_sep.min()\n",
    "    norm_sep = p_sep/closest\n",
    "    \n",
    "    scale = np.abs(d_gp)\n",
    "    return (np.where(scale>thresh, thresh, scale)/thresh)*(d_gp/scale)*norm_sep*mag"
   ]
  },
  {
   "cell_type": "code",
   "execution_count": null,
   "id": "4828852e",
   "metadata": {},
   "outputs": [],
   "source": [
    "linsteps = lin_thresh_step(delta_gp1, 0.001, 0.01)"
   ]
  },
  {
   "cell_type": "code",
   "execution_count": null,
   "id": "1a369280",
   "metadata": {},
   "outputs": [],
   "source": [
    "plt.figure()\n",
    "plt.plot(np.sort(np.abs(linsteps)))"
   ]
  },
  {
   "cell_type": "markdown",
   "id": "7ec6844f",
   "metadata": {},
   "source": [
    "sigmp = srss[int(srss.size//10)]\n",
    "sig_steps = sig_step_from_grad(delta_gp1,gradient_step, sigmp, 1e6)"
   ]
  },
  {
   "cell_type": "code",
   "execution_count": null,
   "id": "e8fd5458",
   "metadata": {},
   "outputs": [],
   "source": [
    "#steps1 = norm_step_from_grad(delta_gp1,gradient_step*100)\n",
    "op1, np1, current_ps1= adjust_encoding(comp_latgrid, linsteps, comp_latgrid, np.where(comp_latgrid != None))"
   ]
  },
  {
   "cell_type": "code",
   "execution_count": null,
   "id": "83047057",
   "metadata": {},
   "outputs": [],
   "source": [
    "plt.figure(figsize = (8,8))\n",
    "plt.scatter(op1[0], op1[1],s =20)\n",
    "plt.scatter(np1[0], np1[1],s =20)\n",
    "plt.scatter(sample.encoded_data[:,0], sample.encoded_data[:,1], s = 10, alpha = 0.2)"
   ]
  },
  {
   "cell_type": "code",
   "execution_count": null,
   "id": "c0a78f64",
   "metadata": {},
   "outputs": [],
   "source": [
    "o_latgrid = np.asarray(op1).T\n",
    "n_latgrid = np.asarray(np1).T"
   ]
  },
  {
   "cell_type": "code",
   "execution_count": null,
   "id": "cb05bcad",
   "metadata": {},
   "outputs": [],
   "source": [
    "tform = PiecewiseAffineTransform()\n",
    "tform.estimate(n_latgrid, o_latgrid)"
   ]
  },
  {
   "cell_type": "code",
   "execution_count": null,
   "id": "3373b4ed",
   "metadata": {},
   "outputs": [],
   "source": [
    "test_data = sample.encoded_data\n",
    "out_data = tform.inverse(test_data)"
   ]
  },
  {
   "cell_type": "code",
   "execution_count": null,
   "id": "58ecca54",
   "metadata": {},
   "outputs": [],
   "source": [
    "r_out_data = out_data\n",
    "refine_steps=[]\n",
    "for i in range(50):\n",
    "    r_out_data = tform.inverse(r_out_data)\n",
    "    refine_steps.append(r_out_data)"
   ]
  },
  {
   "cell_type": "code",
   "execution_count": null,
   "id": "b8e17c8e",
   "metadata": {},
   "outputs": [],
   "source": [
    "plt.figure()\n",
    "#plt.scatter(test_data[:,0], test_data[:,1], s =10)\n",
    "#plt.scatter(out_data[:,0], out_data[:,1], s =10)\n",
    "plt.scatter(r_out_data[:,0], r_out_data[:,1], s =10, alpha = 0.1)"
   ]
  },
  {
   "cell_type": "code",
   "execution_count": null,
   "id": "8b67fa61",
   "metadata": {},
   "outputs": [],
   "source": []
  },
  {
   "cell_type": "code",
   "execution_count": null,
   "id": "5aa072b8",
   "metadata": {},
   "outputs": [],
   "source": [
    "from matplotlib import animation, rc\n",
    "from IPython.display import HTML, Image"
   ]
  },
  {
   "cell_type": "code",
   "execution_count": null,
   "id": "f8421c1c",
   "metadata": {},
   "outputs": [],
   "source": [
    "rc('animation', html='html5')\n",
    "# First set up the figure, the axis, and the plot element we want to animate\n",
    "fig, ax = plt.subplots()\n",
    "\n",
    "ax.set_xlim(( -1, 1))\n",
    "ax.set_ylim((-1, 1))\n",
    "\n",
    "line, = ax.plot([], [], lw=2, ls = '', marker = 'o', alpha = 0.2)"
   ]
  },
  {
   "cell_type": "code",
   "execution_count": null,
   "id": "25cb2836",
   "metadata": {},
   "outputs": [],
   "source": [
    "def init():\n",
    "    line.set_data([], [])\n",
    "    return (line,)\n",
    "def animate(i):\n",
    "    d = refine_steps[i]\n",
    "    x,y = d[:,0], d[:,1]\n",
    "    line.set_data(x, y)\n",
    "    return (line,)\n",
    "# call the animator. blit=True means only re-draw the parts that \n",
    "# have changed.\n",
    "anim = animation.FuncAnimation(fig, animate, init_func=init,\n",
    "                               frames=50, interval=20, blit=True)"
   ]
  },
  {
   "cell_type": "code",
   "execution_count": null,
   "id": "b9fd008b",
   "metadata": {},
   "outputs": [],
   "source": [
    "anim"
   ]
  },
  {
   "cell_type": "code",
   "execution_count": null,
   "id": "f7d3dd40",
   "metadata": {},
   "outputs": [],
   "source": []
  },
  {
   "cell_type": "code",
   "execution_count": null,
   "id": "16de96c9",
   "metadata": {},
   "outputs": [],
   "source": []
  },
  {
   "cell_type": "code",
   "execution_count": null,
   "id": "ae1f421e",
   "metadata": {},
   "outputs": [],
   "source": [
    "comp_enc = sample.encoded_data[:,0] +1j*sample.encoded_data[:,1]"
   ]
  },
  {
   "cell_type": "code",
   "execution_count": null,
   "id": "e01112f0",
   "metadata": {},
   "outputs": [],
   "source": [
    "nrs, nts = 60,40\n",
    "max_r = np.max(np.abs(comp_enc))\n",
    "\n",
    "rs = np.linspace(0, max_r, nrs+1)[1:]\n",
    "ts = np.linspace(0, 2*np.pi, nts, endpoint = False)\n",
    "\n",
    "latspace = []\n",
    "\n",
    "for r in rs:\n",
    "    for t in ts:\n",
    "        latspace.append(r*np.exp(-1j*t))\n",
    "        \n",
    "latspace = np.asarray(latspace)"
   ]
  },
  {
   "cell_type": "code",
   "execution_count": null,
   "id": "3e9d5fef",
   "metadata": {},
   "outputs": [],
   "source": [
    "gradient_step_r = 0.015\n",
    "n_rsteps_r = 12\n",
    "\n",
    "radial_kernel_r = gradient_step_r* np.exp(1j*np.pi*(np.linspace(0, 360, n_rsteps_r+1)/180))[1:]"
   ]
  },
  {
   "cell_type": "code",
   "execution_count": null,
   "id": "23603ad6",
   "metadata": {},
   "outputs": [],
   "source": [
    "grad_p1_r, decdat1_r = get_grad_and_decode_data(latspace, radial_kernel_r, 0.01)"
   ]
  },
  {
   "cell_type": "code",
   "execution_count": null,
   "id": "83bbaded",
   "metadata": {},
   "outputs": [],
   "source": [
    "plt.figure()\n",
    "plt.scatter(latspace.real, latspace.imag)\n",
    "plt.scatter(flatten_nav(grad_p1_r).real, flatten_nav(grad_p1_r).imag)"
   ]
  },
  {
   "cell_type": "code",
   "execution_count": null,
   "id": "70376218",
   "metadata": {},
   "outputs": [],
   "source": []
  },
  {
   "cell_type": "code",
   "execution_count": null,
   "id": "0d5459cc",
   "metadata": {},
   "outputs": [],
   "source": []
  },
  {
   "cell_type": "code",
   "execution_count": null,
   "id": "cbc0d36b",
   "metadata": {},
   "outputs": [],
   "source": []
  },
  {
   "cell_type": "code",
   "execution_count": null,
   "id": "fcd43070",
   "metadata": {},
   "outputs": [],
   "source": [
    "delta_gp1_r = batch_calc_grad(grad_p1_r, radial_kernel_r, decdat1_r, SSI_weighting, 256)"
   ]
  },
  {
   "cell_type": "code",
   "execution_count": null,
   "id": "ca8d9333",
   "metadata": {},
   "outputs": [],
   "source": []
  },
  {
   "cell_type": "code",
   "execution_count": null,
   "id": "f212685b",
   "metadata": {
    "scrolled": true
   },
   "outputs": [],
   "source": [
    "sts = lin_thresh_step(delta_gp1_r, 0.001, 0.1)"
   ]
  },
  {
   "cell_type": "code",
   "execution_count": null,
   "id": "32662243",
   "metadata": {},
   "outputs": [],
   "source": [
    "sts"
   ]
  },
  {
   "cell_type": "code",
   "execution_count": null,
   "id": "84f455d0",
   "metadata": {},
   "outputs": [],
   "source": [
    "plt.figure()\n",
    "plt.plot(np.sort(np.abs(sts)))"
   ]
  },
  {
   "cell_type": "code",
   "execution_count": null,
   "id": "ea410923",
   "metadata": {},
   "outputs": [],
   "source": []
  },
  {
   "cell_type": "code",
   "execution_count": null,
   "id": "ae3cdd5b",
   "metadata": {},
   "outputs": [],
   "source": []
  },
  {
   "cell_type": "code",
   "execution_count": null,
   "id": "73763a94",
   "metadata": {},
   "outputs": [],
   "source": [
    "norm_step_r = delta_gp1_r/np.abs(delta_gp1_r).max()"
   ]
  },
  {
   "cell_type": "code",
   "execution_count": null,
   "id": "432b6858",
   "metadata": {},
   "outputs": [],
   "source": [
    "r_s_norm_step_r = (np.abs(latspace)/np.abs(latspace).min())*gradient_step_r*norm_step_r*100"
   ]
  },
  {
   "cell_type": "code",
   "execution_count": null,
   "id": "9cdef305",
   "metadata": {},
   "outputs": [],
   "source": [
    "r_s_step_r = np.where(np.abs(r_s_norm_step_r) > 0.01, (r_s_norm_step_r/np.abs(r_s_norm_step_r))*0.01, r_s_norm_step_r)"
   ]
  },
  {
   "cell_type": "code",
   "execution_count": null,
   "id": "2fac43e2",
   "metadata": {},
   "outputs": [],
   "source": [
    "op1r, np1r, current_ps1r = adjust_encoding(latspace, sts, latspace, np.where(latspace != None))"
   ]
  },
  {
   "cell_type": "code",
   "execution_count": null,
   "id": "3cba30bf",
   "metadata": {},
   "outputs": [],
   "source": [
    "plt.figure(figsize = (8,8))\n",
    "plt.scatter(op1r[0], op1r[1],s =20)\n",
    "plt.scatter(np1r[0], np1r[1],s =20)\n",
    "plt.scatter(sample.encoded_data[:,0], sample.encoded_data[:,1], s = 10, alpha = 0.2)"
   ]
  },
  {
   "cell_type": "code",
   "execution_count": null,
   "id": "67b45624",
   "metadata": {},
   "outputs": [],
   "source": []
  },
  {
   "cell_type": "code",
   "execution_count": null,
   "id": "cd13d668",
   "metadata": {},
   "outputs": [],
   "source": [
    "o_latspacer = np.asarray(op1r).T\n",
    "n_latspacer = np.asarray(np1r).T"
   ]
  },
  {
   "cell_type": "code",
   "execution_count": null,
   "id": "dd42fbb6",
   "metadata": {},
   "outputs": [],
   "source": [
    "tform2 = PiecewiseAffineTransform()\n",
    "tform2.estimate(n_latspacer, o_latspacer)"
   ]
  },
  {
   "cell_type": "code",
   "execution_count": null,
   "id": "a98c5d26",
   "metadata": {},
   "outputs": [],
   "source": [
    "out_data2r = tform2.inverse(r_out_data)\n",
    "\n",
    "r_out_data2 = out_data2r"
   ]
  },
  {
   "cell_type": "code",
   "execution_count": null,
   "id": "cb5d3986",
   "metadata": {},
   "outputs": [],
   "source": [
    "plt.figure()\n",
    "#plt.scatter(test_data[:,0], test_data[:,1], s =10)\n",
    "#plt.scatter(out_data[:,0], out_data[:,1], s =10)\n",
    "plt.scatter(r_out_data[:,0], r_out_data[:,1], s =10)\n",
    "plt.scatter(r_out_data2[:,0], r_out_data2[:,1], s =10)"
   ]
  },
  {
   "cell_type": "code",
   "execution_count": null,
   "id": "bd4179ed",
   "metadata": {},
   "outputs": [],
   "source": [
    "refine_steps2=[]\n",
    "\n",
    "for i in range(500):\n",
    "    r_out_data2 = tform2.inverse(r_out_data2)\n",
    "    refine_steps2.append(r_out_data2)"
   ]
  },
  {
   "cell_type": "code",
   "execution_count": null,
   "id": "cd1d8001",
   "metadata": {},
   "outputs": [],
   "source": [
    "plt.figure()\n",
    "plt.scatter(test_data[:,0], test_data[:,1], s =10)\n",
    "#plt.scatter(out_data[:,0], out_data[:,1], s =10)\n",
    "#plt.scatter(r_out_data[:,0], r_out_data[:,1], s =10)\n",
    "plt.scatter(r_out_data2[:,0], r_out_data2[:,1], s =10)"
   ]
  },
  {
   "cell_type": "code",
   "execution_count": null,
   "id": "14d111b5",
   "metadata": {},
   "outputs": [],
   "source": [
    "rc('animation', html='html5')\n",
    "# First set up the figure, the axis, and the plot element we want to animate\n",
    "figr, axr = plt.subplots()\n",
    "\n",
    "axr.set_xlim(( -1, 1))\n",
    "axr.set_ylim((-1, 1))\n",
    "\n",
    "liner, = axr.plot([], [], lw=2, ls = '', marker = 'o', alpha = 0.2)\n",
    "\n",
    "def init2():\n",
    "    liner.set_data([], [])\n",
    "    return (liner,)\n",
    "def animate2(i):\n",
    "    d = refine_steps2[i]\n",
    "    x,y = d[:,0], d[:,1]\n",
    "    liner.set_data(x, y)\n",
    "    return (liner,)\n",
    "# call the animator. blit=True means only re-draw the parts that \n",
    "# have changed.\n",
    "animr = animation.FuncAnimation(figr, animate2, init_func=init2,\n",
    "                               frames=100, interval=20, blit=True)"
   ]
  },
  {
   "cell_type": "code",
   "execution_count": null,
   "id": "afa2ae6f",
   "metadata": {},
   "outputs": [],
   "source": [
    "animr"
   ]
  },
  {
   "cell_type": "code",
   "execution_count": null,
   "id": "3af1c4bc",
   "metadata": {},
   "outputs": [],
   "source": [
    "from sklearn.cluster import DBSCAN"
   ]
  },
  {
   "cell_type": "code",
   "execution_count": null,
   "id": "23d414b1",
   "metadata": {},
   "outputs": [],
   "source": [
    "db = DBSCAN(eps = 0.05, min_samples= 10).fit_predict(r_out_data2)\n",
    "\n",
    "db.max()"
   ]
  },
  {
   "cell_type": "code",
   "execution_count": null,
   "id": "bfe80df0",
   "metadata": {},
   "outputs": [],
   "source": [
    "plt.figure()\n",
    "plt.imshow(db.reshape(255,255))"
   ]
  },
  {
   "cell_type": "code",
   "execution_count": null,
   "id": "a16f05bf",
   "metadata": {
    "scrolled": true
   },
   "outputs": [],
   "source": [
    "db.min()"
   ]
  },
  {
   "cell_type": "code",
   "execution_count": null,
   "id": "eb6f8dc5",
   "metadata": {},
   "outputs": [],
   "source": [
    "db += 1"
   ]
  },
  {
   "cell_type": "code",
   "execution_count": null,
   "id": "d47e7aae",
   "metadata": {},
   "outputs": [],
   "source": [
    "sample.all_maps['latwarp'] = db.reshape(255,255)"
   ]
  },
  {
   "cell_type": "code",
   "execution_count": null,
   "id": "5db9a985",
   "metadata": {},
   "outputs": [],
   "source": [
    "np.unique(sample.all_maps['latwarp'])"
   ]
  },
  {
   "cell_type": "code",
   "execution_count": null,
   "id": "8c46ad86",
   "metadata": {},
   "outputs": [],
   "source": [
    "sample.get_map_patterns('latwarp',method='mean', recompute = True)"
   ]
  },
  {
   "cell_type": "code",
   "execution_count": null,
   "id": "651ab789",
   "metadata": {
    "scrolled": true
   },
   "outputs": [],
   "source": [
    "sample.all_patterns['latwarp'].shape"
   ]
  },
  {
   "cell_type": "code",
   "execution_count": null,
   "id": "eba4c26c",
   "metadata": {},
   "outputs": [],
   "source": [
    "import itertools\n",
    "ssi_pair = []\n",
    "ssi_val = []\n",
    "for comb in itertools.combinations(np.arange(0,sample.all_patterns['latwarp'].shape[0]),2):\n",
    "    ssi_pair.append(comb)\n",
    "    ssi_val.append(SSI(sample.all_patterns['latwarp'][comb[0]],sample.all_patterns['latwarp'][comb[1]]))"
   ]
  },
  {
   "cell_type": "code",
   "execution_count": null,
   "id": "e106ebf6",
   "metadata": {},
   "outputs": [],
   "source": [
    "import networkx as nx\n",
    "\n",
    "def get_graph_from_connectivity(uthresh):\n",
    "    '''\n",
    "    uthresh: the connectivity matrix from which the graph can be generated\n",
    "    '''\n",
    "    g = nx.Graph()\n",
    "    inds_in_graph = np.unique(uthresh)\n",
    "    g.add_nodes_from(inds_in_graph)\n",
    "    g.add_edges_from(uthresh)\n",
    "    return g, inds_in_graph\n",
    "\n",
    "    \n",
    "def view_graph(g):\n",
    "    '''\n",
    "    g: Graph'''\n",
    "    plt.figure()\n",
    "    nx.draw(g, with_labels=True)\n",
    "    \n",
    "def get_connected_nodes(g1):\n",
    "    return list(nx.connected_components(g1))"
   ]
  },
  {
   "cell_type": "code",
   "execution_count": null,
   "id": "ab6fc2fe",
   "metadata": {},
   "outputs": [],
   "source": [
    "similarity_inds = np.where(np.asarray(ssi_val)>0.975)"
   ]
  },
  {
   "cell_type": "code",
   "execution_count": null,
   "id": "2fe0789c",
   "metadata": {},
   "outputs": [],
   "source": [
    "ssi_connect = np.asarray(ssi_pair)[similarity_inds]"
   ]
  },
  {
   "cell_type": "code",
   "execution_count": null,
   "id": "256b64bc",
   "metadata": {},
   "outputs": [],
   "source": [
    "g, ginds = get_graph_from_connectivity(ssi_connect)"
   ]
  },
  {
   "cell_type": "code",
   "execution_count": null,
   "id": "8d24666b",
   "metadata": {},
   "outputs": [],
   "source": [
    "view_graph(g)"
   ]
  },
  {
   "cell_type": "code",
   "execution_count": null,
   "id": "8808d540",
   "metadata": {
    "scrolled": true
   },
   "outputs": [],
   "source": [
    "con_nodes = get_connected_nodes(g)"
   ]
  },
  {
   "cell_type": "code",
   "execution_count": null,
   "id": "6a0dafff",
   "metadata": {},
   "outputs": [],
   "source": [
    "con_nodes"
   ]
  },
  {
   "cell_type": "code",
   "execution_count": null,
   "id": "3c682328",
   "metadata": {},
   "outputs": [],
   "source": [
    "all_nodes = list(range(sample.all_patterns['latwarp'].shape[0]))\n",
    "for each in con_nodes:\n",
    "    combine = list(each)\n",
    "    [all_nodes.pop(all_nodes.index(e)) for e in combine]"
   ]
  },
  {
   "cell_type": "code",
   "execution_count": null,
   "id": "81c557d2",
   "metadata": {},
   "outputs": [],
   "source": [
    "all_nodes"
   ]
  },
  {
   "cell_type": "code",
   "execution_count": null,
   "id": "32d06212",
   "metadata": {},
   "outputs": [],
   "source": [
    "blank = np.zeros_like(sample.all_maps['latwarp'])\n",
    "count = 1\n",
    "for nc_node in all_nodes:\n",
    "    blank += np.where(sample.all_maps['latwarp'] == nc_node, count, 0)\n",
    "    count += 1\n",
    "for each in con_nodes:\n",
    "    combine = list(each)\n",
    "    for c_node in combine:\n",
    "        blank += np.where(sample.all_maps['latwarp'] == c_node, count, 0)\n",
    "    count += 1\n"
   ]
  },
  {
   "cell_type": "code",
   "execution_count": null,
   "id": "1fc194c6",
   "metadata": {},
   "outputs": [],
   "source": [
    "refine_latwarp1 = blank -1"
   ]
  },
  {
   "cell_type": "code",
   "execution_count": null,
   "id": "5f666db7",
   "metadata": {},
   "outputs": [],
   "source": [
    "np.unique(refine_latwarp1)"
   ]
  },
  {
   "cell_type": "code",
   "execution_count": null,
   "id": "46053b38",
   "metadata": {},
   "outputs": [],
   "source": [
    "sample.all_maps['refine_latwarp1'] = refine_latwarp1"
   ]
  },
  {
   "cell_type": "code",
   "execution_count": null,
   "id": "c929bd5c",
   "metadata": {},
   "outputs": [],
   "source": [
    "sample.imshow(None, 'refine_latwarp1')"
   ]
  },
  {
   "cell_type": "code",
   "execution_count": null,
   "id": "93d707aa",
   "metadata": {},
   "outputs": [],
   "source": [
    "sample.get_map_patterns('refine_latwarp1', method = 'mean', recompute = True)"
   ]
  },
  {
   "cell_type": "code",
   "execution_count": null,
   "id": "73574bbb",
   "metadata": {},
   "outputs": [],
   "source": [
    "outliers = np.where(sample.all_maps['refine_latwarp1'] == 0)"
   ]
  },
  {
   "cell_type": "code",
   "execution_count": null,
   "id": "c6e8c04f",
   "metadata": {},
   "outputs": [],
   "source": [
    "outliers = np.asarray(outliers).T"
   ]
  },
  {
   "cell_type": "code",
   "execution_count": null,
   "id": "3e150416",
   "metadata": {},
   "outputs": [],
   "source": [
    "n_clust = []\n",
    "for o in outliers:\n",
    "    patt = sample.raw_data.data[o[0], o[1]]\n",
    "    ssis = np.asarray([SSI(patt, cpatt) for cpatt in sample.all_patterns['refine_latwarp1'][1:]])\n",
    "    n_clust.append(np.argmax(ssis) + 1)\n",
    "    "
   ]
  },
  {
   "cell_type": "code",
   "execution_count": null,
   "id": "cb92a2af",
   "metadata": {},
   "outputs": [],
   "source": [
    "n_clust = np.asarray(n_clust)"
   ]
  },
  {
   "cell_type": "code",
   "execution_count": null,
   "id": "c3eafb1c",
   "metadata": {},
   "outputs": [],
   "source": [
    "refine_latwarp2 = sample.all_maps['refine_latwarp1'].copy()"
   ]
  },
  {
   "cell_type": "code",
   "execution_count": null,
   "id": "c877cc32",
   "metadata": {},
   "outputs": [],
   "source": [
    "refine_latwarp2[[outliers.T[0],outliers.T[1]]] = n_clust"
   ]
  },
  {
   "cell_type": "code",
   "execution_count": null,
   "id": "a2674187",
   "metadata": {},
   "outputs": [],
   "source": [
    "sample.all_maps['refine_latwarp2'] = refine_latwarp2 -1 "
   ]
  },
  {
   "cell_type": "markdown",
   "id": "1a75fbf7",
   "metadata": {},
   "source": [
    "np.save('/dls/science/groups/imaging/ePSIC_students/latwarp_cluster.npy', sample.all_maps['refine_latwarp2'])"
   ]
  },
  {
   "cell_type": "markdown",
   "id": "3f47504a",
   "metadata": {},
   "source": [
    "sample.all_maps['refine_latwarp2'] = np.load('/dls/science/groups/imaging/ePSIC_students/latwarp_cluster.npy')"
   ]
  },
  {
   "cell_type": "code",
   "execution_count": null,
   "id": "d5955695",
   "metadata": {},
   "outputs": [],
   "source": [
    "sample.imshow(None, 'refine_latwarp2')"
   ]
  },
  {
   "cell_type": "code",
   "execution_count": null,
   "id": "a1a90fb9",
   "metadata": {},
   "outputs": [],
   "source": [
    "plt.figure(figsize = (8,8))\n",
    "plt.scatter(sample.encoded_data[:,0], sample.encoded_data[:,1], c = flatten_nav(sample.all_maps['refine_latwarp1']), cmap= 'turbo', s = 10)"
   ]
  },
  {
   "cell_type": "code",
   "execution_count": null,
   "id": "0775d13d",
   "metadata": {},
   "outputs": [],
   "source": [
    "sample.get_map_patterns('refine_latwarp2', method = 'mean', recompute=True)"
   ]
  },
  {
   "cell_type": "code",
   "execution_count": null,
   "id": "91dd4dde",
   "metadata": {},
   "outputs": [],
   "source": [
    "### View the patterns and their associated regions\n",
    "\n",
    "show_cluster_patterns(sample, 'refine_latwarp2').plot()"
   ]
  },
  {
   "cell_type": "code",
   "execution_count": null,
   "id": "e944b2ba",
   "metadata": {},
   "outputs": [],
   "source": [
    "### View a signal boosted representation of the sample\n",
    "\n",
    "sbs = signal_boosted_scan(sample, 'refine_latwarp2')\n",
    "\n",
    "sbs.plot()"
   ]
  },
  {
   "cell_type": "code",
   "execution_count": null,
   "id": "d1787e8c",
   "metadata": {},
   "outputs": [],
   "source": [
    "unique_regions = [np.asarray(np.where(sample.all_maps['refine_latwarp2'] == x))[:,0] for x in np.unique(sample.all_maps['refine_latwarp2'])]\n",
    "\n",
    "f = inv_sbs(sbs, tag='refine_latwarp2', return_fig=True, vmax = 0.1)"
   ]
  },
  {
   "cell_type": "code",
   "execution_count": null,
   "id": "046ae6a3",
   "metadata": {},
   "outputs": [],
   "source": [
    "figp = '/dls/science/groups/imaging/ePSIC_students/Andy_Bridger/Latspace_Clustering'"
   ]
  },
  {
   "cell_type": "code",
   "execution_count": null,
   "id": "a35f3095",
   "metadata": {},
   "outputs": [],
   "source": [
    "time_stamp = str(dp).split('/')[-2]"
   ]
  },
  {
   "cell_type": "code",
   "execution_count": null,
   "id": "c39771b6",
   "metadata": {},
   "outputs": [],
   "source": [
    "for i, ur in enumerate(unique_regions):\n",
    "    f = inv_sbs(sbs,'refine_latwarp2', ur, return_fig=True, vmax = 0.1)\n",
    "    f.savefig(str(figp)+f'/{time_stamp}-region-{i}-vmax0.01.jpg', dpi = 200)"
   ]
  },
  {
   "cell_type": "code",
   "execution_count": null,
   "id": "031d3367",
   "metadata": {},
   "outputs": [],
   "source": []
  },
  {
   "cell_type": "code",
   "execution_count": null,
   "id": "629dfd86",
   "metadata": {},
   "outputs": [],
   "source": [
    "def sig_step_from_grad(d_gp, gradient_step, sigz=0.25, sigf=100):\n",
    "    grad_mag = np.abs(d_gp)\n",
    "\n",
    "    return sigmoid(grad_mag, sigz, sigf)*gradient_step*(d_gp/grad_mag) \n",
    "\n",
    "def sigmoid(z, sigz=0.25, sigf=100):\n",
    "    x = sigf*(z - sigz)\n",
    "    return np.exp(-np.logaddexp(0, -x))\n",
    "\n",
    "def lin_thresh_step(d_gp, thresh, mag = 1):\n",
    "    scale = np.abs(d_gp)\n",
    "    return (np.where(scale>thresh, thresh, scale)/thresh)*(d_gp/scale)*mag\n",
    "\n",
    "def scaled_thresh_step(d_gp, thresh, mobile_points, mag):\n",
    "    sample_locs = np.concatenate((mobile_points.real[:,None], mobile_points.imag[:,None]), axis = 1)\n",
    "    nbrs = kNN(n_neighbors=5, algorithm='ball_tree').fit(sample_locs)\n",
    "    p_sep, indices = nbrs.kneighbors(sample_locs, n_neighbors = 2)\n",
    "    print(p_sep.shape, p_sep[:,0])\n",
    "    p_sep = p_sep[:,1]\n",
    "    closest = p_sep.min()\n",
    "    norm_sep = p_sep/closest\n",
    "    \n",
    "    scale = np.abs(d_gp)\n",
    "    return (np.where(scale>thresh, thresh, scale)/thresh)*(d_gp/scale)*norm_sep*mag\n",
    "\n",
    "\n",
    "from sklearn.neighbors import KernelDensity\n",
    "def get_density_net(sample, n_samples, n_bkg_samples, density_approx = 10,  bandwidth=0.5):\n",
    "    D = sample.encoded_data.copy()\n",
    "    np.random.shuffle(D)\n",
    "    D = D[::density_approx]\n",
    "    kde = KernelDensity(kernel='gaussian', bandwidth=bandwidth).fit(D)\n",
    "    R = kde.sample(n_samples)\n",
    "    \n",
    "    \n",
    "    \n",
    "    xmin, xmax = np.floor(np.min(sample.encoded_data[:,0])), np.ceil(np.max(sample.encoded_data[:,0]))\n",
    "    ymin, ymax = np.floor(np.min(sample.encoded_data[:,1])), np.ceil(np.max(sample.encoded_data[:,1]))\n",
    "    xmean, ymean = np.mean((xmin, xmax)), np.mean((ymin, ymax))  \n",
    "    s_samples = 2*np.random.random((n_bkg_samples, 2)) - 1\n",
    "    \n",
    "    s_samples = s_samples - np.array((xmean, ymean))\n",
    "    s_samples[:,0] *= np.abs((xmax - xmean))\n",
    "    s_samples[:,1] *= np.abs((xmax - xmean))\n",
    "    \n",
    "    return np.concatenate((R, s_samples), axis = 0)\n",
    "\n",
    "import sklearn.metrics.cluster as cmet\n",
    "\n",
    "def get_map_label_df(map1):\n",
    "    return np.asarray([np.where(map1 == uinds, 1, 0) for uinds in np.unique(map1)])\n",
    "\n",
    "def get_cluster_label_overlap(map_pair):\n",
    "    db1_df,db2_df = map_pair\n",
    "    label_overlap = np.zeros((db1_df.shape[0], db2_df.shape[0]))\n",
    "    for i, idf in enumerate(db1_df):\n",
    "        for j, jdf in enumerate(db2_df):\n",
    "            label_overlap[i,j] = np.sum(db1_df[i] * db2_df[j])/ np.sum(db1_df[i])\n",
    "    return label_overlap\n",
    "\n",
    "def find_map_label(pos, map1):\n",
    "    return map1[pos]\n",
    "\n",
    "def get_confidence_from_maps(maps):\n",
    "    dfs = [x for x in map(get_map_label_df, maps)]\n",
    "\n",
    "    cluster_overlaps = [x for x in map(get_cluster_label_overlap, [x for x in itertools.permutations(dfs, 2)])]\n",
    "\n",
    "    overlap_inds = [x for x in itertools.permutations(np.arange(len(maps)), 2)]\n",
    "\n",
    "    overlap_inds\n",
    "\n",
    "    len(cluster_overlaps)\n",
    "\n",
    "    confidence = np.zeros_like(map1, dtype='float32')\n",
    "    for point in range(len(map1)):\n",
    "        labels = [i for i in map(find_map_label, np.repeat(point, len(maps)) , maps)]\n",
    "        total = 0\n",
    "        for cind, oinds in enumerate(overlap_inds):\n",
    "            l1, l2 = labels[oinds[0]], labels[oinds[1]]\n",
    "            total+=cluster_overlaps[cind][l1, l2]\n",
    "        mean = total/len(overlap_inds)\n",
    "        confidence[point] = mean\n",
    "    return confidence\n",
    "\n",
    "\n",
    "\n",
    "def refine_based_on_density(sample, density_approx = 5, bw = 0.4, n_sample_points = 2500, \n",
    "                            n_bkg_points = 500, show_net = True, rand_gradient_step = 0.01,\n",
    "                           rand_n_rsteps = 12, step_scale = 0.01, step_thresh = 0.001,\n",
    "                           show_step_size = True, show_net_movement= True, show_first_refinement = False,\n",
    "                           n_refine_steps = 200, show_refinement = True, animate_refinement = True):\n",
    "    \n",
    "    '''\n",
    "    sample: ProcessedSample with the encoded data\n",
    "    density_approx: the number of skips to take of randomly shuffed encoded data to approximate the density (default - 10)\n",
    "    bw: bandwidth for the density approximation (default - 0.3)\n",
    "    n_sample_points: number of net points to sample from the desnity distribution (default - 4000)\n",
    "    n_bkg_points: number of net points to sample uniformly (default - 1000)\n",
    "    show_net: Show the positions of the net points (default - True)\n",
    "    rand_gradient_step: The distance around net points to sample for gradient approximation (default - 0.01)\n",
    "    rand_n_rsteps: The number of radial samples around net points to sample for grad approx (default - 12)\n",
    "    step_scale: The magnitude of the largest steps you want in net movement (default - 0.01)\n",
    "    step_thresh: The gradient cut-off, above which, the step size == step_scale (default - 0.001)\n",
    "    show_step_size: Show a graph of the distribution of step sizes (default - True)\n",
    "    show_net_movement: Show how the net points have distorted (default - True)\n",
    "    show_first_refinement: Show how the sample points have moved after one step (default - True)\n",
    "    n_refine_steps: Number of refinement steps to run (default - 500)\n",
    "    show_refinement: Show how the sample points have moved after n steps (default - True)\n",
    "    animate_refinement: Show an animation of the refinement process (default - True)\n",
    "    '''\n",
    "    \n",
    "    #create a dictionary to hold some data that might be useful to return\n",
    "    accessory_dict = {}\n",
    "    \n",
    "    #get a density based net\n",
    "    R = get_density_net(sample, n_sample_points, n_bkg_points, density_approx, bw)\n",
    "    accessory_dict['net'] = R\n",
    "    \n",
    "    #view the point distribution\n",
    "    if show_net == True:\n",
    "        plt.figure()\n",
    "        plt.scatter(sample.encoded_data[:,0], sample.encoded_data[:,1], s = 10)\n",
    "        plt.scatter(R[:,0], R[:,1], s = 20)\n",
    "    \n",
    "    #get all the sample points for the gradient \n",
    "    rand_latspace = R[:,0] + 1j*R[:,1]\n",
    "    rand_radial_kernel = rand_gradient_step* np.exp(1j*np.pi*(np.linspace(0, 360, rand_n_rsteps+1)/180))[1:]\n",
    "    rand_grad_p1, rand_decdat1 = get_grad_and_decode_data(rand_latspace, rand_radial_kernel)\n",
    "    \n",
    "    #calculate the gradients\n",
    "    rand_delta_gp1 = batch_calc_grad(rand_grad_p1, rand_radial_kernel, rand_decdat1, SSI_weighting, 256)\n",
    "    accessory_dict['grads'] = rand_delta_gp1\n",
    "    \n",
    "    #scale the gradients for step sizes\n",
    "    rand_linsteps = lin_thresh_step(rand_delta_gp1, step_thresh, step_scale)\n",
    "    if show_step_size == True:\n",
    "        plt.figure()\n",
    "        plt.plot(np.sort(np.abs(rand_linsteps)))\n",
    "    accessory_dict['steps'] = rand_linsteps\n",
    "    \n",
    "    #adjust the net points\n",
    "    rand_op1, rand_np1, rand_current_ps1= adjust_encoding(rand_latspace, rand_linsteps, rand_latspace, np.where(rand_latspace != None))\n",
    "    accessory_dict['net_displacement'] = rand_np1\n",
    "    if show_net_movement == True:\n",
    "        plt.figure(figsize = (8,8))\n",
    "        plt.scatter(rand_op1[0], rand_op1[1],s =20)\n",
    "        plt.scatter(rand_np1[0], rand_np1[1],s =20)\n",
    "        plt.scatter(sample.encoded_data[:,0], sample.encoded_data[:,1], s = 10, alpha = 0.2)\n",
    "    #refine the points once\n",
    "    test_data = sample.encoded_data.copy()\n",
    "\n",
    "    rand_o_latspacer = np.asarray(rand_op1).T\n",
    "    rand_n_latspacer = np.asarray(rand_np1).T\n",
    "\n",
    "    rand_tform2 = PiecewiseAffineTransform()\n",
    "    accessory_dict['transform'] = rand_tform2\n",
    "    rand_tform2.estimate(rand_n_latspacer, rand_o_latspacer)\n",
    "\n",
    "    rand_out_data2 = rand_tform2.inverse(test_data)\n",
    "    \n",
    "    accessory_dict['first_refinement'] = rand_out_data2.copy()\n",
    "\n",
    "    if show_first_refinement == True:\n",
    "        plt.figure()\n",
    "        plt.scatter(test_data[:,0], test_data[:,1], s =10)\n",
    "        plt.scatter(rand_out_data2[:,0], rand_out_data2[:,1], s =10)\n",
    "        \n",
    "    rand_refine_steps2=[]\n",
    "\n",
    "    for i in range(n_refine_steps):\n",
    "        rand_out_data2 = rand_tform2.inverse(rand_out_data2)\n",
    "        rand_refine_steps2.append(rand_out_data2)\n",
    "    \n",
    "    if show_refinement == True:\n",
    "        plt.figure()\n",
    "        plt.scatter(test_data[:,0], test_data[:,1], s =10)\n",
    "        #plt.scatter(out_data[:,0], out_data[:,1], s =10)\n",
    "        plt.scatter(rand_out_data2[:,0], rand_out_data2[:,1], s =10)\n",
    "        \n",
    "    accessory_dict['refinement_steps'] = rand_refine_steps2\n",
    "\n",
    "    \n",
    "    if animate_refinement == True:\n",
    "        # First set up the figure, the axis, and the plot element we want to animate\n",
    "        figr3, axr3 = plt.subplots()\n",
    "\n",
    "        axr3.set_xlim(( -1, 1))\n",
    "        axr3.set_ylim((-1, 1))\n",
    "\n",
    "        liner3, = axr3.plot([], [], lw=2, ls = '', marker = 'o', alpha = 0.2)\n",
    "\n",
    "        def init3():\n",
    "            liner3.set_data([], [])\n",
    "            return (liner,)\n",
    "        def animate3(i):\n",
    "            d3 = rand_refine_steps2[i]\n",
    "            x3,y3 = d3[:,0], d3[:,1]\n",
    "            liner3.set_data(x3, y3)\n",
    "            return (liner3,)\n",
    "        # call the animator. blit=True means only re-draw the parts that \n",
    "        # have changed.\n",
    "        animr3 = animation.FuncAnimation(figr3, animate3, init_func=init3,\n",
    "                                       frames=1250, interval=20, blit=True)\n",
    "        accessory_dict['animation'] = animr3\n",
    "    return rand_out_data2, accessory_dict\n",
    "        "
   ]
  },
  {
   "cell_type": "code",
   "execution_count": null,
   "id": "a44bad84",
   "metadata": {},
   "outputs": [],
   "source": []
  },
  {
   "cell_type": "code",
   "execution_count": null,
   "id": "59e5bec0",
   "metadata": {},
   "outputs": [],
   "source": []
  },
  {
   "cell_type": "markdown",
   "id": "d8be3cd7",
   "metadata": {},
   "source": [
    "# Optimize Parameters"
   ]
  },
  {
   "cell_type": "markdown",
   "id": "ee3f8f5e",
   "metadata": {},
   "source": [
    "### params:"
   ]
  },
  {
   "cell_type": "code",
   "execution_count": null,
   "id": "b9350997",
   "metadata": {},
   "outputs": [],
   "source": [
    "density_approx = 5\n",
    "bw = 1\n",
    "n_sample_points = 1000\n",
    "n_bkg_points = 50"
   ]
  },
  {
   "cell_type": "markdown",
   "id": "3abfc7c9",
   "metadata": {},
   "source": [
    "### process:"
   ]
  },
  {
   "cell_type": "code",
   "execution_count": null,
   "id": "3f7b0428",
   "metadata": {},
   "outputs": [],
   "source": [
    "D = sample.encoded_data.copy()\n",
    "\n",
    "np.random.shuffle(D)\n",
    "\n",
    "D = D[::density_approx]"
   ]
  },
  {
   "cell_type": "code",
   "execution_count": null,
   "id": "826412f5",
   "metadata": {},
   "outputs": [],
   "source": [
    "D.shape"
   ]
  },
  {
   "cell_type": "code",
   "execution_count": null,
   "id": "02977bf9",
   "metadata": {},
   "outputs": [],
   "source": [
    "plt.figure()\n",
    "plt.scatter(D[:,0], D[:,1])"
   ]
  },
  {
   "cell_type": "code",
   "execution_count": null,
   "id": "b9a1aac2",
   "metadata": {},
   "outputs": [],
   "source": [
    "from sklearn.neighbors import KernelDensity\n",
    "kde = KernelDensity(kernel='gaussian', bandwidth=bw).fit(D)"
   ]
  },
  {
   "cell_type": "code",
   "execution_count": null,
   "id": "465e4e5d",
   "metadata": {},
   "outputs": [],
   "source": [
    "xgrid = np.linspace(-3,3,100)\n",
    "ygrid = np.linspace(-3,3,100)\n",
    "X,Y = np.meshgrid(xgrid, ygrid)\n",
    "xy = np.vstack((X.ravel(), Y.ravel())).T"
   ]
  },
  {
   "cell_type": "code",
   "execution_count": null,
   "id": "363cae08",
   "metadata": {},
   "outputs": [],
   "source": [
    "xy.shape"
   ]
  },
  {
   "cell_type": "code",
   "execution_count": null,
   "id": "3b39f426",
   "metadata": {},
   "outputs": [],
   "source": [
    "Z = kde.score_samples(xy).reshape(X.shape)"
   ]
  },
  {
   "cell_type": "code",
   "execution_count": null,
   "id": "ccd85084",
   "metadata": {},
   "outputs": [],
   "source": [
    "plt.figure()\n",
    "plt.contourf(X,Y,Z, levels = np.linspace(Z.min(), Z.max(), 50))"
   ]
  },
  {
   "cell_type": "code",
   "execution_count": null,
   "id": "ea4b2f5e",
   "metadata": {},
   "outputs": [],
   "source": [
    "R = get_density_grid(sample, n_sample_points, n_bkg_points, bw)"
   ]
  },
  {
   "cell_type": "markdown",
   "id": "1b5f5de8",
   "metadata": {},
   "source": [
    "### optmise the net point distribution here:"
   ]
  },
  {
   "cell_type": "code",
   "execution_count": null,
   "id": "a10aa79b",
   "metadata": {},
   "outputs": [],
   "source": [
    "plt.figure()\n",
    "plt.scatter(sample.encoded_data[:,0], sample.encoded_data[:,1], s = 10)\n",
    "plt.scatter(R[:,0], R[:,1], s = 20)"
   ]
  },
  {
   "cell_type": "markdown",
   "id": "f7f500ab",
   "metadata": {},
   "source": [
    "##### Note the fewer net points the faster it will be (both for gradient calculation but also the refinement iterations)"
   ]
  },
  {
   "cell_type": "code",
   "execution_count": null,
   "id": "db6610b6",
   "metadata": {},
   "outputs": [],
   "source": [
    "n_sample_points + n_bkg_points"
   ]
  },
  {
   "cell_type": "markdown",
   "id": "f07b59ae",
   "metadata": {},
   "source": [
    "Next "
   ]
  },
  {
   "cell_type": "markdown",
   "id": "7b6a2ee0",
   "metadata": {},
   "source": [
    "### params:"
   ]
  },
  {
   "cell_type": "code",
   "execution_count": null,
   "id": "edea7b6c",
   "metadata": {},
   "outputs": [],
   "source": [
    "rand_gradient_step = 0.01\n",
    "rand_n_rsteps = 12\n",
    "step_scale = 0.015\n",
    "step_thresh = 0.001,"
   ]
  },
  {
   "cell_type": "markdown",
   "id": "4d475c89",
   "metadata": {},
   "source": [
    "### process:"
   ]
  },
  {
   "cell_type": "code",
   "execution_count": null,
   "id": "a8754b6f",
   "metadata": {},
   "outputs": [],
   "source": [
    "rand_latspace = R[:,0] + 1j*R[:,1]\n",
    "\n",
    "rand_radial_kernel = rand_gradient_step* np.exp(1j*np.pi*(np.linspace(0, 360, rand_n_rsteps+1)/180))[1:]\n",
    "\n",
    "rand_grad_p1, rand_decdat1 = get_grad_and_decode_data(rand_latspace, rand_radial_kernel)\n",
    "\n",
    "rand_delta_gp1 = batch_calc_grad(rand_grad_p1, rand_radial_kernel, rand_decdat1, SSI_weighting, 256)"
   ]
  },
  {
   "cell_type": "code",
   "execution_count": null,
   "id": "96e84b6f",
   "metadata": {},
   "outputs": [],
   "source": [
    "rand_linsteps = lin_thresh_step(rand_delta_gp1, step_thresh, step_scale)\n",
    "\n",
    "plt.figure()\n",
    "plt.plot(np.sort(np.abs(rand_linsteps)))"
   ]
  },
  {
   "cell_type": "code",
   "execution_count": null,
   "id": "5f0b955f",
   "metadata": {},
   "outputs": [],
   "source": [
    "#steps1 = norm_step_from_grad(delta_gp1,gradient_step*100)\n",
    "rand_op1, rand_np1, rand_current_ps1= adjust_encoding(rand_latspace, rand_linsteps, rand_latspace, np.where(rand_latspace != None))\n",
    "test_data = sample.encoded_data.copy()\n",
    "\n",
    "rand_o_latspacer = np.asarray(rand_op1).T\n",
    "rand_n_latspacer = np.asarray(rand_np1).T\n",
    "\n",
    "rand_tform2 = PiecewiseAffineTransform()\n",
    "rand_tform2.estimate(rand_n_latspacer, rand_o_latspacer)\n",
    "\n",
    "rand_out_data2 = rand_tform2.inverse(test_data)\n",
    "\n",
    "rand_out_data2 = rand_out_data2"
   ]
  },
  {
   "cell_type": "markdown",
   "id": "f1f7b4b1",
   "metadata": {},
   "source": [
    "### Optimse the movement of net points based on steps:"
   ]
  },
  {
   "cell_type": "code",
   "execution_count": null,
   "id": "b21674fc",
   "metadata": {},
   "outputs": [],
   "source": [
    "plt.figure(figsize = (8,8))\n",
    "plt.scatter(sample.encoded_data[:,0], sample.encoded_data[:,1], s = 10, alpha = 0.2, c = 'grey')\n",
    "plt.scatter(rand_op1[0], rand_op1[1],s =20, c='blue')\n",
    "plt.scatter(rand_np1[0], rand_np1[1],s =20, c ='orange')"
   ]
  },
  {
   "cell_type": "markdown",
   "id": "38989d25",
   "metadata": {},
   "source": [
    "### Optimise the effect on the encoded data:"
   ]
  },
  {
   "cell_type": "code",
   "execution_count": null,
   "id": "1a06e6bc",
   "metadata": {},
   "outputs": [],
   "source": [
    "plt.figure()\n",
    "plt.scatter(test_data[:,0], test_data[:,1], s =10)\n",
    "#plt.scatter(out_data[:,0], out_data[:,1], s =10)\n",
    "plt.scatter(rand_out_data2[:,0], rand_out_data2[:,1], s =10)"
   ]
  },
  {
   "cell_type": "markdown",
   "id": "1f5fd3ad",
   "metadata": {},
   "source": [
    "Next"
   ]
  },
  {
   "cell_type": "markdown",
   "id": "26390174",
   "metadata": {},
   "source": [
    "### params:"
   ]
  },
  {
   "cell_type": "code",
   "execution_count": null,
   "id": "15498574",
   "metadata": {},
   "outputs": [],
   "source": [
    "n_refine_steps = 1000"
   ]
  },
  {
   "cell_type": "markdown",
   "id": "31ed2893",
   "metadata": {},
   "source": [
    "### process:"
   ]
  },
  {
   "cell_type": "code",
   "execution_count": null,
   "id": "176d6ded",
   "metadata": {
    "scrolled": true
   },
   "outputs": [],
   "source": [
    "rand_refine_steps2=[]\n",
    "\n",
    "import time\n",
    "t1 = time.time()\n",
    "for i in range(n_refine_steps):\n",
    "    rand_out_data2 = rand_tform2.inverse(rand_out_data2)\n",
    "    rand_refine_steps2.append(rand_out_data2)\n",
    "print(time.time() - t1)"
   ]
  },
  {
   "cell_type": "code",
   "execution_count": null,
   "id": "9263b50d",
   "metadata": {},
   "outputs": [],
   "source": [
    "plt.figure()\n",
    "plt.scatter(test_data[:,0], test_data[:,1], s =10)\n",
    "#plt.scatter(out_data[:,0], out_data[:,1], s =10)\n",
    "plt.scatter(rand_out_data2[:,0], rand_out_data2[:,1], s =10)"
   ]
  },
  {
   "cell_type": "markdown",
   "id": "ad1ea2d2",
   "metadata": {},
   "source": [
    "np.save('/dls/science/groups/imaging/ePSIC_students/Al_alloy_4DSTEM_EM19064-2/refine_enc_positions_4.npy', rand_out_data2)"
   ]
  },
  {
   "cell_type": "markdown",
   "id": "d2809753",
   "metadata": {},
   "source": [
    "### Optimise the refinement:"
   ]
  },
  {
   "cell_type": "code",
   "execution_count": null,
   "id": "2c6f8475",
   "metadata": {},
   "outputs": [],
   "source": [
    "# First set up the figure, the axis, and the plot element we want to animate\n",
    "figr3, axr3 = plt.subplots()\n",
    "\n",
    "axr3.set_xlim(( -1, 1))\n",
    "axr3.set_ylim((-1, 1))\n",
    "\n",
    "liner3, = axr3.plot([], [], lw=2, ls = '', marker = 'o', alpha = 0.2)\n",
    "\n",
    "def init3():\n",
    "    liner3.set_data([], [])\n",
    "    return (liner,)\n",
    "def animate3(i):\n",
    "    d3 = rand_refine_steps2[i]\n",
    "    x3,y3 = d3[:,0], d3[:,1]\n",
    "    liner3.set_data(x3, y3)\n",
    "    return (liner3,)\n",
    "# call the animator. blit=True means only re-draw the parts that \n",
    "# have changed.\n",
    "animr3 = animation.FuncAnimation(figr3, animate3, init_func=init3,\n",
    "                               frames=100, interval=20, blit=True)"
   ]
  },
  {
   "cell_type": "code",
   "execution_count": null,
   "id": "fa40a815",
   "metadata": {},
   "outputs": [],
   "source": [
    "animr3"
   ]
  },
  {
   "cell_type": "code",
   "execution_count": null,
   "id": "335bf52e",
   "metadata": {},
   "outputs": [],
   "source": []
  },
  {
   "cell_type": "code",
   "execution_count": null,
   "id": "b7744fbf",
   "metadata": {
    "scrolled": true
   },
   "outputs": [],
   "source": [
    "all_transforms = [refine_based_on_density(sample, animate_refinement=False, n_refine_steps=1,n_sample_points=1450,n_bkg_points=50,step_scale=0.01, bw = 1, show_first_refinement=False, show_net = False, show_net_movement= False, show_step_size=False,show_refinement=False)[1]['transform'] for x in range(50)]"
   ]
  },
  {
   "cell_type": "code",
   "execution_count": null,
   "id": "c24386ea",
   "metadata": {},
   "outputs": [],
   "source": []
  },
  {
   "cell_type": "code",
   "execution_count": null,
   "id": "3a978a7a",
   "metadata": {},
   "outputs": [],
   "source": [
    "rp1 = test_data.copy()"
   ]
  },
  {
   "cell_type": "code",
   "execution_count": null,
   "id": "f0863d8a",
   "metadata": {},
   "outputs": [],
   "source": [
    "def successive_trans(x, ts):\n",
    "    for t in ts:\n",
    "        x = t.inverse(x)\n",
    "    return x"
   ]
  },
  {
   "cell_type": "code",
   "execution_count": null,
   "id": "b510f02f",
   "metadata": {},
   "outputs": [],
   "source": [
    "rand_refine_steps2=[]"
   ]
  },
  {
   "cell_type": "code",
   "execution_count": null,
   "id": "fcea3f45",
   "metadata": {
    "scrolled": true
   },
   "outputs": [],
   "source": [
    "for i in range(100):\n",
    "    print(i)\n",
    "    rp1= successive_trans(rp1, all_transforms)\n",
    "    rand_refine_steps2.append(rp1)"
   ]
  },
  {
   "cell_type": "code",
   "execution_count": null,
   "id": "96616a8b",
   "metadata": {},
   "outputs": [],
   "source": [
    "plt.figure()\n",
    "plt.scatter(test_data[:,0], test_data[:,1], s =10)\n",
    "#plt.scatter(refined_positions[0][0][:,0], refined_positions[0][0][:,1])\n",
    "plt.scatter(rp1[:,0], rp1[:,1])"
   ]
  },
  {
   "cell_type": "code",
   "execution_count": null,
   "id": "80f7672e",
   "metadata": {},
   "outputs": [],
   "source": [
    "tset1 = rp1\n",
    "\n",
    "db1 = DBSCAN(eps = 0.05, min_samples= 10).fit_predict(tset1)\n",
    "\n",
    "db1-= db1.min()\n",
    "\n",
    "db1.max()\n",
    "\n",
    "plt.figure()\n",
    "plt.imshow(db1.reshape(255,255))"
   ]
  },
  {
   "cell_type": "code",
   "execution_count": null,
   "id": "07691e90",
   "metadata": {},
   "outputs": [],
   "source": [
    "map4 = db1.copy()"
   ]
  },
  {
   "cell_type": "code",
   "execution_count": null,
   "id": "e1bd52c5",
   "metadata": {},
   "outputs": [],
   "source": [
    "map3 = db1.copy()"
   ]
  },
  {
   "cell_type": "code",
   "execution_count": null,
   "id": "928c9543",
   "metadata": {},
   "outputs": [],
   "source": [
    "map2 = db1.copy()"
   ]
  },
  {
   "cell_type": "code",
   "execution_count": null,
   "id": "42795161",
   "metadata": {},
   "outputs": [],
   "source": [
    "map1 = db1.copy()"
   ]
  },
  {
   "cell_type": "code",
   "execution_count": null,
   "id": "012bcb0c",
   "metadata": {},
   "outputs": [],
   "source": [
    "plt.figure()\n",
    "plt.scatter(test_data[:,0], test_data[:,1], s =10, c = db1)\n",
    "#plt.scatter(refined_positions[0][0][:,0], refined_positions[0][0][:,1])\n",
    "#plt.scatter(rp1[:,0], rp1[:,1],  c = db1)"
   ]
  },
  {
   "cell_type": "code",
   "execution_count": null,
   "id": "3497f9a6",
   "metadata": {},
   "outputs": [],
   "source": []
  },
  {
   "cell_type": "code",
   "execution_count": null,
   "id": "79af87c1",
   "metadata": {},
   "outputs": [],
   "source": []
  },
  {
   "cell_type": "code",
   "execution_count": null,
   "id": "7c6078f8",
   "metadata": {},
   "outputs": [],
   "source": []
  },
  {
   "cell_type": "code",
   "execution_count": null,
   "id": "ded22ebc",
   "metadata": {},
   "outputs": [],
   "source": [
    "conf = get_confidence_from_maps([map1,map2,map3,map4])\n",
    "\n",
    "plt.figure()\n",
    "plt.imshow(conf.reshape((255,255)), cmap= cmap)\n",
    "plt.colorbar()"
   ]
  },
  {
   "cell_type": "code",
   "execution_count": null,
   "id": "73b270e1",
   "metadata": {},
   "outputs": [],
   "source": [
    "import palettable\n",
    "import matplotlib.colors as mcolors"
   ]
  },
  {
   "cell_type": "code",
   "execution_count": null,
   "id": "0f26aa80",
   "metadata": {},
   "outputs": [],
   "source": [
    "# Given colormap which takes values from 0→50\n",
    "colors1 = palettable.colorbrewer.sequential.YlGn_9.mpl_colormap(np.linspace(0, 1, 256))\n",
    "colors1[0] = [0.,0.,0.,1.]\n",
    "# generating a smoothly-varying LinearSegmentedColormap\n",
    "cmap = mcolors.LinearSegmentedColormap.from_list('colormap', colors1)"
   ]
  },
  {
   "cell_type": "code",
   "execution_count": null,
   "id": "c2b222ea",
   "metadata": {},
   "outputs": [],
   "source": [
    "colors1[0]"
   ]
  },
  {
   "cell_type": "code",
   "execution_count": null,
   "id": "95dc71cc",
   "metadata": {
    "scrolled": false
   },
   "outputs": [],
   "source": [
    "for uind in np.unique(map1):\n",
    "    plt.figure()\n",
    "    plt.imshow((np.where(map1 == uind,1,0) * conf).reshape((255,255)), cmap= cmap, interpolation = 'nearest')\n",
    "    plt.colorbar()\n",
    "    plt.clim(0,1)\n",
    "    "
   ]
  },
  {
   "cell_type": "code",
   "execution_count": null,
   "id": "07611f94",
   "metadata": {},
   "outputs": [],
   "source": []
  },
  {
   "cell_type": "code",
   "execution_count": null,
   "id": "edeabf1a",
   "metadata": {},
   "outputs": [],
   "source": []
  },
  {
   "cell_type": "code",
   "execution_count": null,
   "id": "931626ee",
   "metadata": {},
   "outputs": [],
   "source": []
  },
  {
   "cell_type": "code",
   "execution_count": null,
   "id": "a7ef6e56",
   "metadata": {},
   "outputs": [],
   "source": []
  },
  {
   "cell_type": "code",
   "execution_count": null,
   "id": "ecd3f913",
   "metadata": {},
   "outputs": [],
   "source": []
  },
  {
   "cell_type": "code",
   "execution_count": null,
   "id": "1ad04933",
   "metadata": {},
   "outputs": [],
   "source": []
  },
  {
   "cell_type": "code",
   "execution_count": null,
   "id": "b82fc3d9",
   "metadata": {},
   "outputs": [],
   "source": []
  },
  {
   "cell_type": "code",
   "execution_count": null,
   "id": "3e1bf171",
   "metadata": {},
   "outputs": [],
   "source": []
  },
  {
   "cell_type": "code",
   "execution_count": null,
   "id": "ffd675fb",
   "metadata": {},
   "outputs": [],
   "source": []
  },
  {
   "cell_type": "code",
   "execution_count": null,
   "id": "27796a7b",
   "metadata": {},
   "outputs": [],
   "source": []
  },
  {
   "cell_type": "code",
   "execution_count": null,
   "id": "e11c92aa",
   "metadata": {},
   "outputs": [],
   "source": []
  },
  {
   "cell_type": "code",
   "execution_count": null,
   "id": "ae9528ef",
   "metadata": {},
   "outputs": [],
   "source": []
  },
  {
   "cell_type": "code",
   "execution_count": null,
   "id": "9ac7ac81",
   "metadata": {},
   "outputs": [],
   "source": []
  },
  {
   "cell_type": "code",
   "execution_count": null,
   "id": "f85ec845",
   "metadata": {},
   "outputs": [],
   "source": []
  },
  {
   "cell_type": "code",
   "execution_count": null,
   "id": "399ca319",
   "metadata": {},
   "outputs": [],
   "source": [
    "rtrans1 = refined_positions[0][1]['transform']\n",
    "rtrans2 = refined_positions[1][1]['transform']\n",
    "rtrans3 = refined_positions[2][1]['transform']"
   ]
  },
  {
   "cell_type": "code",
   "execution_count": null,
   "id": "b9679cb4",
   "metadata": {},
   "outputs": [],
   "source": [
    "for i in range(100):\n",
    "    rp1= successive_trans(rp1, (rtrans1,rtrans2, rtrans3))\n",
    "    rand_refine_steps2.append(rp1)"
   ]
  },
  {
   "cell_type": "code",
   "execution_count": null,
   "id": "afe9fcd7",
   "metadata": {},
   "outputs": [],
   "source": [
    "plt.figure()\n",
    "plt.scatter(test_data[:,0], test_data[:,1], s =10)\n",
    "#plt.scatter(refined_positions[0][0][:,0], refined_positions[0][0][:,1])\n",
    "plt.scatter(rp1[:,0], rp1[:,1])"
   ]
  },
  {
   "cell_type": "code",
   "execution_count": null,
   "id": "772234c3",
   "metadata": {},
   "outputs": [],
   "source": [
    "tset1 = rp1\n",
    "\n",
    "db1 = DBSCAN(eps = 0.05, min_samples= 10).fit_predict(tset1)\n",
    "\n",
    "db1-= db1.min()\n",
    "\n",
    "db1.max()\n",
    "\n",
    "plt.figure()\n",
    "plt.imshow(db1.reshape(255,255))"
   ]
  },
  {
   "cell_type": "code",
   "execution_count": null,
   "id": "55057284",
   "metadata": {},
   "outputs": [],
   "source": [
    "plt.figure()\n",
    "plt.scatter(test_data[:,0], test_data[:,1], s =10)\n",
    "#plt.scatter(refined_positions[0][0][:,0], refined_positions[0][0][:,1])\n",
    "plt.scatter(rp1[:,0], rp1[:,1], c = db1)"
   ]
  },
  {
   "cell_type": "code",
   "execution_count": null,
   "id": "d2ae75ec",
   "metadata": {
    "scrolled": false
   },
   "outputs": [],
   "source": [
    "b = db1\n",
    "for t in [0.98,0.97,0.96,0.95]:\n",
    "    b, g, cc_fig = combine_closest_clusters(b, t)"
   ]
  },
  {
   "cell_type": "code",
   "execution_count": null,
   "id": "5d64792d",
   "metadata": {},
   "outputs": [],
   "source": [
    "plt.figure()\n",
    "plt.scatter(test_data[:,0], test_data[:,1], s =10, c = b, cmap = 'turbo')\n",
    "\n",
    "plt.figure()\n",
    "plt.imshow(b.reshape(255,255), cmap = 'turbo')"
   ]
  },
  {
   "cell_type": "code",
   "execution_count": null,
   "id": "779a4d23",
   "metadata": {},
   "outputs": [],
   "source": []
  },
  {
   "cell_type": "code",
   "execution_count": null,
   "id": "46141759",
   "metadata": {},
   "outputs": [],
   "source": []
  },
  {
   "cell_type": "code",
   "execution_count": null,
   "id": "f3fab120",
   "metadata": {},
   "outputs": [],
   "source": []
  },
  {
   "cell_type": "code",
   "execution_count": null,
   "id": "437cfa90",
   "metadata": {},
   "outputs": [],
   "source": []
  },
  {
   "cell_type": "code",
   "execution_count": null,
   "id": "bb53819d",
   "metadata": {},
   "outputs": [],
   "source": []
  },
  {
   "cell_type": "code",
   "execution_count": null,
   "id": "c25910ee",
   "metadata": {},
   "outputs": [],
   "source": []
  },
  {
   "cell_type": "code",
   "execution_count": null,
   "id": "085de40c",
   "metadata": {},
   "outputs": [],
   "source": []
  },
  {
   "cell_type": "code",
   "execution_count": null,
   "id": "2e48c970",
   "metadata": {},
   "outputs": [],
   "source": []
  },
  {
   "cell_type": "code",
   "execution_count": null,
   "id": "9ede4bf8",
   "metadata": {},
   "outputs": [],
   "source": [
    "cluster_centres = [np.mean(rp1[np.where(db1 ==uind)], axis = 0) for uind in np.unique(db1)]"
   ]
  },
  {
   "cell_type": "code",
   "execution_count": null,
   "id": "9960ebd3",
   "metadata": {},
   "outputs": [],
   "source": [
    "cluster_centres = np.asarray(cluster_centres)"
   ]
  },
  {
   "cell_type": "code",
   "execution_count": null,
   "id": "a29259d4",
   "metadata": {},
   "outputs": [],
   "source": [
    "cluster_centres"
   ]
  },
  {
   "cell_type": "code",
   "execution_count": null,
   "id": "26bc9637",
   "metadata": {},
   "outputs": [],
   "source": [
    "plt.figure()\n",
    "plt.scatter(test_data[:,0], test_data[:,1], s =10)\n",
    "#plt.scatter(refined_positions[0][0][:,0], refined_positions[0][0][:,1])\n",
    "plt.scatter(rp1[:,0], rp1[:,1])\n",
    "plt.scatter(cluster_centres[:,0], cluster_centres[:,1], marker = 'x')"
   ]
  },
  {
   "cell_type": "code",
   "execution_count": null,
   "id": "2dbe1216",
   "metadata": {},
   "outputs": [],
   "source": [
    "c_patts = get_terr_patts(cluster_centres)"
   ]
  },
  {
   "cell_type": "code",
   "execution_count": null,
   "id": "fc563d5f",
   "metadata": {},
   "outputs": [],
   "source": [
    "from sklearn.neighbors import NearestNeighbors"
   ]
  },
  {
   "cell_type": "code",
   "execution_count": null,
   "id": "75b28d99",
   "metadata": {},
   "outputs": [],
   "source": [
    "nbrs = NearestNeighbors(n_neighbors=5, algorithm='ball_tree').fit(cluster_centres)\n",
    "distances, indices = nbrs.kneighbors(cluster_centres, 2)"
   ]
  },
  {
   "cell_type": "code",
   "execution_count": null,
   "id": "ce1ddfd2",
   "metadata": {},
   "outputs": [],
   "source": [
    "indices = np.asarray(indices)[:,1:]"
   ]
  },
  {
   "cell_type": "code",
   "execution_count": null,
   "id": "955f3b65",
   "metadata": {
    "scrolled": true
   },
   "outputs": [],
   "source": [
    "comb_nodes = []\n",
    "thresh_sim = 0.975\n",
    "for pi, sis in enumerate(indices):\n",
    "    for si in sis:\n",
    "        if SSI(c_patts[pi], c_patts[si]) > thresh_sim:\n",
    "            comb_nodes.append([pi,si])"
   ]
  },
  {
   "cell_type": "code",
   "execution_count": null,
   "id": "fb57b7fc",
   "metadata": {},
   "outputs": [],
   "source": [
    "g, ginds = get_graph_from_connectivity(comb_nodes)\n",
    "\n",
    "view_graph(g)"
   ]
  },
  {
   "cell_type": "code",
   "execution_count": null,
   "id": "8ab43c40",
   "metadata": {},
   "outputs": [],
   "source": [
    "con_nodes = get_connected_nodes(g)\n",
    "\n",
    "con_nodes"
   ]
  },
  {
   "cell_type": "code",
   "execution_count": null,
   "id": "1af1c258",
   "metadata": {},
   "outputs": [],
   "source": [
    "combine_centres = np.zeros(cluster_centres.shape[0])"
   ]
  },
  {
   "cell_type": "code",
   "execution_count": null,
   "id": "c0f6e106",
   "metadata": {},
   "outputs": [],
   "source": [
    "for i, each in enumerate(con_nodes):\n",
    "    for e in each:\n",
    "        combine_centres[e] = i"
   ]
  },
  {
   "cell_type": "code",
   "execution_count": null,
   "id": "b17e4995",
   "metadata": {},
   "outputs": [],
   "source": [
    "plt.figure()\n",
    "plt.scatter(test_data[:,0], test_data[:,1], s =10)\n",
    "#plt.scatter(refined_positions[0][0][:,0], refined_positions[0][0][:,1])\n",
    "plt.scatter(rp1[:,0], rp1[:,1])\n",
    "plt.scatter(cluster_centres[:,0], cluster_centres[:,1], marker = 'o', c = combine_centres, s = 30)"
   ]
  },
  {
   "cell_type": "code",
   "execution_count": null,
   "id": "863980bf",
   "metadata": {},
   "outputs": [],
   "source": [
    "all_nodes = [u for u in np.unique(db1)]\n",
    "for each in con_nodes:\n",
    "    [all_nodes.pop(all_nodes.index(e)) for e in each]"
   ]
  },
  {
   "cell_type": "code",
   "execution_count": null,
   "id": "441fc35e",
   "metadata": {},
   "outputs": [],
   "source": [
    "all_nodes"
   ]
  },
  {
   "cell_type": "code",
   "execution_count": null,
   "id": "7039cb25",
   "metadata": {},
   "outputs": [],
   "source": [
    "blank = np.zeros_like(db1)\n",
    "count = 1 \n",
    "for an in all_nodes:\n",
    "    blank += np.where(db1 ==an, count, 0)\n",
    "    count += 1\n",
    "for each in con_nodes:\n",
    "    count += 1\n",
    "    for e in each:\n",
    "        blank += np.where(db1 ==e, count, 0)\n",
    "    "
   ]
  },
  {
   "cell_type": "code",
   "execution_count": null,
   "id": "14b39003",
   "metadata": {},
   "outputs": [],
   "source": [
    "plt.figure()\n",
    "plt.scatter(test_data[:,0], test_data[:,1], s =10)\n",
    "#plt.scatter(refined_positions[0][0][:,0], refined_positions[0][0][:,1])\n",
    "plt.scatter(rp1[:,0], rp1[:,1], c = blank)\n",
    "#plt.scatter(cluster_centres[:,0], cluster_centres[:,1], marker = 'x')"
   ]
  },
  {
   "cell_type": "code",
   "execution_count": null,
   "id": "bc013108",
   "metadata": {},
   "outputs": [],
   "source": [
    "plt.figure()\n",
    "plt.imshow(blank.reshape(255,255))"
   ]
  },
  {
   "cell_type": "code",
   "execution_count": null,
   "id": "a1e79e4c",
   "metadata": {},
   "outputs": [],
   "source": []
  },
  {
   "cell_type": "code",
   "execution_count": null,
   "id": "6a0842b5",
   "metadata": {},
   "outputs": [],
   "source": [
    "def combine_closest_clusters(input_cluster, thresh_sim = 0.975):\n",
    "    db1 = input_cluster\n",
    "    cluster_centres = [np.mean(rp1[np.where(db1 ==uind)], axis = 0) for uind in np.unique(db1)]\n",
    "\n",
    "    cluster_centres = np.asarray(cluster_centres)\n",
    "\n",
    "    cluster_centres\n",
    "\n",
    "    c_patts = get_terr_patts(cluster_centres)\n",
    "\n",
    "    from sklearn.neighbors import NearestNeighbors\n",
    "\n",
    "    nbrs = NearestNeighbors(n_neighbors=5, algorithm='ball_tree').fit(cluster_centres)\n",
    "    distances, indices = nbrs.kneighbors(cluster_centres, 2)\n",
    "\n",
    "    indices = np.asarray(indices)[:,1:]\n",
    "\n",
    "    comb_nodes = []\n",
    "    for pi, sis in enumerate(indices):\n",
    "        for si in sis:\n",
    "            if SSI(c_patts[pi], c_patts[si]) > thresh_sim:\n",
    "                comb_nodes.append([pi,si])\n",
    "\n",
    "    g, ginds = get_graph_from_connectivity(comb_nodes)\n",
    "\n",
    "    con_nodes = get_connected_nodes(g)\n",
    "\n",
    "    combine_centres = np.zeros(cluster_centres.shape[0])\n",
    "\n",
    "    for i, each in enumerate(con_nodes):\n",
    "        for e in each:\n",
    "            combine_centres[e] = i\n",
    "    cc_fig = plt.figure()\n",
    "    plt.scatter(test_data[:,0], test_data[:,1], s =10)\n",
    "    #plt.scatter(refined_positions[0][0][:,0], refined_positions[0][0][:,1])\n",
    "    plt.scatter(rp1[:,0], rp1[:,1])\n",
    "    plt.scatter(cluster_centres[:,0], cluster_centres[:,1], marker = 'o', c = combine_centres, s = 30)\n",
    "    all_nodes = [u for u in np.unique(db1)]\n",
    "    for each in con_nodes:\n",
    "        [all_nodes.pop(all_nodes.index(e)) for e in each]\n",
    "\n",
    "    blank = np.zeros_like(db1)\n",
    "    count = 0\n",
    "    for an in all_nodes:\n",
    "        count += 1\n",
    "        blank += np.where(db1 ==an, count, 0)\n",
    "    for each in con_nodes:\n",
    "        count += 1\n",
    "        for e in each:\n",
    "            blank += np.where(db1 ==e, count, 0)\n",
    "    blank -= 1\n",
    "            \n",
    "    return blank, g, cc_fig"
   ]
  },
  {
   "cell_type": "code",
   "execution_count": null,
   "id": "4937b04c",
   "metadata": {},
   "outputs": [],
   "source": [
    "b, g, cc_fig = combine_closest_clusters(db1)"
   ]
  },
  {
   "cell_type": "code",
   "execution_count": null,
   "id": "df74dd8d",
   "metadata": {},
   "outputs": [],
   "source": [
    "b2, g, cc_fig = combine_closest_clusters(b, 0.96)"
   ]
  },
  {
   "cell_type": "code",
   "execution_count": null,
   "id": "410d3e84",
   "metadata": {},
   "outputs": [],
   "source": [
    "b3, g, cc_fig = combine_closest_clusters(b2, 0.96)"
   ]
  },
  {
   "cell_type": "code",
   "execution_count": null,
   "id": "5221435b",
   "metadata": {},
   "outputs": [],
   "source": [
    "b4, g, cc_fig = combine_closest_clusters(b3, 0.95)"
   ]
  },
  {
   "cell_type": "code",
   "execution_count": null,
   "id": "ea8aee59",
   "metadata": {},
   "outputs": [],
   "source": [
    "b5, g, cc_fig = combine_closest_clusters(b4, 0.95)"
   ]
  },
  {
   "cell_type": "code",
   "execution_count": null,
   "id": "a8273853",
   "metadata": {},
   "outputs": [],
   "source": [
    "plt.figure()\n",
    "plt.scatter(test_data[:,0], test_data[:,1], s =10, c = b5, cmap = 'turbo')"
   ]
  },
  {
   "cell_type": "code",
   "execution_count": null,
   "id": "5713d664",
   "metadata": {},
   "outputs": [],
   "source": [
    "plt.figure()\n",
    "plt.imshow(b5.reshape(255,255), cmap = 'turbo')"
   ]
  },
  {
   "cell_type": "code",
   "execution_count": null,
   "id": "4b630d96",
   "metadata": {},
   "outputs": [],
   "source": []
  },
  {
   "cell_type": "code",
   "execution_count": null,
   "id": "ce735b29",
   "metadata": {},
   "outputs": [],
   "source": []
  },
  {
   "cell_type": "code",
   "execution_count": null,
   "id": "5b334719",
   "metadata": {},
   "outputs": [],
   "source": []
  },
  {
   "cell_type": "code",
   "execution_count": null,
   "id": "fdd5c1f1",
   "metadata": {},
   "outputs": [],
   "source": []
  },
  {
   "cell_type": "code",
   "execution_count": null,
   "id": "38a15d83",
   "metadata": {},
   "outputs": [],
   "source": []
  },
  {
   "cell_type": "code",
   "execution_count": null,
   "id": "265c6ece",
   "metadata": {},
   "outputs": [],
   "source": [
    "for i, each in enumerate(con_nodes):\n",
    "    for e in each:\n",
    "        [np.mean(rp1[np.where(db1 ==uind)], axis = 0) for uind in np.unique(db1)]\n",
    "        \n",
    "        \n",
    "        combine_centres[e] = i"
   ]
  },
  {
   "cell_type": "code",
   "execution_count": null,
   "id": "6e8d8481",
   "metadata": {},
   "outputs": [],
   "source": []
  },
  {
   "cell_type": "code",
   "execution_count": null,
   "id": "9ce41aee",
   "metadata": {},
   "outputs": [],
   "source": []
  },
  {
   "cell_type": "code",
   "execution_count": null,
   "id": "57bba36a",
   "metadata": {},
   "outputs": [],
   "source": []
  },
  {
   "cell_type": "code",
   "execution_count": null,
   "id": "70d32c4e",
   "metadata": {},
   "outputs": [],
   "source": [
    "# First set up the figure, the axis, and the plot element we want to animate\n",
    "figr3, axr3 = plt.subplots()\n",
    "\n",
    "axr3.set_xlim(( -1, 1))\n",
    "axr3.set_ylim((-1, 1))\n",
    "\n",
    "liner3, = axr3.plot([], [], lw=2, ls = '', marker = 'o', alpha = 0.2)\n",
    "\n",
    "def init3():\n",
    "    liner3.set_data([], [])\n",
    "    return (liner,)\n",
    "def animate3(i):\n",
    "    d3 = rand_refine_steps2[i]\n",
    "    x3,y3 = d3[:,0], d3[:,1]\n",
    "    liner3.set_data(x3, y3)\n",
    "    return (liner3,)\n",
    "# call the animator. blit=True means only re-draw the parts that \n",
    "# have changed.\n",
    "animr3 = animation.FuncAnimation(figr3, animate3, init_func=init3,\n",
    "                               frames=100, interval=20, blit=True)"
   ]
  },
  {
   "cell_type": "code",
   "execution_count": null,
   "id": "95a34c8d",
   "metadata": {},
   "outputs": [],
   "source": []
  },
  {
   "cell_type": "code",
   "execution_count": null,
   "id": "d8fa4019",
   "metadata": {},
   "outputs": [],
   "source": []
  },
  {
   "cell_type": "code",
   "execution_count": null,
   "id": "900f73d8",
   "metadata": {},
   "outputs": [],
   "source": []
  },
  {
   "cell_type": "code",
   "execution_count": null,
   "id": "f8dd4a62",
   "metadata": {},
   "outputs": [],
   "source": [
    "plt.figure()\n",
    "plt.scatter(test_data[:,0], test_data[:,1], s =10)\n",
    "#plt.scatter(refined_positions[0][0][:,0], refined_positions[0][0][:,1])\n",
    "plt.scatter(rp1[:,0], rp1[:,1])"
   ]
  },
  {
   "cell_type": "code",
   "execution_count": null,
   "id": "05b6544b",
   "metadata": {},
   "outputs": [],
   "source": []
  },
  {
   "cell_type": "code",
   "execution_count": null,
   "id": "f1ed17d7",
   "metadata": {},
   "outputs": [],
   "source": []
  },
  {
   "cell_type": "code",
   "execution_count": null,
   "id": "2cbe9991",
   "metadata": {},
   "outputs": [],
   "source": []
  },
  {
   "cell_type": "code",
   "execution_count": null,
   "id": "912e6bbe",
   "metadata": {},
   "outputs": [],
   "source": []
  },
  {
   "cell_type": "code",
   "execution_count": null,
   "id": "79a1cb7c",
   "metadata": {},
   "outputs": [],
   "source": []
  },
  {
   "cell_type": "code",
   "execution_count": null,
   "id": "56675f05",
   "metadata": {},
   "outputs": [],
   "source": [
    "rps = np.asarray([x[0] for x in refined_positions])"
   ]
  },
  {
   "cell_type": "code",
   "execution_count": null,
   "id": "dd8e1840",
   "metadata": {},
   "outputs": [],
   "source": [
    "rps.shape"
   ]
  },
  {
   "cell_type": "code",
   "execution_count": null,
   "id": "2a4c3bf6",
   "metadata": {},
   "outputs": [],
   "source": [
    "plt.figure()\n",
    "plt.scatter(rps[0,:,0], rps[0,:,1])"
   ]
  },
  {
   "cell_type": "code",
   "execution_count": null,
   "id": "747c52ba",
   "metadata": {
    "scrolled": false
   },
   "outputs": [],
   "source": [
    "plt.figure()\n",
    "for e in rps:\n",
    "    plt.scatter(e[:,0], e[:,1])"
   ]
  },
  {
   "cell_type": "code",
   "execution_count": null,
   "id": "9f9a3cb8",
   "metadata": {},
   "outputs": [],
   "source": [
    "plt.figure()\n",
    "mean_pos = np.mean(rps, axis = 0)\n",
    "plt.scatter(mean_pos[:,0], mean_pos[:,1], alpha = 0.2, c=db3, cmap = 'turbo')"
   ]
  },
  {
   "cell_type": "code",
   "execution_count": null,
   "id": "015abc04",
   "metadata": {},
   "outputs": [],
   "source": [
    "tset1 = rp1"
   ]
  },
  {
   "cell_type": "code",
   "execution_count": null,
   "id": "c7e8addf",
   "metadata": {},
   "outputs": [],
   "source": [
    "db1 = DBSCAN(eps = 0.05, min_samples= 50).fit_predict(tset1)\n",
    "\n",
    "db1-= db1.min()"
   ]
  },
  {
   "cell_type": "code",
   "execution_count": null,
   "id": "925b3754",
   "metadata": {},
   "outputs": [],
   "source": [
    "db1.max()"
   ]
  },
  {
   "cell_type": "code",
   "execution_count": null,
   "id": "a49fb73a",
   "metadata": {},
   "outputs": [],
   "source": [
    "plt.figure()\n",
    "plt.imshow(db1.reshape(255,255))"
   ]
  },
  {
   "cell_type": "code",
   "execution_count": null,
   "id": "0c7d8b7f",
   "metadata": {},
   "outputs": [],
   "source": []
  },
  {
   "cell_type": "code",
   "execution_count": null,
   "id": "38b4b842",
   "metadata": {},
   "outputs": [],
   "source": [
    "tset2 = rps[1]\n",
    "\n",
    "db2 = DBSCAN(eps = 0.05, min_samples= 50).fit_predict(tset2)\n",
    "\n",
    "db2-= db2.min()\n",
    "plt.figure()\n",
    "plt.imshow(db2.reshape(255,255))"
   ]
  },
  {
   "cell_type": "code",
   "execution_count": null,
   "id": "cca8d374",
   "metadata": {},
   "outputs": [],
   "source": []
  },
  {
   "cell_type": "code",
   "execution_count": null,
   "id": "2a8b2079",
   "metadata": {},
   "outputs": [],
   "source": [
    "tset3 = rps[2]\n",
    "\n",
    "db3 = DBSCAN(eps = 0.05, min_samples= 50).fit_predict(tset3)\n",
    "\n",
    "db3-= db3.min()\n",
    "\n",
    "plt.figure()\n",
    "plt.imshow(db3.reshape(255,255))"
   ]
  },
  {
   "cell_type": "code",
   "execution_count": null,
   "id": "738ab10e",
   "metadata": {},
   "outputs": [],
   "source": []
  },
  {
   "cell_type": "code",
   "execution_count": null,
   "id": "fafc085c",
   "metadata": {},
   "outputs": [],
   "source": []
  },
  {
   "cell_type": "code",
   "execution_count": null,
   "id": "7b8292b7",
   "metadata": {},
   "outputs": [],
   "source": [
    "import sklearn.metrics.cluster as cmet\n",
    "\n",
    "def get_map_label_df(map1):\n",
    "    return np.asarray([np.where(map1 == uinds, 1, 0) for uinds in np.unique(map1)])\n",
    "\n",
    "def get_cluster_label_overlap(map_pair):\n",
    "    db1_df,db2_df = map_pair\n",
    "    label_overlap = np.zeros((db1_df.shape[0], db2_df.shape[0]))\n",
    "    for i, idf in enumerate(db1_df):\n",
    "        for j, jdf in enumerate(db2_df):\n",
    "            label_overlap[i,j] = np.sum(db1_df[i] * db2_df[j])/ np.sum(db1_df[i])\n",
    "    return label_overlap\n",
    "\n",
    "def find_map_label(pos, map1):\n",
    "    return map1[pos]\n",
    "\n",
    "def get_confidence_from_maps(maps):\n",
    "    dfs = [x for x in map(get_map_label_df, maps)]\n",
    "\n",
    "    cluster_overlaps = [x for x in map(get_cluster_label_overlap, [x for x in itertools.permutations(dfs, 2)])]\n",
    "\n",
    "    overlap_inds = [x for x in itertools.permutations(np.arange(len(maps)), 2)]\n",
    "\n",
    "    overlap_inds\n",
    "\n",
    "    len(cluster_overlaps)\n",
    "\n",
    "    confidence = np.zeros_like(map1, dtype='float32')\n",
    "    for point in range(len(map1)):\n",
    "        labels = [i for i in map(find_map_label, np.repeat(point, len(maps)) , maps)]\n",
    "        total = 0\n",
    "        for cind, oinds in enumerate(overlap_inds):\n",
    "            l1, l2 = labels[oinds[0]], labels[oinds[1]]\n",
    "            total+=cluster_overlaps[cind][l1, l2]\n",
    "        mean = total/len(overlap_inds)\n",
    "        confidence[point] = mean\n",
    "    return confidence\n",
    "    "
   ]
  },
  {
   "cell_type": "code",
   "execution_count": null,
   "id": "250ed93f",
   "metadata": {},
   "outputs": [],
   "source": [
    "conf = get_confidence_from_maps([map1,map2,map3])"
   ]
  },
  {
   "cell_type": "code",
   "execution_count": null,
   "id": "8c75746d",
   "metadata": {},
   "outputs": [],
   "source": [
    "plt.figure()\n",
    "plt.imshow(conf.reshape((255,255)))"
   ]
  },
  {
   "cell_type": "code",
   "execution_count": null,
   "id": "11e5896c",
   "metadata": {},
   "outputs": [],
   "source": []
  },
  {
   "cell_type": "code",
   "execution_count": null,
   "id": "36499a77",
   "metadata": {},
   "outputs": [],
   "source": []
  },
  {
   "cell_type": "code",
   "execution_count": null,
   "id": "7ff3b39d",
   "metadata": {},
   "outputs": [],
   "source": [
    "dfs = [x for x in dfs]"
   ]
  },
  {
   "cell_type": "code",
   "execution_count": null,
   "id": "4716c85c",
   "metadata": {},
   "outputs": [],
   "source": [
    "db1_df = np.asarray([np.where(map1 == uinds, 1, 0) for uinds in np.unique(map1)])\n",
    "\n",
    "db2_df = np.asarray([np.where(map2 == uinds, 1, 0) for uinds in np.unique(map2)])\n",
    "\n",
    "db3_df = np.asarray([np.where(map3 == uinds, 1, 0) for uinds in np.unique(map3)])"
   ]
  },
  {
   "cell_type": "code",
   "execution_count": null,
   "id": "8378fdce",
   "metadata": {},
   "outputs": [],
   "source": [
    "db1_df.shape"
   ]
  },
  {
   "cell_type": "code",
   "execution_count": null,
   "id": "a9c16095",
   "metadata": {},
   "outputs": [],
   "source": [
    "olap = db1_df[2]*db2_df[3]"
   ]
  },
  {
   "cell_type": "code",
   "execution_count": null,
   "id": "37489592",
   "metadata": {},
   "outputs": [],
   "source": [
    "def get_cluster_label_overlap(db1_df,db2_df):\n",
    "    label_overlap = np.zeros((db1_df.shape[0], db2_df.shape[0]))\n",
    "    for i, idf in enumerate(db1_df):\n",
    "        for j, jdf in enumerate(db2_df):\n",
    "            label_overlap[i,j] = np.sum(db1_df[i] * db2_df[j])/ np.sum(db1_df[i])\n",
    "    return label_overlap"
   ]
  },
  {
   "cell_type": "code",
   "execution_count": null,
   "id": "fa3b855e",
   "metadata": {},
   "outputs": [],
   "source": [
    "confidence = np.zeros_like(map1, dtype='float32')\n",
    "for p in range(len(map1)):\n",
    "    p1 = map1[p]\n",
    "    p2 = map2[p]\n",
    "    p3 = map3[p]\n",
    "    c12 = np.sum(db1_df[p1] * db2_df[p2])/ np.sum(db1_df[p1])\n",
    "    c21 = np.sum(db2_df[p2] * db1_df[p1])/ np.sum(db2_df[p2])\n",
    "    c23 = np.sum(db2_df[p2] * db3_df[p3])/ np.sum(db2_df[p2])\n",
    "    c32 = np.sum(db3_df[p3] * db2_df[p2])/ np.sum(db3_df[p3])\n",
    "    c31 = np.sum(db3_df[p3] * db1_df[p1])/ np.sum(db3_df[p3])\n",
    "    c13 = np.sum(db1_df[p1] * db3_df[p3])/ np.sum(db1_df[p1])\n",
    "    confidence[p] =  np.mean((c12, c21, c23, c32, c31, c13))\n",
    "    "
   ]
  },
  {
   "cell_type": "code",
   "execution_count": null,
   "id": "8cc870d6",
   "metadata": {},
   "outputs": [],
   "source": []
  },
  {
   "cell_type": "code",
   "execution_count": null,
   "id": "004fe6e8",
   "metadata": {},
   "outputs": [],
   "source": [
    "plt.figure()\n",
    "plt.imshow(map1.reshape((255,255)))"
   ]
  },
  {
   "cell_type": "code",
   "execution_count": null,
   "id": "1e2acd6c",
   "metadata": {},
   "outputs": [],
   "source": [
    "plt.figure()\n",
    "plt.imshow(map2.reshape((255,255)))"
   ]
  },
  {
   "cell_type": "code",
   "execution_count": null,
   "id": "069228b8",
   "metadata": {},
   "outputs": [],
   "source": [
    "plt.figure()\n",
    "plt.imshow(map3.reshape((255,255)))"
   ]
  },
  {
   "cell_type": "code",
   "execution_count": null,
   "id": "159aa042",
   "metadata": {},
   "outputs": [],
   "source": [
    "plt.figure()\n",
    "plt.imshow(confidence.reshape((255,255)))"
   ]
  },
  {
   "cell_type": "code",
   "execution_count": null,
   "id": "a8939be9",
   "metadata": {},
   "outputs": [],
   "source": [
    "for uind in np.unique(map1):\n",
    "    plt.figure()\n",
    "    plt.imshow((np.where(map1 == uind,1,0) * confidence).reshape((255,255)))"
   ]
  },
  {
   "cell_type": "code",
   "execution_count": null,
   "id": "8819e43b",
   "metadata": {},
   "outputs": [],
   "source": [
    "low_conf = np.where(confidence< 0.3, 1, 0)\n",
    "\n",
    "plt.figure()\n",
    "plt.imshow(low_conf.reshape((255,255)))"
   ]
  },
  {
   "cell_type": "code",
   "execution_count": null,
   "id": "259f0de7",
   "metadata": {},
   "outputs": [],
   "source": [
    "plt.figure()\n",
    "plt.scatter(test_data[:,0], test_data[:,1], s =10, c = db1)"
   ]
  },
  {
   "cell_type": "code",
   "execution_count": null,
   "id": "eaacb025",
   "metadata": {},
   "outputs": [],
   "source": []
  },
  {
   "cell_type": "code",
   "execution_count": null,
   "id": "bb2b16d6",
   "metadata": {},
   "outputs": [],
   "source": []
  },
  {
   "cell_type": "code",
   "execution_count": null,
   "id": "0c9034ef",
   "metadata": {},
   "outputs": [],
   "source": []
  },
  {
   "cell_type": "code",
   "execution_count": null,
   "id": "84c076eb",
   "metadata": {},
   "outputs": [],
   "source": []
  },
  {
   "cell_type": "code",
   "execution_count": null,
   "id": "11ede2fb",
   "metadata": {},
   "outputs": [],
   "source": []
  },
  {
   "cell_type": "code",
   "execution_count": null,
   "id": "17a25ca3",
   "metadata": {},
   "outputs": [],
   "source": []
  },
  {
   "cell_type": "code",
   "execution_count": null,
   "id": "3d3d3694",
   "metadata": {},
   "outputs": [],
   "source": []
  },
  {
   "cell_type": "code",
   "execution_count": null,
   "id": "bcae04bb",
   "metadata": {},
   "outputs": [],
   "source": [
    "db3 = DBSCAN(eps = 0.05, min_samples= 50).fit_predict(rand_out_data2)\n",
    "\n",
    "db3.max()"
   ]
  },
  {
   "cell_type": "code",
   "execution_count": null,
   "id": "417576b3",
   "metadata": {},
   "outputs": [],
   "source": [
    "plt.figure()\n",
    "plt.imshow(db3.reshape(255,255))"
   ]
  },
  {
   "cell_type": "code",
   "execution_count": null,
   "id": "887c8621",
   "metadata": {},
   "outputs": [],
   "source": [
    "[len(np.where(db3 == uind)[0]) for uind in np.unique(db3)]"
   ]
  },
  {
   "cell_type": "code",
   "execution_count": null,
   "id": "51ddbb31",
   "metadata": {},
   "outputs": [],
   "source": [
    "pop_clust = [np.where(db3 == uind, 1, 0) for uind in np.unique(db3) if len(np.where(db3 == uind)[0])> 40]"
   ]
  },
  {
   "cell_type": "code",
   "execution_count": null,
   "id": "59596178",
   "metadata": {},
   "outputs": [],
   "source": [
    "blank = np.zeros_like(db3)\n",
    "for ind, df in enumerate(pop_clust):\n",
    "    blank += df*(ind+1)"
   ]
  },
  {
   "cell_type": "code",
   "execution_count": null,
   "id": "c5a69bc9",
   "metadata": {},
   "outputs": [],
   "source": [
    "plt.figure()\n",
    "plt.imshow(blank.reshape((255,255)))"
   ]
  },
  {
   "cell_type": "code",
   "execution_count": null,
   "id": "cf8cb65c",
   "metadata": {},
   "outputs": [],
   "source": []
  },
  {
   "cell_type": "code",
   "execution_count": null,
   "id": "7d120810",
   "metadata": {},
   "outputs": [],
   "source": []
  },
  {
   "cell_type": "code",
   "execution_count": null,
   "id": "b6b2b956",
   "metadata": {},
   "outputs": [],
   "source": []
  },
  {
   "cell_type": "code",
   "execution_count": null,
   "id": "a56f7faa",
   "metadata": {},
   "outputs": [],
   "source": [
    "plt.figure()\n",
    "plt.scatter(rand_out_data2[:,0], rand_out_data2[:,1], s =10, c = db3)"
   ]
  },
  {
   "cell_type": "code",
   "execution_count": null,
   "id": "e1b8691e",
   "metadata": {},
   "outputs": [],
   "source": [
    "db3 += 1\n",
    "\n",
    "sample.all_maps['latwarp_random'] = db3.reshape(255,255)"
   ]
  },
  {
   "cell_type": "code",
   "execution_count": null,
   "id": "aaadb5da",
   "metadata": {},
   "outputs": [],
   "source": [
    "np.unique(sample.all_maps['latwarp_random'])\n",
    "\n",
    "sample.get_map_patterns('latwarp_random',method='mean', recompute = True)\n",
    "\n",
    "sample.all_patterns['latwarp_random'].shape\n",
    "\n",
    "import itertools\n",
    "ssi_pair = []\n",
    "ssi_val = []\n",
    "for comb in itertools.combinations(np.arange(0,sample.all_patterns['latwarp_random'].shape[0]),2):\n",
    "    ssi_pair.append(comb)\n",
    "    ssi_val.append(SSI(sample.all_patterns['latwarp_random'][comb[0]],sample.all_patterns['latwarp_random'][comb[1]]))\n"
   ]
  },
  {
   "cell_type": "code",
   "execution_count": null,
   "id": "4c430139",
   "metadata": {},
   "outputs": [],
   "source": [
    "similarity_inds = np.where(np.asarray(ssi_val)>0.975)\n",
    "\n",
    "ssi_connect = np.asarray(ssi_pair)[similarity_inds]\n",
    "\n",
    "g, ginds = get_graph_from_connectivity(ssi_connect)\n",
    "\n",
    "view_graph(g)"
   ]
  },
  {
   "cell_type": "code",
   "execution_count": null,
   "id": "56cb439b",
   "metadata": {},
   "outputs": [],
   "source": [
    "con_nodes = get_connected_nodes(g)\n",
    "\n",
    "con_nodes\n",
    "\n",
    "all_nodes = list(range(sample.all_patterns['latwarp_random'].shape[0]))\n",
    "for each in con_nodes:\n",
    "    combine = list(each)\n",
    "    [all_nodes.pop(all_nodes.index(e)) for e in combine]\n",
    "\n",
    "all_nodes\n",
    "\n",
    "blank = np.zeros_like(sample.all_maps['latwarp_random'])\n",
    "count = 1\n",
    "for nc_node in all_nodes:\n",
    "    blank += np.where(sample.all_maps['latwarp_random'] == nc_node, count, 0)\n",
    "    count += 1\n",
    "for each in con_nodes:\n",
    "    combine = list(each)\n",
    "    for c_node in combine:\n",
    "        blank += np.where(sample.all_maps['latwarp_random'] == c_node, count, 0)\n",
    "    count += 1\n",
    "\n",
    "\n",
    "refine_latwarp1 = blank -1"
   ]
  },
  {
   "cell_type": "code",
   "execution_count": null,
   "id": "08355a87",
   "metadata": {},
   "outputs": [],
   "source": [
    "sample.all_maps['latwarp2'] = refine_latwarp1"
   ]
  },
  {
   "cell_type": "code",
   "execution_count": null,
   "id": "f096dc89",
   "metadata": {},
   "outputs": [],
   "source": [
    "sample.imshow(refine_latwarp1)"
   ]
  },
  {
   "cell_type": "code",
   "execution_count": null,
   "id": "1da6a582",
   "metadata": {},
   "outputs": [],
   "source": [
    "sample.get_map_patterns('latwarp2', method = 'mean', recompute = True)"
   ]
  },
  {
   "cell_type": "code",
   "execution_count": null,
   "id": "c5cbc61e",
   "metadata": {},
   "outputs": [],
   "source": [
    "ssi_pair2 = []\n",
    "ssi_val2 = []\n",
    "for comb in itertools.combinations(np.arange(0,sample.all_patterns['latwarp2'].shape[0]),2):\n",
    "    ssi_pair2.append(comb)\n",
    "    ssi_val2.append(SSI(sample.all_patterns['latwarp2'][comb[0]],sample.all_patterns['latwarp2'][comb[1]]))"
   ]
  },
  {
   "cell_type": "code",
   "execution_count": null,
   "id": "832454a9",
   "metadata": {},
   "outputs": [],
   "source": [
    "similarity_inds2 = np.where(np.asarray(ssi_val2)>0.955)\n",
    "\n",
    "ssi_connect2 = np.asarray(ssi_pair2)[similarity_inds2]\n",
    "\n",
    "g2, ginds2 = get_graph_from_connectivity(ssi_connect2)\n",
    "\n",
    "view_graph(g2)"
   ]
  },
  {
   "cell_type": "code",
   "execution_count": null,
   "id": "435afc59",
   "metadata": {},
   "outputs": [],
   "source": [
    "con_nodes2 = get_connected_nodes(g2)\n",
    "\n",
    "con_nodes2\n",
    "\n",
    "all_nodes2 = list(range(sample.all_patterns['latwarp2'].shape[0]))\n",
    "for each in con_nodes2:\n",
    "    combine = list(each)\n",
    "    [all_nodes2.pop(all_nodes2.index(e)) for e in combine]\n",
    "\n",
    "all_nodes2\n",
    "\n",
    "blank = np.zeros_like(sample.all_maps['latwarp2'])\n",
    "count = 1\n",
    "for nc_node in all_nodes2:\n",
    "    blank += np.where(sample.all_maps['latwarp2'] == nc_node, count, 0)\n",
    "    count += 1\n",
    "for each in con_nodes2:\n",
    "    combine = list(each)\n",
    "    for c_node in combine:\n",
    "        blank += np.where(sample.all_maps['latwarp2'] == c_node, count, 0)\n",
    "    count += 1\n",
    "\n",
    "\n",
    "refine_latwarp2 = blank -1"
   ]
  },
  {
   "cell_type": "code",
   "execution_count": null,
   "id": "eb321412",
   "metadata": {},
   "outputs": [],
   "source": [
    "sample.imshow(refine_latwarp2)"
   ]
  },
  {
   "cell_type": "code",
   "execution_count": null,
   "id": "24f67157",
   "metadata": {},
   "outputs": [],
   "source": [
    "distance_moved = np.linalg.norm(sample.encoded_data.copy()- rand_refine_steps2[-1], axis = 1)"
   ]
  },
  {
   "cell_type": "code",
   "execution_count": null,
   "id": "aabe3e60",
   "metadata": {},
   "outputs": [],
   "source": [
    "dmap = distance_moved.reshape(refine_latwarp2.shape)"
   ]
  },
  {
   "cell_type": "code",
   "execution_count": null,
   "id": "d42a5c8b",
   "metadata": {},
   "outputs": [],
   "source": [
    "plt.figure()\n",
    "plt.imshow(dmap)"
   ]
  },
  {
   "cell_type": "markdown",
   "id": "9dd630b9",
   "metadata": {},
   "source": [
    "refined CoM"
   ]
  },
  {
   "cell_type": "code",
   "execution_count": null,
   "id": "ad582d67",
   "metadata": {},
   "outputs": [],
   "source": [
    "cluster_com = []\n",
    "com_inds = []\n",
    "flat_latwarp = flatten_nav(refine_latwarp2)\n",
    "for uind in np.unique(flat_latwarp):\n",
    "    com = np.mean(rand_refine_steps2[-1][np.where(flat_latwarp==uind)], axis = 0)\n",
    "    cluster_com.append(com)\n",
    "    com_inds.append(uind)\n",
    "    "
   ]
  },
  {
   "cell_type": "code",
   "execution_count": null,
   "id": "7b1885ce",
   "metadata": {},
   "outputs": [],
   "source": [
    "cluster_com = np.asarray(cluster_com)\n"
   ]
  },
  {
   "cell_type": "code",
   "execution_count": null,
   "id": "5153b853",
   "metadata": {},
   "outputs": [],
   "source": [
    "plt.figure()\n",
    "plt.scatter(cluster_com[:,0], cluster_com[:,1])"
   ]
  },
  {
   "cell_type": "code",
   "execution_count": null,
   "id": "6882c619",
   "metadata": {},
   "outputs": [],
   "source": [
    "point_ccentre_distances = np.linalg.norm(sample.encoded_data.copy()[:,None,:] - cluster_com[None,:], axis = 2)"
   ]
  },
  {
   "cell_type": "code",
   "execution_count": null,
   "id": "bf43576c",
   "metadata": {},
   "outputs": [],
   "source": [
    "closest_centre = np.argmin(point_ccentre_distances, axis = 1)"
   ]
  },
  {
   "cell_type": "code",
   "execution_count": null,
   "id": "fc95baee",
   "metadata": {},
   "outputs": [],
   "source": [
    "cc_overlap = np.where(closest_centre == flat_latwarp,1, 0).reshape(refine_latwarp2.shape)"
   ]
  },
  {
   "cell_type": "code",
   "execution_count": null,
   "id": "b1100164",
   "metadata": {},
   "outputs": [],
   "source": [
    "plt.figure()\n",
    "plt.imshow(cc_overlap)"
   ]
  },
  {
   "cell_type": "code",
   "execution_count": null,
   "id": "aa13f2ac",
   "metadata": {},
   "outputs": [],
   "source": [
    "sorted_ccentre_d = np.sort(point_ccentre_distances, axis = 1)\n",
    "argsort_ccentre = np.argsort(point_ccentre_distances, axis = 1)"
   ]
  },
  {
   "cell_type": "code",
   "execution_count": null,
   "id": "150f5b5a",
   "metadata": {},
   "outputs": [],
   "source": [
    "cluster_closeness_ind = []\n",
    "for i in range(len(sample.encoded_data)):\n",
    "    cluster_closeness_ind.append(np.where(argsort_ccentre[i] == flat_latwarp[i])[0][0])"
   ]
  },
  {
   "cell_type": "code",
   "execution_count": null,
   "id": "55701981",
   "metadata": {},
   "outputs": [],
   "source": [
    "plt.figure()\n",
    "plt.imshow(np.asarray(cluster_closeness_ind).reshape(refine_latwarp2.shape))"
   ]
  },
  {
   "cell_type": "code",
   "execution_count": null,
   "id": "a0211b99",
   "metadata": {},
   "outputs": [],
   "source": [
    "sorted_ccentre_d[0]"
   ]
  },
  {
   "cell_type": "code",
   "execution_count": null,
   "id": "8a1aab5e",
   "metadata": {},
   "outputs": [],
   "source": [
    "cluster_closeness_difference = []\n",
    "for i in range(len(sample.encoded_data)):\n",
    "    cluster_closeness_ind = np.where(argsort_ccentre[i] == flat_latwarp[i])[0][0]\n",
    "    if cluster_closeness_ind == 0:\n",
    "        cluster_closeness_difference.append(sorted_ccentre_d[i][1] - sorted_ccentre_d[i][0])\n",
    "    else:\n",
    "        cluster_closeness_difference.append(sorted_ccentre_d[i][0] - sorted_ccentre_d[i][cluster_closeness_ind])\n",
    "cluster_closeness_difference = np.asarray(cluster_closeness_difference)"
   ]
  },
  {
   "cell_type": "code",
   "execution_count": null,
   "id": "e61036e6",
   "metadata": {},
   "outputs": [],
   "source": [
    "sorted_ccentre_d.shape"
   ]
  },
  {
   "cell_type": "code",
   "execution_count": null,
   "id": "ced6cc89",
   "metadata": {},
   "outputs": [],
   "source": [
    "cluster_closeness_difference = np.asarray(cluster_closeness_difference).reshape(refine_latwarp2.shape)"
   ]
  },
  {
   "cell_type": "code",
   "execution_count": null,
   "id": "0d2eac93",
   "metadata": {},
   "outputs": [],
   "source": [
    "plt.figure()\n",
    "plt.imshow(cluster_closeness_difference )"
   ]
  },
  {
   "cell_type": "code",
   "execution_count": null,
   "id": "e0c2cc8f",
   "metadata": {},
   "outputs": [],
   "source": [
    "plt.figure()\n",
    "plt.imshow(np.where(cluster_closeness_difference>0,1,0 ))"
   ]
  },
  {
   "cell_type": "code",
   "execution_count": null,
   "id": "5dc27a47",
   "metadata": {},
   "outputs": [],
   "source": []
  },
  {
   "cell_type": "code",
   "execution_count": null,
   "id": "dc923fe9",
   "metadata": {},
   "outputs": [],
   "source": [
    "mean_patt = np.mean(sample.decoded_data, axis = (0,1))"
   ]
  },
  {
   "cell_type": "code",
   "execution_count": null,
   "id": "dcced3bc",
   "metadata": {},
   "outputs": [],
   "source": [
    "plt.figure()\n",
    "plt.imshow(mean_patt)"
   ]
  },
  {
   "cell_type": "code",
   "execution_count": null,
   "id": "6a1e489b",
   "metadata": {},
   "outputs": [],
   "source": [
    "lg = get_latgrid(sample, 100)"
   ]
  },
  {
   "cell_type": "code",
   "execution_count": null,
   "id": "2d5051fe",
   "metadata": {},
   "outputs": [],
   "source": [
    "flg = flatten_nav(lg)"
   ]
  },
  {
   "cell_type": "code",
   "execution_count": null,
   "id": "ea66458f",
   "metadata": {},
   "outputs": [],
   "source": [
    "plt.figure()\n",
    "plt.scatter(flg[:,0], flg[:,1])"
   ]
  },
  {
   "cell_type": "code",
   "execution_count": null,
   "id": "b08cca11",
   "metadata": {},
   "outputs": [],
   "source": [
    "lg_patts = get_terr_patts(flg)"
   ]
  },
  {
   "cell_type": "code",
   "execution_count": null,
   "id": "a5d96e66",
   "metadata": {},
   "outputs": [],
   "source": [
    "mean_patt.shape"
   ]
  },
  {
   "cell_type": "code",
   "execution_count": null,
   "id": "9351b47a",
   "metadata": {},
   "outputs": [],
   "source": [
    "lg_ssi = [SSI(mean_patt, lg_p) for lg_p in lg_patts]"
   ]
  },
  {
   "cell_type": "code",
   "execution_count": null,
   "id": "332b4aac",
   "metadata": {},
   "outputs": [],
   "source": [
    "lg_ssi_img = np.asarray(lg_ssi).reshape(lg.shape[0:2])\n",
    "plt.figure()\n",
    "plt.imshow(lg_ssi_img)"
   ]
  },
  {
   "cell_type": "code",
   "execution_count": null,
   "id": "5304bcb5",
   "metadata": {},
   "outputs": [],
   "source": [
    "plt.figure()\n",
    "plt.scatter(flg[:,0], flg[:,1], c = lg_ssi)\n",
    "plt.colorbar()"
   ]
  },
  {
   "cell_type": "code",
   "execution_count": null,
   "id": "16689a66",
   "metadata": {},
   "outputs": [],
   "source": [
    "plt.figure()\n",
    "plt.scatter(flg[:,0], flg[:,1], c = lg_ssi)\n",
    "plt.colorbar()\n",
    "plt.scatter(sample.encoded_data[:,0], sample.encoded_data[:,1], s = 10, c = 'black', alpha = 0.5)"
   ]
  },
  {
   "cell_type": "code",
   "execution_count": null,
   "id": "2bdb0a83",
   "metadata": {},
   "outputs": [],
   "source": []
  },
  {
   "cell_type": "code",
   "execution_count": null,
   "id": "b0e9a6a9",
   "metadata": {},
   "outputs": [],
   "source": []
  },
  {
   "cell_type": "code",
   "execution_count": null,
   "id": "c466fd11",
   "metadata": {},
   "outputs": [],
   "source": []
  },
  {
   "cell_type": "code",
   "execution_count": null,
   "id": "f1ec2c4b",
   "metadata": {},
   "outputs": [],
   "source": []
  },
  {
   "cell_type": "code",
   "execution_count": null,
   "id": "bf3a8f65",
   "metadata": {},
   "outputs": [],
   "source": []
  },
  {
   "cell_type": "code",
   "execution_count": null,
   "id": "c2c2fd0b",
   "metadata": {},
   "outputs": [],
   "source": []
  },
  {
   "cell_type": "markdown",
   "id": "95e4de1d",
   "metadata": {},
   "source": [
    "## Individual DA investigation"
   ]
  },
  {
   "cell_type": "code",
   "execution_count": null,
   "id": "78d86386",
   "metadata": {},
   "outputs": [],
   "source": [
    "gradient_step = 0.05\n",
    "n_rsteps = 16"
   ]
  },
  {
   "cell_type": "code",
   "execution_count": null,
   "id": "e1e8938f",
   "metadata": {},
   "outputs": [],
   "source": [
    "radial_kernel = gradient_step* np.exp(1j*np.pi*(np.linspace(0, 360, n_rsteps+1)/180))[1:]"
   ]
  },
  {
   "cell_type": "code",
   "execution_count": null,
   "id": "a0078188",
   "metadata": {},
   "outputs": [],
   "source": [
    "def get_individual_movement(point, radial_kernel, w_func):\n",
    "    gradient_points = radial_kernel +point\n",
    "    lat_points = np.append(np.array((point)), gradient_points)\n",
    "    batch = np.concatenate((lat_points.real[:,None], lat_points.imag[:,None]), axis = 1)\n",
    "    lat_patterns = sample.model.decoder(batch).numpy()[:,:,:,0]\n",
    "    c_patt, grad_patts = lat_patterns[0,:,:], lat_patterns[1:,:,:]\n",
    "    weightings = [w_func(c_patt, gp) for gp in grad_patts]\n",
    "    movement = np.sum([weightings[i]*radial_kernel[i] for i in range(len(weightings))])\n",
    "    return movement, lat_patterns, weightings"
   ]
  },
  {
   "cell_type": "code",
   "execution_count": null,
   "id": "b69c2520",
   "metadata": {},
   "outputs": [],
   "source": [
    "test_point = -0.298 +0.389j"
   ]
  },
  {
   "cell_type": "code",
   "execution_count": null,
   "id": "2d2254b1",
   "metadata": {},
   "outputs": [],
   "source": [
    "test_point"
   ]
  },
  {
   "cell_type": "code",
   "execution_count": null,
   "id": "581c211a",
   "metadata": {},
   "outputs": [],
   "source": [
    "move,lp,w = get_individual_movement(test_point, radial_kernel, SSI_weighting)"
   ]
  },
  {
   "cell_type": "code",
   "execution_count": null,
   "id": "89ad3460",
   "metadata": {},
   "outputs": [],
   "source": [
    "np.abs(move)"
   ]
  },
  {
   "cell_type": "code",
   "execution_count": null,
   "id": "4d6a4692",
   "metadata": {},
   "outputs": [],
   "source": [
    "w"
   ]
  },
  {
   "cell_type": "code",
   "execution_count": null,
   "id": "5dd17ae0",
   "metadata": {},
   "outputs": [],
   "source": [
    "fig, ax = plt.subplots(figsize= (10,10))\n",
    "\n",
    "ax.scatter(radial_kernel.real, radial_kernel.imag)\n",
    "\n",
    "from matplotlib.offsetbox import (TextArea, DrawingArea, OffsetImage,\n",
    "                                  AnnotationBbox)\n",
    "\n",
    "im = OffsetImage(lp[0], zoom=0.5)\n",
    "im.image.axes = ax\n",
    "\n",
    "ab = AnnotationBbox(im, (0, 0),\n",
    "                    xybox=(0, 50),\n",
    "                    xycoords='data',\n",
    "                    boxcoords=\"offset points\",\n",
    "                    pad=0.3,\n",
    "                    arrowprops=dict(arrowstyle=\"->\"))\n",
    "ax.add_artist(ab)\n",
    "\n",
    "\n",
    "for i in range(len(radial_kernel)):\n",
    "    im = OffsetImage(lp[i+1], zoom=0.5)\n",
    "    im.image.axes = ax\n",
    "\n",
    "    ab = AnnotationBbox(im, (radial_kernel[i].real, radial_kernel[i].imag),\n",
    "                        xybox=(0, 50.),\n",
    "                        xycoords='data',\n",
    "                        boxcoords=\"offset points\",\n",
    "                        pad=0.3,\n",
    "                        arrowprops=dict(arrowstyle=\"->\"))\n",
    "    ax.add_artist(ab)\n",
    "    \n",
    "\n",
    "vec = gradient_step*move/(2*np.abs(move))\n",
    "\n",
    "ax.arrow(0,0,vec.real, vec.imag)\n",
    "ax.axis('off')\n",
    "\n",
    "ax.annotate(f'{np.round(np.abs(move),5)}',(vec.real,vec.imag+0.005),fontsize=15)"
   ]
  },
  {
   "cell_type": "code",
   "execution_count": null,
   "id": "6f24ccf1",
   "metadata": {},
   "outputs": [],
   "source": []
  },
  {
   "cell_type": "code",
   "execution_count": null,
   "id": "ff4b9c52",
   "metadata": {},
   "outputs": [],
   "source": [
    "test_data = np.concatenate((np.random.rand(3000,2)-1, np.random.rand(3000,2)+1))"
   ]
  },
  {
   "cell_type": "code",
   "execution_count": null,
   "id": "f7f17bde",
   "metadata": {},
   "outputs": [],
   "source": [
    "from sklearn.neighbors import NearestNeighbors\n",
    "neigh = NearestNeighbors(n_neighbors=200)\n",
    "neigh.fit(test_data)"
   ]
  },
  {
   "cell_type": "code",
   "execution_count": null,
   "id": "72e79bfc",
   "metadata": {},
   "outputs": [],
   "source": [
    "d = np.mean(neigh.kneighbors(test_data)[0], axis = 1)"
   ]
  },
  {
   "cell_type": "code",
   "execution_count": null,
   "id": "d2d39a87",
   "metadata": {},
   "outputs": [],
   "source": [
    "plt.figure()\n",
    "plt.scatter(test_data[:,0], test_data[:,1], c= d)"
   ]
  },
  {
   "cell_type": "code",
   "execution_count": null,
   "id": "d536d176",
   "metadata": {},
   "outputs": [],
   "source": [
    "from skimage.transform import PiecewiseAffineTransform, warp"
   ]
  },
  {
   "cell_type": "code",
   "execution_count": null,
   "id": "a31f6f01",
   "metadata": {},
   "outputs": [],
   "source": [
    "\n",
    "src_cols = np.linspace(-1, 1, 20)\n",
    "src_rows = np.linspace(-1, 1, 20)\n",
    "src_rows, src_cols = np.meshgrid(src_rows, src_cols)\n",
    "src = np.dstack([src_cols.flat, src_rows.flat])[0]\n",
    "\n",
    "\n"
   ]
  },
  {
   "cell_type": "code",
   "execution_count": null,
   "id": "f4756d69",
   "metadata": {},
   "outputs": [],
   "source": [
    "latgrid = flatten_nav(get_latgrid(sample, res =200))\n",
    "\n",
    "comp_latgrid = latgrid[:,0] + 1j*latgrid[:,1]"
   ]
  },
  {
   "cell_type": "code",
   "execution_count": null,
   "id": "bf4feb8e",
   "metadata": {},
   "outputs": [],
   "source": []
  },
  {
   "cell_type": "code",
   "execution_count": null,
   "id": "28c3874c",
   "metadata": {},
   "outputs": [],
   "source": []
  },
  {
   "cell_type": "code",
   "execution_count": null,
   "id": "43b28607",
   "metadata": {},
   "outputs": [],
   "source": []
  },
  {
   "cell_type": "code",
   "execution_count": null,
   "id": "eaef1b71",
   "metadata": {},
   "outputs": [],
   "source": []
  },
  {
   "cell_type": "code",
   "execution_count": null,
   "id": "7d2bc98d",
   "metadata": {},
   "outputs": [],
   "source": []
  },
  {
   "cell_type": "code",
   "execution_count": null,
   "id": "68733986",
   "metadata": {},
   "outputs": [],
   "source": []
  },
  {
   "cell_type": "code",
   "execution_count": null,
   "id": "7e6d7b5c",
   "metadata": {},
   "outputs": [],
   "source": [
    "comp_latspace = latspace[:,0] + 1j*latspace[:,1]"
   ]
  },
  {
   "cell_type": "code",
   "execution_count": null,
   "id": "ee6f9d80",
   "metadata": {},
   "outputs": [],
   "source": [
    "gradient_step = 0.05\n",
    "n_rsteps = 16"
   ]
  },
  {
   "cell_type": "code",
   "execution_count": null,
   "id": "54b50fc9",
   "metadata": {},
   "outputs": [],
   "source": [
    "radial_kernel = gradient_step* np.exp(1j*np.pi*(np.linspace(0, 360, n_rsteps+1)/180))[1:]"
   ]
  },
  {
   "cell_type": "code",
   "execution_count": null,
   "id": "fb8b3031",
   "metadata": {},
   "outputs": [],
   "source": [
    "grad_p1, decdat1 = get_grad_and_decode_data(comp_latspace, radial_kernel)"
   ]
  },
  {
   "cell_type": "code",
   "execution_count": null,
   "id": "45ef825f",
   "metadata": {},
   "outputs": [],
   "source": [
    "delta_gp1 = batch_calc_grad(grad_p1, radial_kernel, decdat1, SSI_weighting, 256)"
   ]
  },
  {
   "cell_type": "code",
   "execution_count": null,
   "id": "5c2be35d",
   "metadata": {},
   "outputs": [],
   "source": [
    "steps1 = norm_step_from_grad(delta_gp1,gradient_step*10)\n",
    "op1, np1, current_ps1, gm1 = adjust_encoding(comp_latspace, steps1, comp_latspace, np.where(comp_latspace != None))"
   ]
  },
  {
   "cell_type": "code",
   "execution_count": null,
   "id": "a776b489",
   "metadata": {},
   "outputs": [],
   "source": [
    "plt.figure(figsize = (8,8))\n",
    "plt.scatter(op1[0], op1[1],s =50)\n",
    "plt.scatter(np1[0], np1[1],s =50)\n",
    "plt.scatter(sample.encoded_data[:,0], sample.encoded_data[:,1], s = 10, alpha = 0.2)"
   ]
  },
  {
   "cell_type": "code",
   "execution_count": null,
   "id": "95f43f17",
   "metadata": {},
   "outputs": [],
   "source": [
    "o_latspace = np.asarray(op1).T\n",
    "n_latspace = np.asarray(np1).T"
   ]
  },
  {
   "cell_type": "code",
   "execution_count": null,
   "id": "b283d154",
   "metadata": {},
   "outputs": [],
   "source": [
    "n_latspace.shape"
   ]
  },
  {
   "cell_type": "code",
   "execution_count": null,
   "id": "530c9621",
   "metadata": {},
   "outputs": [],
   "source": [
    "tform = PiecewiseAffineTransform()\n",
    "tform.estimate(n_latspace, o_latspace)"
   ]
  },
  {
   "cell_type": "code",
   "execution_count": null,
   "id": "1c305c3e",
   "metadata": {},
   "outputs": [],
   "source": [
    "test_data = sample.encoded_data"
   ]
  },
  {
   "cell_type": "code",
   "execution_count": null,
   "id": "c659e897",
   "metadata": {},
   "outputs": [],
   "source": [
    "out_data = tform.inverse(test_data)"
   ]
  },
  {
   "cell_type": "code",
   "execution_count": null,
   "id": "cc0c7cd4",
   "metadata": {},
   "outputs": [],
   "source": [
    "for i in range(100):\n",
    "    r_out_data = tform.inverse(r_out_data)"
   ]
  },
  {
   "cell_type": "code",
   "execution_count": null,
   "id": "1fc7e8d9",
   "metadata": {},
   "outputs": [],
   "source": []
  },
  {
   "cell_type": "code",
   "execution_count": null,
   "id": "3ada2b3a",
   "metadata": {},
   "outputs": [],
   "source": [
    "plt.figure()\n",
    "#plt.scatter(test_data[:,0], test_data[:,1], s =10)\n",
    "#plt.scatter(out_data[:,0], out_data[:,1], s =10)\n",
    "plt.scatter(out_data[:,0], out_data[:,1], s =10, alpha = 0.01, c=db)"
   ]
  },
  {
   "cell_type": "code",
   "execution_count": null,
   "id": "81fa8c96",
   "metadata": {},
   "outputs": [],
   "source": [
    "db = DBSCAN(eps = 0.05, min_samples= 10).fit_predict(r_out_data)"
   ]
  },
  {
   "cell_type": "code",
   "execution_count": null,
   "id": "853c4e5d",
   "metadata": {},
   "outputs": [],
   "source": [
    "db.max()"
   ]
  },
  {
   "cell_type": "code",
   "execution_count": null,
   "id": "6342e0f7",
   "metadata": {},
   "outputs": [],
   "source": [
    "plt.figure()\n",
    "plt.imshow(db.reshape(255,255))"
   ]
  },
  {
   "cell_type": "code",
   "execution_count": null,
   "id": "595a7a3a",
   "metadata": {},
   "outputs": [],
   "source": []
  },
  {
   "cell_type": "code",
   "execution_count": null,
   "id": "57e3d77c",
   "metadata": {},
   "outputs": [],
   "source": []
  },
  {
   "cell_type": "code",
   "execution_count": null,
   "id": "5d1cab91",
   "metadata": {},
   "outputs": [],
   "source": [
    "n_latspace = latspace +np.random.rand(latspace.shape[0],latspace.shape[1])/5"
   ]
  },
  {
   "cell_type": "code",
   "execution_count": null,
   "id": "8ba8c643",
   "metadata": {},
   "outputs": [],
   "source": [
    "plt.figure()\n",
    "plt.scatter(n_latspace[:,0], n_latspace[:,1])"
   ]
  },
  {
   "cell_type": "code",
   "execution_count": null,
   "id": "6bb51e62",
   "metadata": {},
   "outputs": [],
   "source": [
    "tform = PiecewiseAffineTransform()\n",
    "tform.estimate(n_latspace, latspace)"
   ]
  },
  {
   "cell_type": "code",
   "execution_count": null,
   "id": "1602a0ec",
   "metadata": {},
   "outputs": [],
   "source": []
  },
  {
   "cell_type": "code",
   "execution_count": null,
   "id": "18e7012c",
   "metadata": {},
   "outputs": [],
   "source": [
    "trans = tform.inverse(src)"
   ]
  },
  {
   "cell_type": "code",
   "execution_count": null,
   "id": "1ad2fc9a",
   "metadata": {},
   "outputs": [],
   "source": [
    "plt.figure()\n",
    "plt.scatter(src[:,0], src[:,1])"
   ]
  },
  {
   "cell_type": "code",
   "execution_count": null,
   "id": "3a97205d",
   "metadata": {},
   "outputs": [],
   "source": [
    "plt.figure()\n",
    "plt.scatter(trans[:,0], trans[:,1])"
   ]
  },
  {
   "cell_type": "code",
   "execution_count": null,
   "id": "9c41cb8e",
   "metadata": {},
   "outputs": [],
   "source": []
  },
  {
   "cell_type": "code",
   "execution_count": null,
   "id": "26a56d0d",
   "metadata": {},
   "outputs": [],
   "source": []
  },
  {
   "cell_type": "code",
   "execution_count": null,
   "id": "748f1277",
   "metadata": {},
   "outputs": [],
   "source": []
  },
  {
   "cell_type": "code",
   "execution_count": null,
   "id": "7f00dd92",
   "metadata": {},
   "outputs": [],
   "source": []
  },
  {
   "cell_type": "code",
   "execution_count": null,
   "id": "a9992d3a",
   "metadata": {},
   "outputs": [],
   "source": []
  },
  {
   "cell_type": "code",
   "execution_count": null,
   "id": "bfddf70f",
   "metadata": {},
   "outputs": [],
   "source": []
  },
  {
   "cell_type": "code",
   "execution_count": null,
   "id": "a06bee81",
   "metadata": {},
   "outputs": [],
   "source": []
  },
  {
   "cell_type": "code",
   "execution_count": null,
   "id": "ed30d832",
   "metadata": {},
   "outputs": [],
   "source": []
  },
  {
   "cell_type": "code",
   "execution_count": null,
   "id": "12c57ef3",
   "metadata": {},
   "outputs": [],
   "source": []
  },
  {
   "cell_type": "code",
   "execution_count": null,
   "id": "7a6c85df",
   "metadata": {},
   "outputs": [],
   "source": [
    "kde = KernelDensity(\n",
    "    bandwidth=0.025, metric=\"euclidean\", kernel=\"gaussian\", algorithm=\"ball_tree\"\n",
    ")"
   ]
  },
  {
   "cell_type": "code",
   "execution_count": null,
   "id": "564a32da",
   "metadata": {},
   "outputs": [],
   "source": [
    "kde.fit(sample.encoded_data)"
   ]
  },
  {
   "cell_type": "code",
   "execution_count": null,
   "id": "8850023b",
   "metadata": {},
   "outputs": [],
   "source": [
    "nx, ny = (20, 20)\n",
    "x = np.linspace(-0.1, 0.3, nx)\n",
    "y = np.linspace(0.4, 0.6, ny)\n",
    "X, Y = np.meshgrid(x,y)\n",
    "\n",
    "\n",
    "xy = np.vstack([Y.ravel(), X.ravel()]).T"
   ]
  },
  {
   "cell_type": "code",
   "execution_count": null,
   "id": "ed0010da",
   "metadata": {},
   "outputs": [],
   "source": [
    "Z= np.exp(kde.score_samples(xy))\n",
    "Z = Z.reshape(X.shape)"
   ]
  },
  {
   "cell_type": "code",
   "execution_count": null,
   "id": "f28abd39",
   "metadata": {},
   "outputs": [],
   "source": [
    "levels = np.linspace(0, Z.max(), 25)\n",
    "plt.figure()\n",
    "plt.contourf(X, Y, Z, levels=levels, cmap=plt.cm.Reds)\n",
    "plt.scatter(sample.encoded_data[:,0], sample.encoded_data[:,1],s =5, alpha=0.2)\n",
    "plt.xlim([-0.1,0.3])\n",
    "plt.ylim([0.4,0.6])"
   ]
  },
  {
   "cell_type": "code",
   "execution_count": null,
   "id": "22000d3d",
   "metadata": {},
   "outputs": [],
   "source": []
  },
  {
   "cell_type": "code",
   "execution_count": null,
   "id": "933fe15c",
   "metadata": {},
   "outputs": [],
   "source": []
  },
  {
   "cell_type": "markdown",
   "id": "ac4a0848",
   "metadata": {},
   "source": [
    "## Density Adjustment"
   ]
  },
  {
   "cell_type": "code",
   "execution_count": null,
   "id": "5c1c50d7",
   "metadata": {},
   "outputs": [],
   "source": [
    "sample.encoded_data.shape"
   ]
  },
  {
   "cell_type": "code",
   "execution_count": null,
   "id": "6702e185",
   "metadata": {},
   "outputs": [],
   "source": [
    "gradient_step = 0.05\n",
    "n_rsteps = 16"
   ]
  },
  {
   "cell_type": "code",
   "execution_count": null,
   "id": "981345d6",
   "metadata": {},
   "outputs": [],
   "source": [
    "comp_enc = sample.encoded_data[:,0] +1j*sample.encoded_data[:,1]"
   ]
  },
  {
   "cell_type": "code",
   "execution_count": null,
   "id": "57bfa27a",
   "metadata": {},
   "outputs": [],
   "source": [
    "radial_kernel = gradient_step* np.exp(1j*np.pi*(np.linspace(0, 360, n_rsteps+1)/180))[1:]"
   ]
  },
  {
   "cell_type": "code",
   "execution_count": null,
   "id": "2357d4d3",
   "metadata": {},
   "outputs": [],
   "source": [
    "plt.figure()\n",
    "plt.scatter(radial_kernel.real, radial_kernel.imag)"
   ]
  },
  {
   "cell_type": "code",
   "execution_count": null,
   "id": "e4003e49",
   "metadata": {},
   "outputs": [],
   "source": [
    "grad_p1, decdat1 = get_grad_and_decode_data(comp_enc, radial_kernel)"
   ]
  },
  {
   "cell_type": "code",
   "execution_count": null,
   "id": "b791cf91",
   "metadata": {},
   "outputs": [],
   "source": [
    "delta_gp1 = batch_calc_grad(grad_p1, radial_kernel, decdat1, SSI_weighting, 256)"
   ]
  },
  {
   "cell_type": "code",
   "execution_count": null,
   "id": "ae89184b",
   "metadata": {},
   "outputs": [],
   "source": [
    "steps1 = norm_step_from_grad(delta_gp1,gradient_step)\n",
    "op1, np1, current_ps1, gm1 = adjust_encoding(comp_enc, steps1, comp_enc, np.where(comp_enc != None))"
   ]
  },
  {
   "cell_type": "code",
   "execution_count": null,
   "id": "8a03b671",
   "metadata": {},
   "outputs": [],
   "source": [
    "plt.figure(figsize = (8,8))\n",
    "#plt.scatter(op1[0], op1[1],s =10,c= np.abs(steps1))\n",
    "plt.scatter(np1[0], np1[1],s =10, c= np.abs(steps1))\n",
    "plt.xlim([-0.5,0.5])\n",
    "plt.ylim([-0.5,0.6])"
   ]
  },
  {
   "cell_type": "code",
   "execution_count": null,
   "id": "2e6b7876",
   "metadata": {},
   "outputs": [],
   "source": [
    "plt.figure(figsize = (10,10))\n",
    "#plt.scatter(comp_enc.real, comp_enc.imag,s =10)\n",
    "plt.scatter(current_ps1.real, current_ps1.imag,s =10)\n",
    "#plt.xlim([-0.5,0.5])\n",
    "#plt.ylim([-0.5,0.6])"
   ]
  },
  {
   "cell_type": "markdown",
   "id": "437caea5",
   "metadata": {},
   "source": [
    "## Pass 2"
   ]
  },
  {
   "cell_type": "code",
   "execution_count": null,
   "id": "5fd9adfe",
   "metadata": {},
   "outputs": [],
   "source": []
  },
  {
   "cell_type": "code",
   "execution_count": null,
   "id": "4567953e",
   "metadata": {},
   "outputs": [],
   "source": [
    "mp2, mplocs2 = get_mobile_points(current_ps1,steps1, thresh = 0.0015)"
   ]
  },
  {
   "cell_type": "code",
   "execution_count": null,
   "id": "e7c8891d",
   "metadata": {},
   "outputs": [],
   "source": [
    "plt.figure(figsize = (10,10))\n",
    "plt.scatter(current_ps1.real, current_ps1.imag,s =10)\n",
    "plt.scatter(mp2.real, mp2.imag,s =10)\n",
    "plt.xlim([-0.5,0.5])\n",
    "plt.ylim([-0.5,0.6])"
   ]
  },
  {
   "cell_type": "code",
   "execution_count": null,
   "id": "cfd58e9a",
   "metadata": {},
   "outputs": [],
   "source": [
    "grad_p2, decdat2 = get_grad_and_decode_data(mp2, radial_kernel)"
   ]
  },
  {
   "cell_type": "code",
   "execution_count": null,
   "id": "a2ef5dca",
   "metadata": {
    "scrolled": true
   },
   "outputs": [],
   "source": [
    "delta_gp2 = batch_calc_grad(grad_p2, radial_kernel, decdat2, SSI_weighting, 256)"
   ]
  },
  {
   "cell_type": "code",
   "execution_count": null,
   "id": "0eb6dcc2",
   "metadata": {},
   "outputs": [],
   "source": [
    "steps2 = norm_step_from_grad(delta_gp2,gradient_step)\n",
    "op2, np2, current_ps2, gm2 = adjust_encoding(mp2, steps2, comp_enc, mplocs2)"
   ]
  },
  {
   "cell_type": "code",
   "execution_count": null,
   "id": "5e8d69d5",
   "metadata": {},
   "outputs": [],
   "source": [
    "plt.figure(figsize = (10,10))\n",
    "plt.scatter(op2[0], op2[1],s =10)#,c= np.abs(steps2))\n",
    "plt.scatter(np2[0], np2[1],s =10)#, c= np.where(np.abs(steps2)>0.005,1,0))\n",
    "plt.xlim([-0.5,0.5])\n",
    "plt.ylim([-0.5,0.6])"
   ]
  },
  {
   "cell_type": "code",
   "execution_count": null,
   "id": "5358c410",
   "metadata": {},
   "outputs": [],
   "source": [
    "plt.figure(figsize = (10,10))\n",
    "plt.scatter(comp_enc.real, comp_enc.imag,s =10)\n",
    "plt.scatter(current_ps2.real, current_ps2.imag,s =10)\n",
    "plt.xlim([-0.5,0.5])\n",
    "plt.ylim([-0.5,0.6])"
   ]
  },
  {
   "cell_type": "code",
   "execution_count": null,
   "id": "cb5bd5ea",
   "metadata": {},
   "outputs": [],
   "source": [
    "updated_mp2 = np2[0]+1j*np2[1]"
   ]
  },
  {
   "cell_type": "markdown",
   "id": "cdfd1ff4",
   "metadata": {},
   "source": [
    "## Pass 3"
   ]
  },
  {
   "cell_type": "code",
   "execution_count": null,
   "id": "6f1aff27",
   "metadata": {},
   "outputs": [],
   "source": [
    "mp3, mplocs3 = updated_mp2, mplocs2"
   ]
  },
  {
   "cell_type": "code",
   "execution_count": null,
   "id": "e06ad028",
   "metadata": {},
   "outputs": [],
   "source": [
    "len(mp3)"
   ]
  },
  {
   "cell_type": "code",
   "execution_count": null,
   "id": "3148e50a",
   "metadata": {},
   "outputs": [],
   "source": [
    "plt.figure(figsize = (10,10))\n",
    "plt.scatter(current_ps2.real, current_ps2.imag,s =10)\n",
    "plt.scatter(mp3.real, mp3.imag,s =10)\n",
    "plt.xlim([-0.5,0.5])\n",
    "plt.ylim([-0.5,0.6])"
   ]
  },
  {
   "cell_type": "code",
   "execution_count": null,
   "id": "c5f37915",
   "metadata": {},
   "outputs": [],
   "source": [
    "grad_p3, decdat3 = get_grad_and_decode_data(mp3, radial_kernel)"
   ]
  },
  {
   "cell_type": "code",
   "execution_count": null,
   "id": "86d0b821",
   "metadata": {
    "scrolled": true
   },
   "outputs": [],
   "source": [
    "delta_gp3 = batch_calc_grad(grad_p3, radial_kernel, decdat3, SSI_weighting, 256)"
   ]
  },
  {
   "cell_type": "code",
   "execution_count": null,
   "id": "e651ca24",
   "metadata": {},
   "outputs": [],
   "source": [
    "steps3 = norm_step_from_grad(delta_gp3,3*gradient_step)\n",
    "op3, np3, current_ps3, gm3 = adjust_encoding(mp3, steps3, comp_enc, mplocs3)\n",
    "updated_mp3 = np3[0]+1j*np3[1]"
   ]
  },
  {
   "cell_type": "code",
   "execution_count": null,
   "id": "9abb7d3f",
   "metadata": {},
   "outputs": [],
   "source": [
    "plt.figure(figsize = (10,10))\n",
    "plt.scatter(op3[0], op3[1],s =10)#,c= np.abs(steps2))\n",
    "plt.scatter(np3[0], np3[1],s =10)#, c= np.abs(steps2))\n",
    "plt.xlim([-0.5,0.5])\n",
    "plt.ylim([-0.5,0.6])"
   ]
  },
  {
   "cell_type": "code",
   "execution_count": null,
   "id": "08271a1a",
   "metadata": {},
   "outputs": [],
   "source": [
    "plt.figure(figsize = (10,10))\n",
    "plt.scatter(comp_enc.real, comp_enc.imag,s =10)\n",
    "plt.scatter(current_ps3.real, current_ps3.imag,s =10)\n",
    "plt.xlim([-1,1])\n",
    "plt.ylim([-1,1])"
   ]
  },
  {
   "cell_type": "code",
   "execution_count": null,
   "id": "5042ced8",
   "metadata": {},
   "outputs": [],
   "source": [
    "mp4, mplocs4,mp3locs4 = get_mobile_points(updated_mp3,steps3,mplocs3[0],0.0075, relative_locs=True)"
   ]
  },
  {
   "cell_type": "code",
   "execution_count": null,
   "id": "3bf9db96",
   "metadata": {},
   "outputs": [],
   "source": [
    "plt.figure(figsize = (10,10))\n",
    "plt.scatter(updated_mp3.real, updated_mp3.imag,s =10)\n",
    "plt.scatter(mp4.real,mp4.imag,s=10)\n",
    "plt.xlim([-1,1])\n",
    "plt.ylim([-1,1])"
   ]
  },
  {
   "cell_type": "code",
   "execution_count": null,
   "id": "92ffc378",
   "metadata": {},
   "outputs": [],
   "source": [
    "grad_p4, decdat4 = get_grad_and_decode_data(mp4, radial_kernel)"
   ]
  },
  {
   "cell_type": "code",
   "execution_count": null,
   "id": "922f1f07",
   "metadata": {
    "scrolled": true
   },
   "outputs": [],
   "source": [
    "delta_gp4 = batch_calc_grad(grad_p4, radial_kernel, decdat4, SSI_weighting, 256)"
   ]
  },
  {
   "cell_type": "code",
   "execution_count": null,
   "id": "92cf24ce",
   "metadata": {},
   "outputs": [],
   "source": [
    "def step_dot(step1,step2):\n",
    "    fs1 = np.concatenate((step1.real[:,None], step1.imag[:,None]),axis = 1)\n",
    "    fs2 = np.concatenate((step2.real[:,None], step2.imag[:,None]),axis = 1)\n",
    "    fs1 = fs1/np.linalg.norm(fs1, axis = 1)[:,None]\n",
    "    fs2 = fs2/np.linalg.norm(fs2, axis =1)[:,None]\n",
    "    return [np.dot(fs1[i], fs2[i]) for i in range(len(fs1))]"
   ]
  },
  {
   "cell_type": "code",
   "execution_count": null,
   "id": "b63f84c1",
   "metadata": {},
   "outputs": [],
   "source": []
  },
  {
   "cell_type": "code",
   "execution_count": null,
   "id": "6c1110aa",
   "metadata": {},
   "outputs": [],
   "source": []
  },
  {
   "cell_type": "code",
   "execution_count": null,
   "id": "e5189512",
   "metadata": {},
   "outputs": [],
   "source": [
    "steps4 = norm_step_from_grad(delta_gp4,10*gradient_step)\n",
    "bounce_points = np.where(np.asarray(step_dot(steps3[mp3locs4],steps4))<0.75)\n",
    "steps4[bounce_points] = 0+0*1j\n",
    "\n",
    "\n",
    "\n",
    "op4, np4, current_ps4, gm4 = adjust_encoding(mp4, steps4, comp_enc, mplocs4)\n",
    "updated_mp4 = np4[0]+1j*np4[1]"
   ]
  },
  {
   "cell_type": "code",
   "execution_count": null,
   "id": "0ade8843",
   "metadata": {},
   "outputs": [],
   "source": [
    "plt.figure(figsize = (10,10))\n",
    "plt.scatter(op4[0], op4[1],s =10)\n",
    "plt.scatter(np4[0], np4[1],s =10)#, c= np.abs(steps2))\n",
    "plt.xlim([-0.5,0.5])\n",
    "plt.ylim([-0.5,0.6])"
   ]
  },
  {
   "cell_type": "code",
   "execution_count": null,
   "id": "a0581e6d",
   "metadata": {},
   "outputs": [],
   "source": [
    "plt.figure(figsize = (10,10))\n",
    "#plt.scatter(comp_enc.real, comp_enc.imag,s =10)\n",
    "plt.scatter(current_ps4.real, current_ps4.imag,s =10, alpha = 0.2)\n",
    "plt.xlim([-1,1])\n",
    "plt.ylim([-1,1])"
   ]
  },
  {
   "cell_type": "code",
   "execution_count": null,
   "id": "8e87d262",
   "metadata": {},
   "outputs": [],
   "source": [
    "CP = np.concatenate((current_ps4.real[:,None], current_ps4.imag[:,None]), axis = 1)"
   ]
  },
  {
   "cell_type": "code",
   "execution_count": null,
   "id": "a3b289db",
   "metadata": {},
   "outputs": [],
   "source": [
    "np.save('/dls/science/groups/imaging/ePSIC_students/Al_alloy_4DSTEM_EM19064-2/refine_enc_positions_2.npy', CP)"
   ]
  },
  {
   "cell_type": "code",
   "execution_count": null,
   "id": "1099982f",
   "metadata": {},
   "outputs": [],
   "source": []
  },
  {
   "cell_type": "code",
   "execution_count": null,
   "id": "ce2440a1",
   "metadata": {},
   "outputs": [],
   "source": []
  },
  {
   "cell_type": "code",
   "execution_count": null,
   "id": "8409eff2",
   "metadata": {},
   "outputs": [],
   "source": []
  },
  {
   "cell_type": "code",
   "execution_count": null,
   "id": "57fc4bd0",
   "metadata": {},
   "outputs": [],
   "source": []
  },
  {
   "cell_type": "code",
   "execution_count": null,
   "id": "acf19d1f",
   "metadata": {},
   "outputs": [],
   "source": []
  },
  {
   "cell_type": "code",
   "execution_count": null,
   "id": "2e54e404",
   "metadata": {},
   "outputs": [],
   "source": []
  },
  {
   "cell_type": "code",
   "execution_count": null,
   "id": "ad1841ac",
   "metadata": {},
   "outputs": [],
   "source": []
  },
  {
   "cell_type": "code",
   "execution_count": null,
   "id": "bbcf6d96",
   "metadata": {},
   "outputs": [],
   "source": []
  },
  {
   "cell_type": "code",
   "execution_count": null,
   "id": "87656051",
   "metadata": {},
   "outputs": [],
   "source": [
    "comp_enc = sample.encoded_data[:,0] +1j*sample.encoded_data[:,1]\n",
    "dec_dat = flatten_nav(sample.decoded_data)"
   ]
  },
  {
   "cell_type": "code",
   "execution_count": null,
   "id": "ad242fec",
   "metadata": {},
   "outputs": [],
   "source": [
    "radial_kernel = gradient_step* np.exp(1j*np.pi*(np.linspace(0, 360, n_rsteps+1)/180))[1:]"
   ]
  },
  {
   "cell_type": "code",
   "execution_count": null,
   "id": "4cd7efa4",
   "metadata": {},
   "outputs": [],
   "source": [
    "plt.figure()\n",
    "plt.scatter(radial_kernel.real, radial_kernel.imag)"
   ]
  },
  {
   "cell_type": "code",
   "execution_count": null,
   "id": "58014c15",
   "metadata": {},
   "outputs": [],
   "source": [
    "mp3, mp3_loc = get_mobile_points(op2[0],op2[1], gm2, mp2_loc)\n",
    "\n",
    "len(mp3_loc)\n",
    "\n",
    "gp3, dd3 = get_grad_and_decode_data(mp3, radial_kernel)\n",
    "\n",
    "d_gp3 = batch_calc_grad(gp3, radial_kernel, dd3,256)\n",
    "\n",
    "op3, np3, current_ps, gm3 = adjust_encoding(mp3, gradient_step, d_gp3, current_ps, mp3_loc)\n",
    "\n",
    "plt.figure(figsize = (8,8))\n",
    "plt.scatter(op3[0], op3[1],s =10)\n",
    "plt.scatter(np3[0], np3[1],s =10)\n",
    "\n",
    "plt.figure(figsize = (8,8))\n",
    "plt.scatter(comp_enc.real, comp_enc.imag,s =10)\n",
    "plt.scatter(current_ps.real, current_ps.imag,s =10)"
   ]
  },
  {
   "cell_type": "code",
   "execution_count": null,
   "id": "231454d0",
   "metadata": {},
   "outputs": [],
   "source": []
  },
  {
   "cell_type": "code",
   "execution_count": null,
   "id": "9b84723b",
   "metadata": {},
   "outputs": [],
   "source": []
  },
  {
   "cell_type": "code",
   "execution_count": null,
   "id": "7eb00cc5",
   "metadata": {},
   "outputs": [],
   "source": [
    "grad_points = np.repeat(comp_enc[:,None], n_rsteps, axis = 1) + radial_kernel[None, :]"
   ]
  },
  {
   "cell_type": "code",
   "execution_count": null,
   "id": "82a553ac",
   "metadata": {},
   "outputs": [],
   "source": []
  },
  {
   "cell_type": "code",
   "execution_count": null,
   "id": "ac610922",
   "metadata": {},
   "outputs": [],
   "source": [
    "print(grad_points.shape, dec_dat.shape)"
   ]
  },
  {
   "cell_type": "code",
   "execution_count": null,
   "id": "42f7b1f6",
   "metadata": {
    "scrolled": true
   },
   "outputs": [],
   "source": [
    "d_gp = batch_calc_grad(grad_points, radial_kernel, dec_dat,256)"
   ]
  },
  {
   "cell_type": "code",
   "execution_count": null,
   "id": "decaa3c2",
   "metadata": {},
   "outputs": [],
   "source": [
    "X,Y  = comp_enc.real, comp_enc.imag"
   ]
  },
  {
   "cell_type": "code",
   "execution_count": null,
   "id": "076e8b1b",
   "metadata": {},
   "outputs": [],
   "source": [
    "grad_mag = np.abs(d_gp)"
   ]
  },
  {
   "cell_type": "code",
   "execution_count": null,
   "id": "55959916",
   "metadata": {},
   "outputs": [],
   "source": [
    "scale = gradient_step/np.max(np.abs(d_gp))"
   ]
  },
  {
   "cell_type": "code",
   "execution_count": null,
   "id": "96af0c8d",
   "metadata": {},
   "outputs": [],
   "source": [
    "grads = scale*d_gp"
   ]
  },
  {
   "cell_type": "code",
   "execution_count": null,
   "id": "5b338cea",
   "metadata": {},
   "outputs": [],
   "source": [
    "dX, dY = grads.real, grads.imag"
   ]
  },
  {
   "cell_type": "code",
   "execution_count": null,
   "id": "374273e7",
   "metadata": {},
   "outputs": [],
   "source": [
    "U, V = X+dX, Y+dY"
   ]
  },
  {
   "cell_type": "code",
   "execution_count": null,
   "id": "b5ab3590",
   "metadata": {},
   "outputs": [],
   "source": [
    "plt.figure()\n",
    "plt.scatter(comp_enc.real,comp_enc.imag,s =10,) #c = np.abs(d_gp))\n",
    "#plt.scatter(U,V, alpha = 0.5, s =2, c = np.abs(d_gp))\n",
    "#[plt.arrow(X[i],Y[i],dX[i],dY[i]) for i in range(len(X))]\n",
    "#print('done')"
   ]
  },
  {
   "cell_type": "code",
   "execution_count": null,
   "id": "90aaa758",
   "metadata": {},
   "outputs": [],
   "source": [
    "plt.figure()\n",
    "#plt.scatter(X,Y,s =20, c = np.abs(d_gp))\n",
    "plt.scatter(U,V, s =20, c = np.abs(d_gp))"
   ]
  },
  {
   "cell_type": "code",
   "execution_count": null,
   "id": "190cfb24",
   "metadata": {},
   "outputs": [],
   "source": [
    "new_comp_enc = U+1j*V"
   ]
  },
  {
   "cell_type": "code",
   "execution_count": null,
   "id": "2e73ee10",
   "metadata": {},
   "outputs": [],
   "source": [
    "mp_locs = np.where(grad_mag > np.mean(grad_mag))"
   ]
  },
  {
   "cell_type": "code",
   "execution_count": null,
   "id": "149bafa3",
   "metadata": {},
   "outputs": [],
   "source": [
    "mobile_points = new_comp_enc[mp_locs]"
   ]
  },
  {
   "cell_type": "code",
   "execution_count": null,
   "id": "5e5e09ca",
   "metadata": {},
   "outputs": [],
   "source": [
    "plt.figure()\n",
    "plt.scatter(mobile_points.real, mobile_points.imag)"
   ]
  },
  {
   "cell_type": "code",
   "execution_count": null,
   "id": "5f4c3928",
   "metadata": {},
   "outputs": [],
   "source": [
    "grad_points = np.repeat(mobile_points[:,None], n_rsteps, axis = 1) + radial_kernel[None, :]"
   ]
  },
  {
   "cell_type": "code",
   "execution_count": null,
   "id": "9f6bdf14",
   "metadata": {},
   "outputs": [],
   "source": [
    "grad_points.shape"
   ]
  },
  {
   "cell_type": "code",
   "execution_count": null,
   "id": "a9d4edc0",
   "metadata": {},
   "outputs": [],
   "source": [
    "dec_dat = get_terr_patts(np.concatenate([mobile_points.real[:,None], mobile_points.imag[:,None]],axis = 1))"
   ]
  },
  {
   "cell_type": "code",
   "execution_count": null,
   "id": "95530ade",
   "metadata": {},
   "outputs": [],
   "source": [
    "print(grad_points.shape, dec_dat.shape)"
   ]
  },
  {
   "cell_type": "code",
   "execution_count": null,
   "id": "005a7260",
   "metadata": {
    "scrolled": true
   },
   "outputs": [],
   "source": [
    "d_gp = batch_calc_grad(grad_points, radial_kernel, dec_dat,256)"
   ]
  },
  {
   "cell_type": "code",
   "execution_count": null,
   "id": "4748f8da",
   "metadata": {},
   "outputs": [],
   "source": [
    "X,Y  = mobile_points.real, mobile_points.imag"
   ]
  },
  {
   "cell_type": "code",
   "execution_count": null,
   "id": "d4d01033",
   "metadata": {},
   "outputs": [],
   "source": [
    "grad_mag = np.abs(d_gp)"
   ]
  },
  {
   "cell_type": "code",
   "execution_count": null,
   "id": "6c037a17",
   "metadata": {},
   "outputs": [],
   "source": [
    "scale = gradient_step/np.max(grad_mag)"
   ]
  },
  {
   "cell_type": "code",
   "execution_count": null,
   "id": "a6e65ebc",
   "metadata": {},
   "outputs": [],
   "source": [
    "grads = scale*d_gp"
   ]
  },
  {
   "cell_type": "code",
   "execution_count": null,
   "id": "e35e9b65",
   "metadata": {},
   "outputs": [],
   "source": [
    "dX, dY = grads.real, grads.imag\n",
    "U, V = X+dX, Y+dY"
   ]
  },
  {
   "cell_type": "code",
   "execution_count": null,
   "id": "d4a47600",
   "metadata": {},
   "outputs": [],
   "source": [
    "plt.figure()\n",
    "#plt.scatter(X,Y,s =40, c = np.abs(d_gp))\n",
    "plt.scatter(U,V, alpha = 0.5, s =2, c = np.abs(d_gp))\n",
    "#[plt.arrow(X[i],Y[i],dX[i],dY[i]) for i in range(len(X))]\n",
    "#print('done')"
   ]
  },
  {
   "cell_type": "code",
   "execution_count": null,
   "id": "9e2c42f7",
   "metadata": {},
   "outputs": [],
   "source": [
    "moved_points = U+1j*V"
   ]
  },
  {
   "cell_type": "code",
   "execution_count": null,
   "id": "ac8a28d0",
   "metadata": {},
   "outputs": [],
   "source": [
    "migrated_points = comp_enc.copy()"
   ]
  },
  {
   "cell_type": "code",
   "execution_count": null,
   "id": "3037c832",
   "metadata": {},
   "outputs": [],
   "source": [
    "migrated_points[mp_locs] = moved_points"
   ]
  },
  {
   "cell_type": "code",
   "execution_count": null,
   "id": "8e7a3ab7",
   "metadata": {},
   "outputs": [],
   "source": [
    "plt.figure(figsize = (8,8))\n",
    "plt.scatter(comp_enc.real, comp_enc.imag,s =10)\n",
    "plt.scatter(migrated_points.real, migrated_points.imag,s =10)"
   ]
  },
  {
   "cell_type": "code",
   "execution_count": null,
   "id": "bb9df141",
   "metadata": {},
   "outputs": [],
   "source": [
    "def get_mobile_points(U,V,grad_mag, prev_mp_locs = ()):\n",
    "    nn_comp_enc = U+1j*V\n",
    "\n",
    "    mp_locs = np.where(grad_mag > np.mean(grad_mag))\n",
    "    mobile_points = nn_comp_enc[mp_locs]\n",
    "    \n",
    "    if len(prev_mp_locs) != 0:\n",
    "        mp_locs = prev_mp_locs[mp_locs]\n",
    "\n",
    "    return mobile_points, mp_locs\n",
    "\n",
    "def get_grad_and_decode_data(mobile_points, radial_kernel):\n",
    "    grad_points = np.repeat(mobile_points[:,None], n_rsteps, axis = 1) + radial_kernel[None, :]\n",
    "    dec_dat = get_terr_patts(np.concatenate([mobile_points.real[:,None], mobile_points.imag[:,None]],axis = 1))\n",
    "    return grad_points, dec_dat\n",
    "\n",
    "def adjust_encoding(mobile_points, gradient_step, d_gp, comp_enc, mp_locs):\n",
    "    X,Y  = mobile_points.real, mobile_points.imag\n",
    "\n",
    "    grad_mag = np.abs(d_gp)\n",
    "\n",
    "    scale = gradient_step/np.max(grad_mag)\n",
    "\n",
    "    grads = scale*d_gp\n",
    "\n",
    "    dX, dY = grads.real, grads.imag\n",
    "    U, V = X+dX, Y+dY\n",
    "\n",
    "    moved_points = U+1j*V\n",
    "\n",
    "    migrated_points = comp_enc.copy()\n",
    "\n",
    "    migrated_points[mp_locs] = moved_points\n",
    "    \n",
    "    return (X,Y), (U,V), migrated_points, grad_mag"
   ]
  },
  {
   "cell_type": "code",
   "execution_count": null,
   "id": "5139e0cf",
   "metadata": {},
   "outputs": [],
   "source": [
    "mp2, mp2_loc = get_mobile_points(U,V, grad_mag, mp_locs[0])"
   ]
  },
  {
   "cell_type": "code",
   "execution_count": null,
   "id": "c0f9a6d2",
   "metadata": {},
   "outputs": [],
   "source": [
    "gp2, dd2 = get_grad_and_decode_data(mp2, radial_kernel)"
   ]
  },
  {
   "cell_type": "code",
   "execution_count": null,
   "id": "6c041b5c",
   "metadata": {},
   "outputs": [],
   "source": [
    "d_gp2 = batch_calc_grad(gp2, radial_kernel, dd2,256)"
   ]
  },
  {
   "cell_type": "code",
   "execution_count": null,
   "id": "d56ce84d",
   "metadata": {},
   "outputs": [],
   "source": [
    "def adjust_encoding(mobile_points, gradient_step, d_gp, comp_enc, mp_locs):\n",
    "    X,Y  = mobile_points.real, mobile_points.imag\n",
    "\n",
    "    grad_mag = np.abs(d_gp)\n",
    "\n",
    "    scale = gradient_step/np.max(grad_mag)\n",
    "\n",
    "    grads = scale*d_gp\n",
    "\n",
    "    dX, dY = grads.real, grads.imag\n",
    "    U, V = X+dX, Y+dY\n",
    "\n",
    "    moved_points = U+1j*V\n",
    "\n",
    "    migrated_points = comp_enc.copy()\n",
    "\n",
    "    migrated_points[mp_locs] = moved_points\n",
    "    \n",
    "    return (X,Y), (U,V), migrated_points, grad_mag"
   ]
  },
  {
   "cell_type": "code",
   "execution_count": null,
   "id": "e0df261f",
   "metadata": {},
   "outputs": [],
   "source": [
    "op2, np2, current_ps, gm2 = adjust_encoding(mp2, gradient_step, d_gp2, migrated_points, mp2_loc)"
   ]
  },
  {
   "cell_type": "code",
   "execution_count": null,
   "id": "f280ba9d",
   "metadata": {},
   "outputs": [],
   "source": [
    "plt.figure(figsize = (8,8))\n",
    "plt.scatter(op2[0], op2[1],s =10)\n",
    "plt.scatter(np2[0], np2[1],s =10)"
   ]
  },
  {
   "cell_type": "code",
   "execution_count": null,
   "id": "ef08facb",
   "metadata": {},
   "outputs": [],
   "source": [
    "plt.figure(figsize = (8,8))\n",
    "plt.scatter(comp_enc.real, comp_enc.imag,s =10)\n",
    "plt.scatter(current_ps.real, current_ps.imag,s =10)"
   ]
  },
  {
   "cell_type": "code",
   "execution_count": null,
   "id": "189106f5",
   "metadata": {},
   "outputs": [],
   "source": []
  },
  {
   "cell_type": "code",
   "execution_count": null,
   "id": "39228b76",
   "metadata": {},
   "outputs": [],
   "source": [
    "mp3, mp3_loc = get_mobile_points(op2[0],op2[1], gm2, mp2_loc)"
   ]
  },
  {
   "cell_type": "code",
   "execution_count": null,
   "id": "73a31afa",
   "metadata": {},
   "outputs": [],
   "source": [
    "len(mp3_loc)"
   ]
  },
  {
   "cell_type": "code",
   "execution_count": null,
   "id": "33de5114",
   "metadata": {},
   "outputs": [],
   "source": [
    "gp3, dd3 = get_grad_and_decode_data(mp3, radial_kernel)\n",
    "\n",
    "d_gp3 = batch_calc_grad(gp3, radial_kernel, dd3,256)"
   ]
  },
  {
   "cell_type": "code",
   "execution_count": null,
   "id": "228cbc27",
   "metadata": {},
   "outputs": [],
   "source": [
    "op3, np3, current_ps, gm3 = adjust_encoding(mp3, gradient_step, d_gp3, current_ps, mp3_loc)"
   ]
  },
  {
   "cell_type": "code",
   "execution_count": null,
   "id": "8099b1b0",
   "metadata": {},
   "outputs": [],
   "source": [
    "plt.figure(figsize = (8,8))\n",
    "plt.scatter(op3[0], op3[1],s =10)\n",
    "plt.scatter(np3[0], np3[1],s =10)"
   ]
  },
  {
   "cell_type": "code",
   "execution_count": null,
   "id": "58566d11",
   "metadata": {},
   "outputs": [],
   "source": [
    "plt.figure(figsize = (8,8))\n",
    "plt.scatter(comp_enc.real, comp_enc.imag,s =10)\n",
    "plt.scatter(current_ps.real, current_ps.imag,s =10)"
   ]
  },
  {
   "cell_type": "code",
   "execution_count": null,
   "id": "d589fa58",
   "metadata": {},
   "outputs": [],
   "source": []
  },
  {
   "cell_type": "code",
   "execution_count": null,
   "id": "3037f24e",
   "metadata": {},
   "outputs": [],
   "source": [
    "mp4, mp4_loc = get_mobile_points(op3[0],op3[1], gm3, mp3_loc)\n",
    "\n",
    "len(mp4_loc)"
   ]
  },
  {
   "cell_type": "code",
   "execution_count": null,
   "id": "155ff5a8",
   "metadata": {},
   "outputs": [],
   "source": [
    "gp4, dd4 = get_grad_and_decode_data(mp4, radial_kernel)\n",
    "\n",
    "d_gp4 = batch_calc_grad(gp4, radial_kernel, dd4,256)\n",
    "\n",
    "op4, np4, current_ps, gm4 = adjust_encoding(mp4, gradient_step, d_gp4, current_ps, mp4_loc)"
   ]
  },
  {
   "cell_type": "code",
   "execution_count": null,
   "id": "d78f91f9",
   "metadata": {},
   "outputs": [],
   "source": [
    "plt.figure(figsize = (8,8))\n",
    "plt.scatter(op4[0], op4[1],s =10)\n",
    "plt.scatter(np4[0], np4[1],s =10)"
   ]
  },
  {
   "cell_type": "code",
   "execution_count": null,
   "id": "f784ad87",
   "metadata": {},
   "outputs": [],
   "source": [
    "plt.figure(figsize = (8,8))\n",
    "plt.scatter(comp_enc.real, comp_enc.imag,s =10)\n",
    "plt.scatter(current_ps.real, current_ps.imag,s =10)"
   ]
  },
  {
   "cell_type": "code",
   "execution_count": null,
   "id": "f1699329",
   "metadata": {},
   "outputs": [],
   "source": []
  },
  {
   "cell_type": "code",
   "execution_count": null,
   "id": "f29c4473",
   "metadata": {},
   "outputs": [],
   "source": [
    "mp5, mp5_loc = get_mobile_points(op4[0],op4[1], gm4, mp4_loc)\n",
    "\n",
    "len(mp5_loc)"
   ]
  },
  {
   "cell_type": "code",
   "execution_count": null,
   "id": "c5211cf8",
   "metadata": {},
   "outputs": [],
   "source": [
    "gp5, dd5 = get_grad_and_decode_data(mp5, radial_kernel)\n",
    "\n",
    "d_gp5 = batch_calc_grad(gp5, radial_kernel, dd5,256)\n",
    "\n",
    "op5, np5, current_ps, gm5 = adjust_encoding(mp5, gradient_step, d_gp5, current_ps, mp5_loc)"
   ]
  },
  {
   "cell_type": "code",
   "execution_count": null,
   "id": "5c96150f",
   "metadata": {},
   "outputs": [],
   "source": [
    "plt.figure(figsize = (8,8))\n",
    "plt.scatter(op5[0], op5[1],s =20)\n",
    "plt.scatter(np5[0], np5[1],s =20)"
   ]
  },
  {
   "cell_type": "code",
   "execution_count": null,
   "id": "17b15dd5",
   "metadata": {},
   "outputs": [],
   "source": [
    "plt.figure(figsize = (10,10))\n",
    "plt.scatter(comp_enc.real, comp_enc.imag,s =10)\n",
    "plt.scatter(current_ps.real, current_ps.imag,s =5)\n",
    "plt.xlim([-0.5,0.5])\n",
    "plt.ylim([-0.5,0.5])"
   ]
  },
  {
   "cell_type": "markdown",
   "id": "d4eec9dc",
   "metadata": {},
   "source": [
    "## DB clustering"
   ]
  },
  {
   "cell_type": "code",
   "execution_count": null,
   "id": "e2904cf7",
   "metadata": {},
   "outputs": [],
   "source": [
    "from sklearn.cluster import DBSCAN"
   ]
  },
  {
   "cell_type": "code",
   "execution_count": null,
   "id": "3c7f0b07",
   "metadata": {},
   "outputs": [],
   "source": [
    "sample.raw_data"
   ]
  },
  {
   "cell_type": "code",
   "execution_count": null,
   "id": "3c634100",
   "metadata": {},
   "outputs": [],
   "source": [
    "CP = np.concatenate((comp_enc.real[:,None], comp_enc.imag[:,None]), axis = 1)"
   ]
  },
  {
   "cell_type": "markdown",
   "id": "19c34c2a",
   "metadata": {},
   "source": [
    "np.save('/dls/science/groups/imaging/ePSIC_students/Al_alloy_4DSTEM_EM19064-2/refine_enc_positions.npy', CP)"
   ]
  },
  {
   "cell_type": "code",
   "execution_count": null,
   "id": "f76a670a",
   "metadata": {},
   "outputs": [],
   "source": [
    "clustering = DBSCAN(eps=0.02,min_samples=10).fit_predict(CP)"
   ]
  },
  {
   "cell_type": "code",
   "execution_count": null,
   "id": "187f3b2c",
   "metadata": {},
   "outputs": [],
   "source": [
    "np.max(clustering)"
   ]
  },
  {
   "cell_type": "code",
   "execution_count": null,
   "id": "a4d04d56",
   "metadata": {},
   "outputs": [],
   "source": [
    "plt.figure(figsize = (8,8))\n",
    "plt.scatter(comp_enc.real, comp_enc.imag,s =10, c = clustering)\n",
    "plt.xlim([-0.5,0.5])\n",
    "plt.ylim([-0.5,0.5])"
   ]
  },
  {
   "cell_type": "code",
   "execution_count": null,
   "id": "128ab510",
   "metadata": {},
   "outputs": [],
   "source": [
    "non_outlier = np.where(clustering>-1)"
   ]
  },
  {
   "cell_type": "code",
   "execution_count": null,
   "id": "206fee97",
   "metadata": {},
   "outputs": [],
   "source": [
    "plt.figure(figsize = (8,8))\n",
    "plt.scatter(current_ps.real[non_outlier], current_ps.imag[non_outlier],s =10, c = clustering[non_outlier])"
   ]
  },
  {
   "cell_type": "code",
   "execution_count": null,
   "id": "9976b4e3",
   "metadata": {},
   "outputs": [],
   "source": []
  },
  {
   "cell_type": "code",
   "execution_count": null,
   "id": "e52646cd",
   "metadata": {},
   "outputs": [],
   "source": []
  },
  {
   "cell_type": "code",
   "execution_count": null,
   "id": "cfeb2f7b",
   "metadata": {},
   "outputs": [],
   "source": []
  },
  {
   "cell_type": "code",
   "execution_count": null,
   "id": "303d3eb4",
   "metadata": {},
   "outputs": [],
   "source": []
  },
  {
   "cell_type": "code",
   "execution_count": null,
   "id": "4f8fb158",
   "metadata": {},
   "outputs": [],
   "source": [
    "def get_latgrid(sample, res=100):\n",
    "    xmin, xmax = np.floor(np.min(sample.encoded_data[:,0])), np.ceil(np.max(sample.encoded_data[:,0]))\n",
    "    ymin, ymax = np.floor(np.min(sample.encoded_data[:,1])), np.ceil(np.max(sample.encoded_data[:,1]))\n",
    "\n",
    "    latgrid_res = res\n",
    "\n",
    "    xgrid, ygrid = np.repeat(np.linspace(xmin, xmax, latgrid_res)[:,None],latgrid_res, axis = 1), np.repeat(np.linspace(ymin, ymax, latgrid_res)[None,:],latgrid_res, axis = 0)\n",
    "\n",
    "    return np.concatenate([xgrid[:,:,None], ygrid[:,:,None]],axis = 2)\n",
    "\n",
    "def closest_gridpoint(latgrid, rp):\n",
    "    flat_lg = latgrid.reshape((latgrid.shape[0]*latgrid.shape[1],2) )\n",
    "    diff = flat_lg-rp\n",
    "    ind = np.argmin(np.linalg.norm(diff, axis = -1))\n",
    "    return flat_lg[ind], np.unravel_index(ind, (latgrid.shape[0], latgrid.shape[1]))\n",
    "    \n",
    "def surrounding_inds(ind, latgrid):\n",
    "    indx, indy = ind\n",
    "    boundx = indx%(latgrid.shape[0]-1) == 0\n",
    "    boundy = indy%(latgrid.shape[0]-1) == 0\n",
    "    if boundx == False:\n",
    "        if boundy == False:\n",
    "            surrinds = [(indx, indy +1), (indx, indy-1), (indx+1, indy +1), (indx+1, indy-1), (indx+1, indy),(indx-1, indy +1), (indx-1, indy-1), (indx-1, indy)]\n",
    "        elif boundy == True:\n",
    "            if indy ==0:\n",
    "                surrinds = [(indx, indy +1), (indx+1, indy +1), (indx+1, indy),(indx-1, indy +1), (indx-1, indy)]\n",
    "            else:\n",
    "                surrinds = [(indx, indy-1), (indx+1, indy-1), (indx+1, indy), (indx-1, indy-1), (indx-1, indy)]\n",
    "    elif boundx == True:\n",
    "        if indx ==0:\n",
    "            if boundy == False:\n",
    "                surrinds = [(indx, indy +1), (indx, indy-1), (indx+1, indy +1), (indx+1, indy-1), (indx+1, indy)]\n",
    "            elif boundy == True:\n",
    "                if indy == 0:\n",
    "                    surrinds = [(indx, indy +1), (indx+1, indy +1), (indx+1, indy)]\n",
    "                else:\n",
    "                    surrinds = [(indx, indy-1), (indx+1, indy-1), (indx+1, indy)]\n",
    "        else:\n",
    "            if boundy == False:\n",
    "                surrinds = [(indx, indy +1), (indx, indy-1),(indx-1, indy +1), (indx-1, indy-1), (indx-1, indy)]\n",
    "            elif boundy == True:\n",
    "                if indy == 0:\n",
    "                    surrinds = [(indx, indy +1),(indx-1, indy +1), (indx-1, indy)]\n",
    "                else:\n",
    "                    surrinds = [(indx, indy-1), (indx-1, indy-1), (indx-1, indy)]\n",
    "                    \n",
    "    return surrinds\n",
    "\n",
    "def get_lat_region(latgrid, rp, nrmse):\n",
    "    clust_lat = np.zeros_like(latgrid[:,:,0])\n",
    "\n",
    "    gp, gind = closest_gridpoint(latgrid, rp)\n",
    "\n",
    "    clust_lat[gind] = 2\n",
    "\n",
    "    inds = np.asarray(np.where(clust_lat == 2)).T\n",
    "\n",
    "    all_surr_inds = [x for x in surrounding_inds(gind, latgrid) if clust_lat[x]==0]\n",
    "\n",
    "    for i, x in enumerate(all_surr_inds):\n",
    "        clust_lat[x] = 1\n",
    "\n",
    "    lat_patts = sample.model.decoder(np.concatenate([latgrid[x][None,:] for x in all_surr_inds], axis = 0)).numpy()[:,:,:,0]\n",
    "\n",
    "    clust_gt = sample.model.decoder(latgrid[gind[0],gind[1]][None, :]).numpy()[0,:,:,0]\n",
    "    \n",
    "    \n",
    "    metrics = [nrmse(clust_gt, cp) for cp in lat_patts]\n",
    "    thresh = np.mean(np.flip(np.sort(metrics))[:3])-0.01\n",
    "\n",
    "    [nrmse(x, clust_gt) for x in lat_patts]\n",
    "\n",
    "    clust_inc = np.asarray([nrmse(x, clust_gt)>thresh for x in lat_patts]).astype('int')\n",
    "\n",
    "    clust_inc\n",
    "\n",
    "    for i, x in enumerate(all_surr_inds):\n",
    "        clust_lat[x] = (-1, 2)[clust_inc[i]]\n",
    "\n",
    "    \n",
    "    growing = True\n",
    "    while growing == True:\n",
    "        print('still growing')\n",
    "\n",
    "        inds = np.asarray(np.where(clust_lat == 2)).T\n",
    "\n",
    "        inds\n",
    "\n",
    "        all_surr_inds = [np.asarray([x for x in surrounding_inds(gind, latgrid) if clust_lat[x]==0]) for gind in inds]\n",
    "        all_surr_inds = [x for x in all_surr_inds if x.size > 0]\n",
    "\n",
    "        if len(all_surr_inds) != 0:\n",
    "\n",
    "            all_surr_inds = np.unique(np.concatenate(all_surr_inds, axis = 0), axis = 0)\n",
    "\n",
    "            for i, x in enumerate(all_surr_inds):\n",
    "                u,v = x\n",
    "                clust_lat[u,v] = 1\n",
    "\n",
    "            lat_patts = sample.model.decoder(np.concatenate([latgrid[x[0],x[1]][None,:] for x in all_surr_inds], axis = 0)).numpy()[:,:,:,0]\n",
    "\n",
    "            clust_inc = np.asarray([nrmse(x, clust_gt)>thresh for x in lat_patts]).astype('int')\n",
    "\n",
    "            if np.asarray(np.where(clust_inc==1)).size == 0:\n",
    "                growing = False\n",
    "\n",
    "            for i, x in enumerate(all_surr_inds):\n",
    "                clust_lat[x[0],x[1]] = (-1, 2)[clust_inc[i]]\n",
    "        else:\n",
    "            growing = False\n",
    "    return np.where(clust_lat==2,1,0)\n",
    "\n",
    "def evaluate_current_seg(lat_regions, region, sample,latgrid):\n",
    "    n_regions = len(list(lat_regions.keys()))\n",
    "    lat_regions[int(n_regions+1)] = region*int(n_regions+1)\n",
    "    comb_seg = np.asarray(list(lat_regions.values())).sum(axis = 0)\n",
    "\n",
    "    sorted_points= {}\n",
    "    arg_sorted_points = {}\n",
    "    for k in lat_regions.keys():\n",
    "        sorted_points[k] = []\n",
    "        arg_sorted_points[k] = []\n",
    "\n",
    "    unsorted_points = []\n",
    "    arg_unsorted_points = []\n",
    "    for i,e in enumerate(sample.encoded_data):\n",
    "        cgp = closest_gridpoint(latgrid, e)[1]\n",
    "        if comb_seg[cgp] ==0:\n",
    "            unsorted_points.append(e)\n",
    "            arg_unsorted_points.append(i)\n",
    "        else:\n",
    "            for r in lat_regions.values():\n",
    "                if r[cgp] != 0:\n",
    "                    v = r[cgp]\n",
    "                    sorted_points[v].append(e)\n",
    "                    arg_sorted_points[v].append(i)\n",
    "    bmaps = []\n",
    "    for k in lat_regions.keys():\n",
    "        bmap = np.zeros(sample.all_maps['vae'].shape[0]*sample.all_maps['vae'].shape[1])\n",
    "        for a in arg_sorted_points[k]:\n",
    "            bmap[a] = 1 \n",
    "        bmaps.append(bmap.reshape(sample.all_maps['vae'].shape[0],sample.all_maps['vae'].shape[1]))\n",
    "    return sorted_points, arg_sorted_points, unsorted_points, arg_unsorted_points, bmaps"
   ]
  },
  {
   "cell_type": "markdown",
   "id": "ab6de991",
   "metadata": {},
   "source": [
    "## Pass 1"
   ]
  },
  {
   "cell_type": "code",
   "execution_count": null,
   "id": "0e24024c",
   "metadata": {},
   "outputs": [],
   "source": [
    "import skimage.metrics as mets"
   ]
  },
  {
   "cell_type": "code",
   "execution_count": null,
   "id": "c39f42e5",
   "metadata": {},
   "outputs": [],
   "source": [
    "rp = sample.encoded_data[np.random.randint(0, len(sample.encoded_data))]"
   ]
  },
  {
   "cell_type": "code",
   "execution_count": null,
   "id": "c8a249b5",
   "metadata": {},
   "outputs": [],
   "source": [
    "rp"
   ]
  },
  {
   "cell_type": "code",
   "execution_count": null,
   "id": "5dc8ba43",
   "metadata": {},
   "outputs": [],
   "source": [
    "gind = closest_gridpoint(latgrid, rp)[1]"
   ]
  },
  {
   "cell_type": "code",
   "execution_count": null,
   "id": "ed46681e",
   "metadata": {},
   "outputs": [],
   "source": [
    "gind"
   ]
  },
  {
   "cell_type": "code",
   "execution_count": null,
   "id": "516b598e",
   "metadata": {},
   "outputs": [],
   "source": [
    "gind = (53,55)"
   ]
  },
  {
   "cell_type": "code",
   "execution_count": null,
   "id": "5c03917b",
   "metadata": {},
   "outputs": [],
   "source": [
    "grid_moves = [(-1,-1),(0,-1),(1,0),(-1,0),(0,0),(1,0),(1,-1),(1,0),(1,1)]\n",
    "gps = np.concatenate([latgrid[int(gind[0]+gm[0]),int(gind[1]+gm[1])][None,:] for gm in grid_moves],axis= 0)\n",
    "patts = sample.model.decoder(gps).numpy()[:,:,:,0]\n",
    "\n",
    "metrics = [mets.structural_similarity(patts[4], cp) for cp in patts]\n",
    "\n",
    "thresh = np.mean(np.flip(np.sort(metrics))[1:4])-0.01\n",
    "print(thresh)"
   ]
  },
  {
   "cell_type": "code",
   "execution_count": null,
   "id": "471a9bca",
   "metadata": {},
   "outputs": [],
   "source": [
    "plt.figure(figsize = (8,8))\n",
    "for i in range(len(grid_moves)):\n",
    "    cp = patts[i]\n",
    "    ax = plt.subplot(3,3,int(i+1))\n",
    "    ax.imshow(cp)\n",
    "    ax.set_xticks([])\n",
    "    ax.set_yticks([])\n",
    "    metric= metrics[i]\n",
    "    ax.set_title(str(metric))\n",
    "    for spine in ax.spines.values():\n",
    "        if metric == np.inf:\n",
    "            continue\n",
    "        elif metric >thresh:\n",
    "            spine.set_edgecolor('green')\n",
    "            spine.set_lw(10)\n",
    "        else:\n",
    "            spine.set_edgecolor('red')\n",
    "            spine.set_lw(10)"
   ]
  },
  {
   "cell_type": "code",
   "execution_count": null,
   "id": "066f4b3c",
   "metadata": {},
   "outputs": [],
   "source": []
  },
  {
   "cell_type": "code",
   "execution_count": null,
   "id": "b624a8e4",
   "metadata": {},
   "outputs": [],
   "source": []
  },
  {
   "cell_type": "code",
   "execution_count": null,
   "id": "07539c88",
   "metadata": {},
   "outputs": [],
   "source": [
    "lat_regions = {}"
   ]
  },
  {
   "cell_type": "code",
   "execution_count": null,
   "id": "ff987bf3",
   "metadata": {},
   "outputs": [],
   "source": [
    "res = 100\n",
    "latgrid = get_latgrid(sample,res)"
   ]
  },
  {
   "cell_type": "code",
   "execution_count": null,
   "id": "f4569390",
   "metadata": {},
   "outputs": [],
   "source": [
    "rp = sample.encoded_data[np.random.randint(0, len(sample.encoded_data))]"
   ]
  },
  {
   "cell_type": "code",
   "execution_count": null,
   "id": "e590dae3",
   "metadata": {},
   "outputs": [],
   "source": [
    "rp"
   ]
  },
  {
   "cell_type": "code",
   "execution_count": null,
   "id": "42293fa2",
   "metadata": {},
   "outputs": [],
   "source": [
    "closest_gridpoint(latgrid, rp)"
   ]
  },
  {
   "cell_type": "code",
   "execution_count": null,
   "id": "4bf6d3ba",
   "metadata": {},
   "outputs": [],
   "source": [
    "region = get_lat_region(latgrid,rp,mets.structural_similarity)"
   ]
  },
  {
   "cell_type": "code",
   "execution_count": null,
   "id": "1829d6a4",
   "metadata": {},
   "outputs": [],
   "source": [
    "plt.figure()\n",
    "plt.imshow(region)"
   ]
  },
  {
   "cell_type": "code",
   "execution_count": null,
   "id": "22b9867c",
   "metadata": {},
   "outputs": [],
   "source": [
    "sp, asp, up, aup, bmaps = evaluate_current_seg(lat_regions, region, sample, latgrid)"
   ]
  },
  {
   "cell_type": "code",
   "execution_count": null,
   "id": "f4f0e37e",
   "metadata": {},
   "outputs": [],
   "source": [
    "bmaps"
   ]
  },
  {
   "cell_type": "code",
   "execution_count": null,
   "id": "0426448a",
   "metadata": {},
   "outputs": [],
   "source": [
    "plt.figure()\n",
    "plt.imshow(bmaps[0])"
   ]
  },
  {
   "cell_type": "code",
   "execution_count": null,
   "id": "5ab946ee",
   "metadata": {
    "scrolled": true
   },
   "outputs": [],
   "source": [
    "cont_looping = True\n",
    "while cont_looping == True:\n",
    "    rp = sample.encoded_data[aup[np.random.randint(0, len(aup))]]\n",
    "\n",
    "    region = get_lat_region(latgrid,rp,mets.structural_similarity)\n",
    "\n",
    "    sp, asp, up, aup, bmaps = evaluate_current_seg(lat_regions, region, sample, latgrid)\n",
    "    \n",
    "    print(len(bmaps), len(aup))\n",
    "    \n",
    "    if len(aup) == 0:\n",
    "        cont_looping = False\n",
    "        "
   ]
  },
  {
   "cell_type": "code",
   "execution_count": null,
   "id": "f1290c3e",
   "metadata": {},
   "outputs": [],
   "source": [
    "plt.close('all')"
   ]
  },
  {
   "cell_type": "code",
   "execution_count": null,
   "id": "c01ba2be",
   "metadata": {},
   "outputs": [],
   "source": [
    "len(bmaps)"
   ]
  },
  {
   "cell_type": "code",
   "execution_count": null,
   "id": "50bc89f3",
   "metadata": {},
   "outputs": [],
   "source": [
    "lat_regions.keys()"
   ]
  },
  {
   "cell_type": "code",
   "execution_count": null,
   "id": "07310a37",
   "metadata": {},
   "outputs": [],
   "source": [
    "def generate_n_primes(N):\n",
    "    primes  = []\n",
    "    chkthis = 2\n",
    "    while len(primes) < N:\n",
    "        ptest    = [chkthis for i in primes if chkthis%i == 0]\n",
    "        primes  += [] if ptest else [chkthis]\n",
    "        chkthis += 1\n",
    "    return primes"
   ]
  },
  {
   "cell_type": "code",
   "execution_count": null,
   "id": "3ab912c4",
   "metadata": {},
   "outputs": [],
   "source": [
    "pfacts = generate_n_primes(len(bmaps)+1)"
   ]
  },
  {
   "cell_type": "code",
   "execution_count": null,
   "id": "850e152d",
   "metadata": {},
   "outputs": [],
   "source": [
    "pfacts"
   ]
  },
  {
   "cell_type": "code",
   "execution_count": null,
   "id": "575ab9f2",
   "metadata": {},
   "outputs": [],
   "source": [
    "umap = np.ones_like(lat_regions[1])\n",
    "for k,v in lat_regions.items():\n",
    "    p = pfacts[int(k-1)]\n",
    "    print(k, p)\n",
    "    pfact_map = np.where(v!=0, p, 1)\n",
    "    umap*=pfact_map"
   ]
  },
  {
   "cell_type": "code",
   "execution_count": null,
   "id": "c7344ad1",
   "metadata": {},
   "outputs": [],
   "source": [
    "final_lat_map = np.zeros_like(umap)\n",
    "for i, u in enumerate(np.unique(umap)):\n",
    "    final_lat_map += np.where(umap == u, i+1, 0)"
   ]
  },
  {
   "cell_type": "code",
   "execution_count": null,
   "id": "3b020b0c",
   "metadata": {},
   "outputs": [],
   "source": [
    "plt.figure()\n",
    "plt.imshow(final_lat_map)"
   ]
  },
  {
   "cell_type": "code",
   "execution_count": null,
   "id": "d437e03e",
   "metadata": {},
   "outputs": [],
   "source": [
    "lat_region_sizes = [np.sum(np.where(v!=0,1,0)) for v in lat_regions.values()]"
   ]
  },
  {
   "cell_type": "code",
   "execution_count": null,
   "id": "11e5a259",
   "metadata": {},
   "outputs": [],
   "source": [
    "list(lat_regions.values())[list(np.argsort(lat_region_sizes))]"
   ]
  },
  {
   "cell_type": "code",
   "execution_count": null,
   "id": "7f0291a4",
   "metadata": {},
   "outputs": [],
   "source": [
    "list(np.argsort(lat_region_sizes))"
   ]
  },
  {
   "cell_type": "code",
   "execution_count": null,
   "id": "0403cfcc",
   "metadata": {},
   "outputs": [],
   "source": [
    "ranked_lrs = np.asarray([np.where(list(lat_regions.values())[a]!=0,1,0) for a in np.argsort(lat_region_sizes)])"
   ]
  },
  {
   "cell_type": "code",
   "execution_count": null,
   "id": "dd52a916",
   "metadata": {},
   "outputs": [],
   "source": [
    "px,py = list(lat_regions.values())[0:2]"
   ]
  },
  {
   "cell_type": "code",
   "execution_count": null,
   "id": "68d31bd1",
   "metadata": {},
   "outputs": [],
   "source": [
    "plt.figure()\n",
    "plt.imshow(ranked_lrs[0])"
   ]
  },
  {
   "cell_type": "code",
   "execution_count": null,
   "id": "b02e9f26",
   "metadata": {},
   "outputs": [],
   "source": [
    "img"
   ]
  },
  {
   "cell_type": "code",
   "execution_count": null,
   "id": "9a6e5b7a",
   "metadata": {},
   "outputs": [],
   "source": [
    "def terr_patts(latgrid, res):\n",
    "    img = latgrid.reshape((res*res,2))\n",
    "    n_batches = int(np.ceil(img.shape[0]//256))\n",
    "    batches = [img[i*256:(i+1)*256] for i in range(n_batches+1)]\n",
    "    nimg = [sample.model.decoder(batch).numpy() for batch in batches]\n",
    "    return np.concatenate(nimg, axis = 0).reshape((res, res, 128,128))"
   ]
  },
  {
   "cell_type": "code",
   "execution_count": null,
   "id": "7d761c95",
   "metadata": {},
   "outputs": [],
   "source": [
    "terr_patts = terr_patts(latgrid, res)"
   ]
  },
  {
   "cell_type": "code",
   "execution_count": null,
   "id": "15e42e15",
   "metadata": {},
   "outputs": [],
   "source": [
    "plt.figure()\n",
    "plt.imshow(terr_patts[55,44])"
   ]
  },
  {
   "cell_type": "code",
   "execution_count": null,
   "id": "1ec898e6",
   "metadata": {},
   "outputs": [],
   "source": [
    "connect_list = []\n",
    "\n",
    "for a, lr in enumerate(ranked_lrs[:-15]):\n",
    "    other_lrs = np.concatenate([ranked_lrs[:-15][:a],ranked_lrs[:-15][a+1:]])\n",
    "    cpatt = np.mean(terr_patts[np.where(lr==1)], axis = 0)\n",
    "    overlap = other_lrs + lr[None,:,:]\n",
    "    if len(np.where(overlap ==2)[0]) > 0:\n",
    "        ilrs = list(np.unique(np.where(overlap ==2)[0]))\n",
    "        print(ilrs)\n",
    "        olrs = ranked_lrs[ilrs]\n",
    "        patts = [np.mean(terr_patts[np.where(olr==1)],axis = 0) for olr in olrs]\n",
    "        print(len(patts))\n",
    "        #plt.figure()\n",
    "        #ax = plt.subplot(2,1,2)\n",
    "        #ax.imshow(cpatt)\n",
    "        #ax.set_title('patt')\n",
    "        #ax.set_xticks([])\n",
    "        #ax.set_yticks([])\n",
    "        for axind, p in enumerate(patts):\n",
    "            #ax = plt.subplot(2,len(patts),int(axind+1))\n",
    "            #ax.imshow(p)\n",
    "            #ax.set_xticks([])\n",
    "            #ax.set_yticks([])\n",
    "            metric = mets.structural_similarity(cpatt, p)\n",
    "            #ax.set_title(str(metric))\n",
    "            if metric > 0.98:\n",
    "                connect_list.append((a, ilrs[axind]))\n",
    "            \n",
    "        "
   ]
  },
  {
   "cell_type": "code",
   "execution_count": null,
   "id": "7020a74d",
   "metadata": {},
   "outputs": [],
   "source": [
    "import networkx as nx\n",
    "import itertools"
   ]
  },
  {
   "cell_type": "code",
   "execution_count": null,
   "id": "087854bb",
   "metadata": {},
   "outputs": [],
   "source": [
    "connect_list"
   ]
  },
  {
   "cell_type": "code",
   "execution_count": null,
   "id": "cc00a2c6",
   "metadata": {},
   "outputs": [],
   "source": [
    "def get_graph_from_connectivity(uthresh):\n",
    "    '''\n",
    "    uthresh: the connectivity matrix from which the graph can be generated\n",
    "    '''\n",
    "    g = nx.Graph()\n",
    "    inds_in_graph = np.unique(uthresh)\n",
    "    g.add_nodes_from(inds_in_graph)\n",
    "    g.add_edges_from(uthresh)\n",
    "    return g, inds_in_graph\n",
    "\n",
    "    \n",
    "def view_graph(g):\n",
    "    '''\n",
    "    g: Graph'''\n",
    "    plt.figure()\n",
    "    nx.draw(g, with_labels=True)\n",
    "    \n",
    "def get_connected_nodes(g1):\n",
    "    return list(nx.connected_components(g1))"
   ]
  },
  {
   "cell_type": "code",
   "execution_count": null,
   "id": "b5308e60",
   "metadata": {},
   "outputs": [],
   "source": [
    "g, graph_inds = get_graph_from_connectivity(connect_list)"
   ]
  },
  {
   "cell_type": "code",
   "execution_count": null,
   "id": "fa4b9014",
   "metadata": {},
   "outputs": [],
   "source": [
    "view_graph(g)"
   ]
  },
  {
   "cell_type": "code",
   "execution_count": null,
   "id": "edd99649",
   "metadata": {},
   "outputs": [],
   "source": [
    "def get_connected_nodes(g1):\n",
    "    return list(nx.connected_components(g1))"
   ]
  },
  {
   "cell_type": "code",
   "execution_count": null,
   "id": "1284134e",
   "metadata": {},
   "outputs": [],
   "source": [
    "conn_nodes = get_connected_nodes(g)"
   ]
  },
  {
   "cell_type": "code",
   "execution_count": null,
   "id": "f625173a",
   "metadata": {},
   "outputs": [],
   "source": []
  },
  {
   "cell_type": "code",
   "execution_count": null,
   "id": "483c2dbf",
   "metadata": {},
   "outputs": [],
   "source": [
    "unconn_nodes = list(np.arange(0, len(ranked_lrs)))"
   ]
  },
  {
   "cell_type": "code",
   "execution_count": null,
   "id": "ac58d1db",
   "metadata": {},
   "outputs": [],
   "source": [
    "[unconn_nodes.pop(unconn_nodes.index(x)) for x in np.unique(np.concatenate([np.asarray(list(x)) for x in conn_nodes]))]"
   ]
  },
  {
   "cell_type": "code",
   "execution_count": null,
   "id": "c72222d4",
   "metadata": {},
   "outputs": [],
   "source": [
    "unconn_nodes"
   ]
  },
  {
   "cell_type": "code",
   "execution_count": null,
   "id": "3b497226",
   "metadata": {},
   "outputs": [],
   "source": []
  },
  {
   "cell_type": "code",
   "execution_count": null,
   "id": "6b27dcf5",
   "metadata": {},
   "outputs": [],
   "source": []
  },
  {
   "cell_type": "code",
   "execution_count": null,
   "id": "42aeac76",
   "metadata": {},
   "outputs": [],
   "source": [
    "len(graph_inds)"
   ]
  },
  {
   "cell_type": "code",
   "execution_count": null,
   "id": "e7247ad8",
   "metadata": {},
   "outputs": [],
   "source": [
    "cpatt = np.mean(terr_patts[np.where(ranked_lrs[35]==1)], axis = 0)"
   ]
  },
  {
   "cell_type": "code",
   "execution_count": null,
   "id": "9ba50358",
   "metadata": {},
   "outputs": [],
   "source": [
    "plt.figure()\n",
    "plt.imshow(cpatt)"
   ]
  },
  {
   "cell_type": "code",
   "execution_count": null,
   "id": "850b24b9",
   "metadata": {},
   "outputs": [],
   "source": []
  },
  {
   "cell_type": "code",
   "execution_count": null,
   "id": "9abe3c0b",
   "metadata": {},
   "outputs": [],
   "source": []
  },
  {
   "cell_type": "code",
   "execution_count": null,
   "id": "300c25fe",
   "metadata": {},
   "outputs": [],
   "source": [
    "bmaps[2]"
   ]
  },
  {
   "cell_type": "code",
   "execution_count": null,
   "id": "239be21b",
   "metadata": {},
   "outputs": [],
   "source": [
    "len(np.where(bmaps[0]!=0)[0])"
   ]
  },
  {
   "cell_type": "code",
   "execution_count": null,
   "id": "a0be9c6b",
   "metadata": {},
   "outputs": [],
   "source": [
    "[np.argsort([len(np.where(b!=0)[0]) for b in bmaps])]"
   ]
  },
  {
   "cell_type": "code",
   "execution_count": null,
   "id": "41f76cde",
   "metadata": {
    "scrolled": true
   },
   "outputs": [],
   "source": [
    "biggest_bmaps = np.flip([bmaps[i] for i in [np.argsort([len(np.where(b!=0)[0]) for b in bmaps])][0]], axis = 0)"
   ]
  },
  {
   "cell_type": "code",
   "execution_count": null,
   "id": "26461fef",
   "metadata": {},
   "outputs": [],
   "source": [
    "for b in biggest_bmaps[:20]:\n",
    "    plt.figure()\n",
    "    plt.imshow(b)"
   ]
  },
  {
   "cell_type": "code",
   "execution_count": null,
   "id": "0a08c8e6",
   "metadata": {},
   "outputs": [],
   "source": [
    "bfbmap = np.zeros_like(bmaps[0])\n",
    "for i in range(bmaps[0].shape[0]):\n",
    "    print(i)\n",
    "    for j in range(bmaps[0].shape[1]):\n",
    "        for num, bbm in enumerate(biggest_bmaps):\n",
    "            if bbm[i,j] != 0:\n",
    "                bfbmap[i,j] = num  \n",
    "                break"
   ]
  },
  {
   "cell_type": "code",
   "execution_count": null,
   "id": "4eb06801",
   "metadata": {},
   "outputs": [],
   "source": [
    "for i in range(1, 15):\n",
    "    plt.figure()\n",
    "    plt.imshow(np.where(bfbmap==i, 1, 0))"
   ]
  },
  {
   "cell_type": "code",
   "execution_count": null,
   "id": "feab0fc9",
   "metadata": {},
   "outputs": [],
   "source": [
    "ubfbmap = [np.where(bfbmap == u, 1, 0) for u in np.unique(bfbmap)]\n",
    "sbfbmap = [len(np.where(ubfbmap[i] ==1)[0]) for i in range(len(ubfbmap))]\n",
    "rbfbmap = [ubfbmap[i] for i in np.flip(np.argsort(sbfbmap))]"
   ]
  },
  {
   "cell_type": "code",
   "execution_count": null,
   "id": "2955ab8b",
   "metadata": {},
   "outputs": [],
   "source": [
    "for i in range(1, 20):\n",
    "    plt.figure()\n",
    "    plt.imshow(rbfbmap[i])"
   ]
  },
  {
   "cell_type": "code",
   "execution_count": null,
   "id": "92ddc790",
   "metadata": {},
   "outputs": [],
   "source": []
  },
  {
   "cell_type": "code",
   "execution_count": null,
   "id": "4af8b347",
   "metadata": {},
   "outputs": [],
   "source": []
  },
  {
   "cell_type": "code",
   "execution_count": null,
   "id": "bd30e8da",
   "metadata": {},
   "outputs": [],
   "source": []
  },
  {
   "cell_type": "code",
   "execution_count": null,
   "id": "83d8c5f5",
   "metadata": {},
   "outputs": [],
   "source": [
    "fmap = np.zeros(sample.all_maps['vae'].shape[0]*sample.all_maps['vae'].shape[1])\n",
    "for i,e in enumerate(sample.encoded_data):\n",
    "    cgp = closest_gridpoint(latgrid, e)[1]\n",
    "    cls = final_lat_map[cgp]\n",
    "    fmap[i] = cls\n",
    "fmap = fmap.reshape((sample.all_maps['vae'].shape[0],sample.all_maps['vae'].shape[1]))\n",
    "        "
   ]
  },
  {
   "cell_type": "code",
   "execution_count": null,
   "id": "2eaa8acf",
   "metadata": {},
   "outputs": [],
   "source": [
    "plt.figure()\n",
    "plt.imshow(fmap)"
   ]
  },
  {
   "cell_type": "code",
   "execution_count": null,
   "id": "96bc53a0",
   "metadata": {},
   "outputs": [],
   "source": [
    "finalregions = [np.where(fmap == u, 1, 0) for u in np.unique(fmap)]"
   ]
  },
  {
   "cell_type": "code",
   "execution_count": null,
   "id": "d1132a4f",
   "metadata": {},
   "outputs": [],
   "source": [
    "np.flip([np.argsort([len(np.where(b!=0)[0]) for b in finalregions])])"
   ]
  },
  {
   "cell_type": "code",
   "execution_count": null,
   "id": "06fc6d9d",
   "metadata": {},
   "outputs": [],
   "source": [
    "ranked_final_regions = [finalregions[i] for i in np.flip([np.argsort([len(np.where(b!=0)[0]) for b in finalregions])])[0]]"
   ]
  },
  {
   "cell_type": "code",
   "execution_count": null,
   "id": "a19ed92c",
   "metadata": {},
   "outputs": [],
   "source": [
    "plt.figure()\n",
    "plt.imshow(ranked_final_regions[51])"
   ]
  },
  {
   "cell_type": "code",
   "execution_count": null,
   "id": "bfeea586",
   "metadata": {},
   "outputs": [],
   "source": []
  },
  {
   "cell_type": "code",
   "execution_count": null,
   "id": "d9ae1c9b",
   "metadata": {},
   "outputs": [],
   "source": []
  },
  {
   "cell_type": "code",
   "execution_count": null,
   "id": "a3ed149c",
   "metadata": {},
   "outputs": [],
   "source": []
  },
  {
   "cell_type": "code",
   "execution_count": null,
   "id": "064984f5",
   "metadata": {},
   "outputs": [],
   "source": []
  },
  {
   "cell_type": "code",
   "execution_count": null,
   "id": "07b85157",
   "metadata": {},
   "outputs": [],
   "source": []
  },
  {
   "cell_type": "code",
   "execution_count": null,
   "id": "eeddf2a0",
   "metadata": {},
   "outputs": [],
   "source": []
  },
  {
   "cell_type": "code",
   "execution_count": null,
   "id": "461ac1bc",
   "metadata": {},
   "outputs": [],
   "source": []
  },
  {
   "cell_type": "code",
   "execution_count": null,
   "id": "82333a77",
   "metadata": {},
   "outputs": [],
   "source": []
  },
  {
   "cell_type": "code",
   "execution_count": null,
   "id": "d9e33cdf",
   "metadata": {},
   "outputs": [],
   "source": []
  },
  {
   "cell_type": "code",
   "execution_count": null,
   "id": "eca216c5",
   "metadata": {},
   "outputs": [],
   "source": []
  },
  {
   "cell_type": "code",
   "execution_count": null,
   "id": "13a51fec",
   "metadata": {},
   "outputs": [],
   "source": []
  },
  {
   "cell_type": "code",
   "execution_count": null,
   "id": "a33e194d",
   "metadata": {},
   "outputs": [],
   "source": []
  },
  {
   "cell_type": "code",
   "execution_count": null,
   "id": "8e44122b",
   "metadata": {},
   "outputs": [],
   "source": []
  },
  {
   "cell_type": "code",
   "execution_count": null,
   "id": "f68e383b",
   "metadata": {},
   "outputs": [],
   "source": []
  },
  {
   "cell_type": "code",
   "execution_count": null,
   "id": "7a21c58d",
   "metadata": {},
   "outputs": [],
   "source": []
  },
  {
   "cell_type": "code",
   "execution_count": null,
   "id": "2b9d85c1",
   "metadata": {},
   "outputs": [],
   "source": []
  },
  {
   "cell_type": "code",
   "execution_count": null,
   "id": "aae7915e",
   "metadata": {},
   "outputs": [],
   "source": []
  },
  {
   "cell_type": "code",
   "execution_count": null,
   "id": "3d9a0561",
   "metadata": {},
   "outputs": [],
   "source": []
  },
  {
   "cell_type": "markdown",
   "id": "6e888e31",
   "metadata": {},
   "source": [
    "### You can the use the auto_cartography to map the latent terrain and cluster your encoded data"
   ]
  },
  {
   "cell_type": "code",
   "execution_count": null,
   "id": "b060da90",
   "metadata": {},
   "outputs": [],
   "source": [
    "tmp_dir = Path('/dls/science/groups/imaging/ePSIC_students/Andy_Bridger/tmp')"
   ]
  },
  {
   "cell_type": "code",
   "execution_count": null,
   "id": "68a861a0",
   "metadata": {
    "scrolled": false
   },
   "outputs": [],
   "source": [
    "sample.auto_cartography(tmp_dir, terr_resolution=12, n_comps=16, n_segments=36, tag= 'vae',pca_skips=1, use_terr_decomp=True, norm = True, mask_PCA=False, inc_nav=False)"
   ]
  },
  {
   "cell_type": "markdown",
   "id": "b06b4635",
   "metadata": {},
   "source": [
    "### View the result of the clustering"
   ]
  },
  {
   "cell_type": "code",
   "execution_count": null,
   "id": "19cdf5b1",
   "metadata": {},
   "outputs": [],
   "source": [
    "X, Y = sample.encoded_data[:,0], sample.encoded_data[:,1] \n",
    "plt.figure()\n",
    "fig = plt.scatter(X, Y, c = sample.all_maps['vae'], cmap = 'turbo')"
   ]
  },
  {
   "cell_type": "code",
   "execution_count": null,
   "id": "80d83e0e",
   "metadata": {},
   "outputs": [],
   "source": [
    "lsc = GM(36).fit_predict(sample.encoded_data)"
   ]
  },
  {
   "cell_type": "code",
   "execution_count": null,
   "id": "6407ca1c",
   "metadata": {},
   "outputs": [],
   "source": [
    "sample.all_maps['lat_clust'] = lsc.reshape(sample.raw_data.data.shape[0:2])"
   ]
  },
  {
   "cell_type": "code",
   "execution_count": null,
   "id": "ed3afb5d",
   "metadata": {},
   "outputs": [],
   "source": [
    "X, Y = sample.encoded_data[:,0], sample.encoded_data[:,1] \n",
    "plt.figure()\n",
    "fig = plt.scatter(X, Y, c = lsc, cmap = 'turbo')"
   ]
  },
  {
   "cell_type": "code",
   "execution_count": null,
   "id": "19ea9d5e",
   "metadata": {},
   "outputs": [],
   "source": [
    "sample.imshow(None, 'vae')"
   ]
  },
  {
   "cell_type": "code",
   "execution_count": null,
   "id": "cd222ea4",
   "metadata": {
    "scrolled": false
   },
   "outputs": [],
   "source": [
    "sample.imshow(None, 'lat_clust')"
   ]
  },
  {
   "cell_type": "markdown",
   "id": "aeac5b9c",
   "metadata": {},
   "source": [
    "### Remove the pixels corresponding to the background or support"
   ]
  },
  {
   "cell_type": "code",
   "execution_count": null,
   "id": "468396a5",
   "metadata": {
    "scrolled": true
   },
   "outputs": [],
   "source": [
    "remove_background(sample, old_tag = 'vae', new_tag = 'vl_vae')"
   ]
  },
  {
   "cell_type": "code",
   "execution_count": null,
   "id": "6f0eb16c",
   "metadata": {
    "scrolled": false
   },
   "outputs": [],
   "source": [
    "sample.imshow(None, 'vl_vae')"
   ]
  },
  {
   "cell_type": "code",
   "execution_count": null,
   "id": "43511066",
   "metadata": {},
   "outputs": [],
   "source": [
    "np.save('/dls/science/groups/imaging/ePSIC_students/Andy_Bridger/ManualSegmentation/workflow_seg5.npy',sample.all_maps['vl_vae'])"
   ]
  },
  {
   "cell_type": "code",
   "execution_count": null,
   "id": "2d51332f",
   "metadata": {},
   "outputs": [],
   "source": [
    "sample.all_maps['vl_vae']= np.load('/dls/science/groups/imaging/ePSIC_students/Andy_Bridger/ManualSegmentation/workflow_seg5.npy')"
   ]
  },
  {
   "cell_type": "code",
   "execution_count": null,
   "id": "f78736b7",
   "metadata": {},
   "outputs": [],
   "source": [
    "X, Y = sample.encoded_data[:,0], sample.encoded_data[:,1] \n",
    "plt.figure(figsize = (10,10))\n",
    "plt.scatter(X, Y, c = sample.all_maps['vl_vae'], cmap = 'turbo', s= 15)"
   ]
  },
  {
   "cell_type": "markdown",
   "id": "a4989a9e",
   "metadata": {},
   "source": [
    "### Calculate the patterns associated with each cluster"
   ]
  },
  {
   "cell_type": "code",
   "execution_count": null,
   "id": "3ff1bea2",
   "metadata": {
    "scrolled": false
   },
   "outputs": [],
   "source": [
    "sample.get_map_patterns('vl_vae', method = 'mean', recompute=True)"
   ]
  },
  {
   "cell_type": "markdown",
   "id": "adfa0c9d",
   "metadata": {},
   "source": [
    "### View the patterns and their associated regions"
   ]
  },
  {
   "cell_type": "code",
   "execution_count": null,
   "id": "8c63dd5c",
   "metadata": {
    "scrolled": false
   },
   "outputs": [],
   "source": [
    "show_cluster_patterns(sample, 'vl_vae').plot()"
   ]
  },
  {
   "cell_type": "markdown",
   "id": "40aa5f01",
   "metadata": {},
   "source": [
    "### View a signal boosted representation of the sample"
   ]
  },
  {
   "cell_type": "code",
   "execution_count": null,
   "id": "e6d39f22",
   "metadata": {
    "scrolled": false
   },
   "outputs": [],
   "source": [
    "sbs = signal_boosted_scan(sample, 'vl_vae')"
   ]
  },
  {
   "cell_type": "code",
   "execution_count": null,
   "id": "de82e795",
   "metadata": {},
   "outputs": [],
   "source": [
    "sbs.plot()"
   ]
  },
  {
   "cell_type": "code",
   "execution_count": null,
   "id": "6c1bf448",
   "metadata": {},
   "outputs": [],
   "source": [
    "unique_regions = [np.asarray(np.where(sample.all_maps['vl_vae'] == x))[:,0] for x in np.unique(sample.all_maps['vl_vae'])]"
   ]
  },
  {
   "cell_type": "code",
   "execution_count": null,
   "id": "e3686f6c",
   "metadata": {},
   "outputs": [],
   "source": [
    "def inv_sbs(sbs, sp = (0,0), return_fig = False, interactive = True, vmax= 0.1):\n",
    "    sbsg = np.repeat(sbs.data.sum(axis= (2,3))[:,:,None],3, -1)\n",
    "    sbsg /= sbsg.max()\n",
    "    \n",
    "    def boost(array):\n",
    "        return np.log10(np.log10(array+1)+1)\n",
    "\n",
    "    def format_ax():\n",
    "        ax[0].set_frame_on(False)\n",
    "        #ax[1].set_frame_on(False)\n",
    "        ax[0].set_xticks([])\n",
    "        ax[0].set_yticks([])\n",
    "        ax[1].set_xticks([])\n",
    "        ax[1].set_yticks([])\n",
    "    fig, ax = plt.subplots(2, 1, gridspec_kw={'height_ratios': [1, 2]}, figsize=(8,8))\n",
    "    \n",
    "    \n",
    "    clust = sample.all_maps['vl_vae'][sp[0],sp[1]]\n",
    "\n",
    "    clust_loc = np.where(sample.all_maps['vl_vae'] == clust)\n",
    "\n",
    "    new_nav = sbsg.copy()\n",
    "\n",
    "    new_nav[clust_loc] = np.array([0.1254902 , 0.69803922, 0.66666667])\n",
    "    \n",
    "    \n",
    "    ax[0].imshow(new_nav)\n",
    "    ax[1].imshow(boost(sbs.data[sp[0],sp[1]]), cmap= 'gray', vmax=vmax)\n",
    "\n",
    "    format_ax()\n",
    "    \n",
    "    if interactive == True:\n",
    "    \n",
    "        global coords\n",
    "        coords = []\n",
    "\n",
    "        def onclick(event):\n",
    "            global ix, iy\n",
    "            ix, iy = np.round(event.xdata,0), np.round(event.ydata,0)\n",
    "            print(ix, iy)\n",
    "\n",
    "            coords.append((ix, iy))\n",
    "\n",
    "            ax[0].clear()\n",
    "            ax[1].clear()\n",
    "\n",
    "            clust = sample.all_maps['vl_vae'][int(iy),int(ix)]\n",
    "\n",
    "            clust_loc = np.where(sample.all_maps['vl_vae'] == clust)\n",
    "\n",
    "            new_nav = sbsg.copy()\n",
    "\n",
    "            new_nav[clust_loc] = np.array([0.1254902 , 0.69803922, 0.66666667])\n",
    "\n",
    "\n",
    "\n",
    "            ax[0].imshow(new_nav)\n",
    "            ax[1].imshow(boost(sbs.data[int(iy),int(ix)]), cmap = 'gray', vmax=vmax)\n",
    "\n",
    "            format_ax()\n",
    "\n",
    "            ax[0].draw()\n",
    "            ax[1].draw()\n",
    "\n",
    "\n",
    "            return coords\n",
    "\n",
    "        cid = fig.canvas.mpl_connect('button_press_event', onclick)\n",
    "\n",
    "    if return_fig == True:\n",
    "        return fig\n",
    "        "
   ]
  },
  {
   "cell_type": "code",
   "execution_count": null,
   "id": "3ca29ef2",
   "metadata": {
    "scrolled": false
   },
   "outputs": [],
   "source": [
    "f = inv_sbs(sbs, return_fig=True, vmax = 0.1)"
   ]
  },
  {
   "cell_type": "code",
   "execution_count": null,
   "id": "0e35edf2",
   "metadata": {},
   "outputs": [],
   "source": []
  },
  {
   "cell_type": "code",
   "execution_count": null,
   "id": "07509287",
   "metadata": {},
   "outputs": [],
   "source": [
    "sample.all_maps['vl_vae']"
   ]
  },
  {
   "cell_type": "code",
   "execution_count": null,
   "id": "8fea6a43",
   "metadata": {},
   "outputs": [],
   "source": [
    "def get_refined_training_set(sample, tag, target_nums = 5000):\n",
    "    cluster_dict = {}\n",
    "    lens = []\n",
    "    cs = []\n",
    "\n",
    "    for uc in np.unique(sample.all_maps[tag]):\n",
    "        flat_map = sample.all_maps[tag].reshape((sample.all_maps[tag].shape[0] * sample.all_maps[tag].shape[1]))\n",
    "        pos = np.where(flat_map == uc)\n",
    "        lens.append(len(pos[0]))\n",
    "        cs.append(uc)\n",
    "        np.random.shuffle(pos)\n",
    "        cluster_dict[uc] = pos[0]\n",
    "\n",
    "    new_inds = {}\n",
    "    for i in np.argsort(lens):\n",
    "        c = cs[i]\n",
    "        if lens[i] > target_nums:\n",
    "            skips = lens[i]//target_nums\n",
    "            new_inds[c] = cluster_dict[c][::skips]\n",
    "        else:\n",
    "            dup = target_nums//lens[i]\n",
    "            new_inds[c] = np.repeat(cluster_dict[c], dup)\n",
    "\n",
    "    new_inds\n",
    "\n",
    "    for v in new_inds.values():\n",
    "        print(v.shape)\n",
    "\n",
    "    new_training_set = np.concatenate([v for v in new_inds.values()])\n",
    "    np.random.shuffle(new_training_set)\n",
    "    return new_training_set"
   ]
  },
  {
   "cell_type": "code",
   "execution_count": null,
   "id": "43373de8",
   "metadata": {},
   "outputs": [],
   "source": [
    "new_training_set = get_refined_training_set(sample, 'vl_vae',1000)"
   ]
  },
  {
   "cell_type": "code",
   "execution_count": null,
   "id": "825d4116",
   "metadata": {},
   "outputs": [],
   "source": [
    "new_training_set.shape"
   ]
  },
  {
   "cell_type": "code",
   "execution_count": null,
   "id": "de850f3d",
   "metadata": {},
   "outputs": [],
   "source": [
    "np.save('/dls/science/groups/imaging/ePSIC_students/Andy_Bridger/ManualSegmentation/refined_training_set3.npy', new_training_set)"
   ]
  },
  {
   "cell_type": "code",
   "execution_count": null,
   "id": "0d313d9c",
   "metadata": {},
   "outputs": [],
   "source": []
  },
  {
   "cell_type": "code",
   "execution_count": null,
   "id": "e931e17c",
   "metadata": {},
   "outputs": [],
   "source": []
  },
  {
   "cell_type": "code",
   "execution_count": null,
   "id": "455ed569",
   "metadata": {},
   "outputs": [],
   "source": []
  },
  {
   "cell_type": "code",
   "execution_count": null,
   "id": "4bcb3404",
   "metadata": {},
   "outputs": [],
   "source": []
  },
  {
   "cell_type": "code",
   "execution_count": null,
   "id": "8d95a8d4",
   "metadata": {},
   "outputs": [],
   "source": [
    "figp = Path(f'/dls/science/groups/imaging/ePSIC_students/Andy_Bridger/TransferFigures')"
   ]
  },
  {
   "cell_type": "code",
   "execution_count": null,
   "id": "6fc41381",
   "metadata": {},
   "outputs": [],
   "source": [
    "time_stamp = str(dp).split('/')[-2]"
   ]
  },
  {
   "cell_type": "code",
   "execution_count": null,
   "id": "63732cc2",
   "metadata": {
    "scrolled": true
   },
   "outputs": [],
   "source": [
    "for i, ur in enumerate(unique_regions):\n",
    "    f = inv_sbs(sbs, ur, return_fig=True, vmax = 0.01)\n",
    "    f.savefig(str(figp)+f'/{time_stamp}-region-{i}-vmax0.01.jpg', dpi = 200)"
   ]
  },
  {
   "cell_type": "code",
   "execution_count": null,
   "id": "1f969ba8",
   "metadata": {},
   "outputs": [],
   "source": [
    "patts = sample.all_patterns['vl_vae']"
   ]
  },
  {
   "cell_type": "code",
   "execution_count": null,
   "id": "c5aaf3a1",
   "metadata": {},
   "outputs": [],
   "source": [
    "patts.shape"
   ]
  },
  {
   "cell_type": "code",
   "execution_count": null,
   "id": "f9989471",
   "metadata": {},
   "outputs": [],
   "source": [
    "patts = patts.reshape(6,5,476,476)"
   ]
  },
  {
   "cell_type": "code",
   "execution_count": null,
   "id": "2c623350",
   "metadata": {},
   "outputs": [],
   "source": [
    "patts"
   ]
  },
  {
   "cell_type": "code",
   "execution_count": null,
   "id": "d03c14ca",
   "metadata": {},
   "outputs": [],
   "source": [
    "np.save(f'{figp}/tilt1patterns', patts)"
   ]
  },
  {
   "cell_type": "code",
   "execution_count": null,
   "id": "6be99ab0",
   "metadata": {},
   "outputs": [],
   "source": [
    "sp = dp.redirect('Final_Maps')\n",
    "sp"
   ]
  },
  {
   "cell_type": "code",
   "execution_count": null,
   "id": "4fe6030d",
   "metadata": {},
   "outputs": [],
   "source": [
    "sp.mkdir()"
   ]
  },
  {
   "cell_type": "code",
   "execution_count": null,
   "id": "4367b9fb",
   "metadata": {},
   "outputs": [],
   "source": [
    "sample.save_all(sp, 'transferbin3')"
   ]
  },
  {
   "cell_type": "code",
   "execution_count": null,
   "id": "063f452d",
   "metadata": {},
   "outputs": [],
   "source": []
  },
  {
   "cell_type": "markdown",
   "id": "a1e696b6",
   "metadata": {},
   "source": [
    "## If loading skip here:"
   ]
  },
  {
   "cell_type": "code",
   "execution_count": null,
   "id": "a67e8a45",
   "metadata": {},
   "outputs": [],
   "source": [
    "sample.imshow(None, 'vl_vae')"
   ]
  },
  {
   "cell_type": "code",
   "execution_count": null,
   "id": "83da37f6",
   "metadata": {},
   "outputs": [],
   "source": [
    "sample.get_map_patterns('vl_vae',method = 'mean', recompute=True)"
   ]
  },
  {
   "cell_type": "code",
   "execution_count": null,
   "id": "7ea8007a",
   "metadata": {},
   "outputs": [],
   "source": [
    "sbs = signal_boosted_scan(sample, 'vl_vae')"
   ]
  },
  {
   "cell_type": "code",
   "execution_count": null,
   "id": "dfe26ab7",
   "metadata": {},
   "outputs": [],
   "source": [
    "unique_regions = [np.asarray(np.where(sample.all_maps['vl_vae'] == x))[:,0] for x in np.unique(sample.all_maps['vl_vae'])]"
   ]
  },
  {
   "cell_type": "code",
   "execution_count": null,
   "id": "542f5c5d",
   "metadata": {},
   "outputs": [],
   "source": [
    "def inv_sbs(sbs, sp = (0,0), return_fig = False, interactive = True):\n",
    "    sbsg = np.repeat(sbs.data.sum(axis= (2,3))[:,:,None],3, -1)\n",
    "    sbsg /= sbsg.max()\n",
    "    \n",
    "    def boost(array):\n",
    "        barr = np.log10(np.log10(array+1))\n",
    "        barr = np.where(barr == -np.inf, 10, barr)\n",
    "        low = np.min(barr)\n",
    "        return np.where(barr == 10, low, barr)\n",
    "\n",
    "    def format_ax():\n",
    "        ax[0].set_frame_on(False)\n",
    "        #ax[1].set_frame_on(False)\n",
    "        ax[0].set_xticks([])\n",
    "        ax[0].set_yticks([])\n",
    "        ax[1].set_xticks([])\n",
    "        ax[1].set_yticks([])\n",
    "    fig, ax = plt.subplots(2, 1, gridspec_kw={'height_ratios': [1, 2]}, figsize=(8,8))\n",
    "    \n",
    "    \n",
    "    clust = sample.all_maps['vl_vae'][sp[0],sp[1]]\n",
    "\n",
    "    clust_loc = np.where(sample.all_maps['vl_vae'] == clust)\n",
    "\n",
    "    new_nav = sbsg.copy()\n",
    "\n",
    "    new_nav[clust_loc] = np.array([0.1254902 , 0.69803922, 0.66666667])\n",
    "    \n",
    "    \n",
    "    ax[0].imshow(new_nav)\n",
    "    ax[1].imshow(boost(sbs.data[sp[0],sp[1]]), cmap= 'gray')\n",
    "\n",
    "    format_ax()\n",
    "    \n",
    "    if interactive == True:\n",
    "    \n",
    "        global coords\n",
    "        coords = []\n",
    "\n",
    "        def onclick(event):\n",
    "            global ix, iy\n",
    "            ix, iy = np.round(event.xdata,0), np.round(event.ydata,0)\n",
    "            print(ix, iy)\n",
    "\n",
    "            coords.append((ix, iy))\n",
    "\n",
    "            ax[0].clear()\n",
    "            ax[1].clear()\n",
    "\n",
    "            clust = sample.all_maps['vl_vae'][int(iy),int(ix)]\n",
    "\n",
    "            clust_loc = np.where(sample.all_maps['vl_vae'] == clust)\n",
    "\n",
    "            new_nav = sbsg.copy()\n",
    "\n",
    "            new_nav[clust_loc] = np.array([0.1254902 , 0.69803922, 0.66666667])\n",
    "\n",
    "\n",
    "\n",
    "            ax[0].imshow(new_nav)\n",
    "            ax[1].imshow(boost(sbs.data[int(iy),int(ix)]), cmap = 'gray')\n",
    "\n",
    "            format_ax()\n",
    "\n",
    "            ax[0].draw()\n",
    "            ax[1].draw()\n",
    "\n",
    "\n",
    "            return coords\n",
    "\n",
    "        cid = fig.canvas.mpl_connect('button_press_event', onclick)\n",
    "\n",
    "    if return_fig == True:\n",
    "        return fig\n",
    "        "
   ]
  },
  {
   "cell_type": "code",
   "execution_count": null,
   "id": "df416163",
   "metadata": {},
   "outputs": [],
   "source": [
    "f = inv_sbs(sbs, return_fig=True)"
   ]
  },
  {
   "cell_type": "code",
   "execution_count": null,
   "id": "7acc0da6",
   "metadata": {},
   "outputs": [],
   "source": [
    "time_stamp = str(dp).split('/')[-2]\n",
    "figp = Path(f'/dls/science/groups/imaging/ePSIC_students/Andy_Bridger/TransferFigures')\n",
    "\n",
    "for i, ur in enumerate(unique_regions):\n",
    "    f = inv_sbs(sbs, ur, return_fig=True)\n",
    "    f.savefig(str(figp)+f'/{time_stamp}-region-{i}.jpg', dpi = 200)\n",
    "    f.clf()\n",
    "plt.close('all')"
   ]
  },
  {
   "cell_type": "code",
   "execution_count": null,
   "id": "4a6e3678",
   "metadata": {},
   "outputs": [],
   "source": [
    "patts = sample.all_patterns['vl_vae']\n",
    "\n",
    "patts.shape"
   ]
  },
  {
   "cell_type": "code",
   "execution_count": null,
   "id": "d4f3fae1",
   "metadata": {},
   "outputs": [],
   "source": [
    "patts = patts.reshape(5,5,476,476)\n",
    "\n",
    "np.save(f'{figp}/tilt2patterns', patts)"
   ]
  },
  {
   "cell_type": "code",
   "execution_count": null,
   "id": "db357269",
   "metadata": {},
   "outputs": [],
   "source": []
  },
  {
   "cell_type": "code",
   "execution_count": null,
   "id": "655084ff",
   "metadata": {},
   "outputs": [],
   "source": []
  },
  {
   "cell_type": "code",
   "execution_count": null,
   "id": "72149a05",
   "metadata": {},
   "outputs": [],
   "source": []
  }
 ],
 "metadata": {
  "kernelspec": {
   "display_name": "Python 3.7 - EPSIC [DLS Conda]",
   "language": "python",
   "name": "conda-env-DLS_Conda-epsic3.7-kernel.json"
  },
  "language_info": {
   "codemirror_mode": {
    "name": "ipython",
    "version": 3
   },
   "file_extension": ".py",
   "mimetype": "text/x-python",
   "name": "python",
   "nbconvert_exporter": "python",
   "pygments_lexer": "ipython3",
   "version": "3.7.6"
  }
 },
 "nbformat": 4,
 "nbformat_minor": 5
}
