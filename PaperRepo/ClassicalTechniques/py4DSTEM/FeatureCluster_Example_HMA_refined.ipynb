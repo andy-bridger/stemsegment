{
 "cells": [
  {
   "cell_type": "markdown",
   "id": "193f496a-016e-4192-962b-aac1ab96dd53",
   "metadata": {},
   "source": [
    "# A Pipeline to extract relevant features for analysis of 4D-STEM datasets\n",
    "\n",
    "## Subsections\n",
    "#### 1. Bragg Peaks - Analyze Position Correlations\n",
    "#### 2. Radial Integral - Identify valuable information\n",
    "#### 3. Polar Score, RMSD, Annular Mean\n",
    "#### 4. Radial Profile Coefficient Fits\n",
    "#### 5. Symmetry Extraction"
   ]
  },
  {
   "cell_type": "code",
   "execution_count": 1,
   "id": "70f78dc3-eb59-4b10-856a-8e404b756bcc",
   "metadata": {},
   "outputs": [],
   "source": [
    "import py4DSTEM\n",
    "from py4DSTEM.visualize import show_image_grid\n",
    "import numpy as np\n",
    "import matplotlib as mpl\n",
    "import matplotlib.pyplot as plt\n",
    "\n",
    "import featurization"
   ]
  },
  {
   "cell_type": "markdown",
   "id": "202ba03b-6df9-4389-b975-2b85f66ca81c",
   "metadata": {},
   "source": [
    "## Import Dataframes"
   ]
  },
  {
   "cell_type": "code",
   "execution_count": 6,
   "id": "25d72682-9e70-4421-8039-4fdc1fdd0f3f",
   "metadata": {},
   "outputs": [],
   "source": [
    "#dc_1.set_scan_shape(30,15)\n",
    "R_Nx = 511 #dc_1.data.shape[0]\n",
    "R_Ny = 511 #dc_1.data.shape[1]\n",
    "Q_Nx = 256 #dc_1.data.shape[2]\n",
    "Q_Ny = 256 #dc_1.data.shape[3]"
   ]
  },
  {
   "cell_type": "code",
   "execution_count": 3,
   "id": "3f03c22b-bb6c-4c4b-b1b6-0de7187c93f7",
   "metadata": {},
   "outputs": [],
   "source": [
    "path_BP = '/dls/science/groups/imaging/ePSIC_students/Andy_Bridger/PaperDataRepo/AlexWorkflow/HMA/BP_centered_EC_Bin4x4_2022.02.16.npy'\n",
    "path_var = '/dls/science/groups/imaging/ePSIC_students/Andy_Bridger/PaperDataRepo/AlexWorkflow/HMA/ptransform_var_2022.02.16.npy'\n",
    "path_aa1 = '/dls/science/groups/imaging/ePSIC_students/Andy_Bridger/PaperDataRepo/AlexWorkflow/HMA/annularDF_5deg_r1_2022.02.16.npy'\n",
    "path_aa2 = '/dls/science/groups/imaging/ePSIC_students/Andy_Bridger/PaperDataRepo/AlexWorkflow/HMA/annularDF_5deg_r2_2022.02.16.npy'\n",
    "path_aa3 = '/dls/science/groups/imaging/ePSIC_students/Andy_Bridger/PaperDataRepo/AlexWorkflow/HMA/annularDF_5deg_r3_2022.02.16.npy'\n",
    "path_aa4 = '/dls/science/groups/imaging/ePSIC_students/Andy_Bridger/PaperDataRepo/AlexWorkflow/HMA/annularDF_5deg_r4_2022.02.16.npy'"
   ]
  },
  {
   "cell_type": "code",
   "execution_count": 4,
   "id": "501d6a25-af80-49c5-8697-072fdebbde95",
   "metadata": {},
   "outputs": [],
   "source": [
    "BP = np.load(path_BP)\n",
    "var = np.load(path_var)\n",
    "aa1 = np.load(path_aa1)\n",
    "aa2 = np.load(path_aa2)\n",
    "aa3 = np.load(path_aa3)\n",
    "aa4 = np.load(path_aa4)"
   ]
  },
  {
   "cell_type": "markdown",
   "id": "d2f60255",
   "metadata": {},
   "source": [
    "## Clean Angular Average Features"
   ]
  },
  {
   "cell_type": "code",
   "execution_count": 7,
   "id": "a01f216d",
   "metadata": {},
   "outputs": [],
   "source": [
    "aa = [aa1]\n",
    "ims = [aa[i][:,j].reshape(R_Nx, R_Ny) for j in range(aa1.shape[1]) for i in range(len(aa))]"
   ]
  },
  {
   "cell_type": "code",
   "execution_count": null,
   "id": "40f21105",
   "metadata": {},
   "outputs": [],
   "source": [
    "fig, ax = show_image_grid(lambda i:ims[i]**0.5, 8,10, returnfig = True, cmap = 'inferno')"
   ]
  },
  {
   "cell_type": "code",
   "execution_count": null,
   "id": "9fa8fe00",
   "metadata": {},
   "outputs": [],
   "source": [
    "# Observed that positions 60 - 65 are inhibited by beamstop, remove these positions in all AA arrays\n",
    "import copy\n",
    "\n",
    "aa1_clean = copy.deepcopy(aa1)\n",
    "aa2_clean = copy.deepcopy(aa2)\n",
    "aa3_clean = copy.deepcopy(aa3)\n",
    "aa4_clean = copy.deepcopy(aa4)\n",
    "\n",
    "beamstop_positions = [64, 63, 62, 61, 60]\n",
    "for i in range(len(beamstop_positions)):\n",
    "    aa1_clean = np.delete(aa1_clean, beamstop_positions[i], 1)\n",
    "    aa2_clean = np.delete(aa2_clean, beamstop_positions[i], 1)\n",
    "    aa3_clean = np.delete(aa3_clean, beamstop_positions[i], 1)\n",
    "    aa4_clean = np.delete(aa4_clean, beamstop_positions[i], 1)"
   ]
  },
  {
   "cell_type": "code",
   "execution_count": null,
   "id": "e2557c42",
   "metadata": {},
   "outputs": [],
   "source": [
    "aa_clean = [aa1_clean]\n",
    "ims_clean = [aa_clean[i][:,j].reshape(R_Nx, R_Ny) for j in range(aa1_clean.shape[1]) for i in range(len(aa_clean))]"
   ]
  },
  {
   "cell_type": "code",
   "execution_count": null,
   "id": "6f1b925d",
   "metadata": {},
   "outputs": [],
   "source": [
    "ims_clean[1].shape"
   ]
  },
  {
   "cell_type": "code",
   "execution_count": null,
   "id": "2e367a6c",
   "metadata": {},
   "outputs": [],
   "source": [
    "fig, ax = show_image_grid(lambda i:ims_clean[i]**0.5, 8,10, returnfig = True, cmap = 'inferno')"
   ]
  },
  {
   "cell_type": "markdown",
   "id": "60aaf39f-afaa-442a-93f9-dcfa83d8560c",
   "metadata": {},
   "source": [
    "## Learn"
   ]
  },
  {
   "cell_type": "code",
   "execution_count": null,
   "id": "9faa9887-75b2-4068-8207-7dfc0ee2a153",
   "metadata": {},
   "outputs": [],
   "source": [
    "## Creating colormap\n",
    "import matplotlib.cm as mplcm\n",
    "import matplotlib.colors as colors\n",
    "\n",
    "NUM_COLORS = 200\n",
    "\n",
    "cm = plt.get_cmap('gist_rainbow')\n",
    "cmap = [cm(1.*i/NUM_COLORS) for i in range(NUM_COLORS)]\n",
    "\n",
    "#cmap = mpl.colors.ListedColormap(cmap)"
   ]
  },
  {
   "cell_type": "code",
   "execution_count": null,
   "id": "08b46168-6162-4906-9653-c0a4f41c5932",
   "metadata": {},
   "outputs": [],
   "source": [
    "keys = ['BP', 'var', 'aa1', 'aa2', 'aa3','aa4']"
   ]
  },
  {
   "cell_type": "code",
   "execution_count": null,
   "id": "1bf86c12",
   "metadata": {},
   "outputs": [],
   "source": [
    "features = [BP, var, aa1_clean, aa2_clean, aa3_clean, aa4_clean]"
   ]
  },
  {
   "cell_type": "code",
   "execution_count": null,
   "id": "8f715ac1-5418-4bea-8992-2a104a4b15e4",
   "metadata": {},
   "outputs": [],
   "source": [
    "classification = featurization.clustering(keys, features)"
   ]
  },
  {
   "cell_type": "code",
   "execution_count": null,
   "id": "2aad0a67",
   "metadata": {},
   "outputs": [],
   "source": [
    "classification.concatenate_features(keys = ['aa1','aa2','aa3', 'aa4'], output_key = 'aa')"
   ]
  },
  {
   "cell_type": "code",
   "execution_count": null,
   "id": "7a1f7c01-d61e-4f47-aec5-4aa293fa6020",
   "metadata": {},
   "outputs": [],
   "source": [
    "classification.MinMaxScaler(keys = ['BP', 'var','aa'])"
   ]
  },
  {
   "cell_type": "code",
   "execution_count": null,
   "id": "6ca6339a-1210-4c3a-8487-1b3c6f5ccccc",
   "metadata": {},
   "outputs": [],
   "source": [
    "keys_all = list(classification.features.keys())\n",
    "print(keys_all)"
   ]
  },
  {
   "cell_type": "markdown",
   "id": "dd55d604",
   "metadata": {},
   "source": [
    "## (Radial) Variance"
   ]
  },
  {
   "cell_type": "code",
   "execution_count": null,
   "id": "ff1faff0",
   "metadata": {},
   "outputs": [],
   "source": [
    "import sklearn\n",
    "pca = sklearn.decomposition.PCA(n_components = 70)"
   ]
  },
  {
   "cell_type": "code",
   "execution_count": null,
   "id": "58030313",
   "metadata": {},
   "outputs": [],
   "source": [
    "var_pca = pca.fit_transform(classification.features['var_mms'])"
   ]
  },
  {
   "cell_type": "code",
   "execution_count": null,
   "id": "db5051c1",
   "metadata": {},
   "outputs": [],
   "source": [
    "plt.plot(pca.explained_variance_ratio_[0:10])\n",
    "plt.show()"
   ]
  },
  {
   "cell_type": "code",
   "execution_count": null,
   "id": "4f7e7782",
   "metadata": {},
   "outputs": [],
   "source": [
    "keys = ['var_mms']\n",
    "comps = [25] * len(keys)\n",
    "iters_ = [5] * len(keys)\n",
    "_thresh = [0.40] * len(keys)\n",
    "max_components = dict(zip(keys, comps))\n",
    "merge_thresh = dict(zip(keys, _thresh))\n",
    "iters = dict(zip(keys, iters_))"
   ]
  },
  {
   "cell_type": "code",
   "execution_count": null,
   "id": "859067fa-b70b-463e-8f6a-4cbe28442e80",
   "metadata": {
    "collapsed": true,
    "jupyter": {
     "outputs_hidden": true
    },
    "tags": []
   },
   "outputs": [],
   "source": [
    "classification.NMF_iterative(keys = keys, max_components = max_components, merge_thresh = merge_thresh ,iters = iters)"
   ]
  },
  {
   "cell_type": "code",
   "execution_count": null,
   "id": "345ade27",
   "metadata": {},
   "outputs": [],
   "source": [
    "print(classification.W['var_mms'].shape)"
   ]
  },
  {
   "cell_type": "code",
   "execution_count": null,
   "id": "54943ec1",
   "metadata": {},
   "outputs": [],
   "source": [
    "var_mms_labels = (classification.W['var_mms'].max(axis=1,keepdims=1) == classification.W['var_mms']) * classification.W['var_mms']\n",
    "var_mms_ims = [var_mms_labels[:,i].reshape(R_Nx, R_Ny) for i in range(var_mms_labels.shape[1])]\n",
    "fig, ax = show_image_grid(lambda i:classification.W['var_mms'][:,i].reshape(R_Nx, R_Ny)**0.5, 2,5, returnfig = True, cmap = 'inferno')"
   ]
  },
  {
   "cell_type": "code",
   "execution_count": null,
   "id": "fc0c3a7c",
   "metadata": {},
   "outputs": [],
   "source": [
    "fig, ax = show_image_grid(lambda i:var_mms_ims[i]**0.5, 2,5, returnfig = True, cmap = 'inferno')"
   ]
  },
  {
   "cell_type": "code",
   "execution_count": null,
   "id": "99a6b478",
   "metadata": {},
   "outputs": [],
   "source": [
    "thresh = 0.001\n",
    "fig, (ax2) = plt.subplots(1, 1, figsize = (10,10))\n",
    "#ax1.matshow(im, cmap = 'inferno')\n",
    "ax2.matshow(np.zeros((R_Nx, R_Ny)), cmap = 'gray')\n",
    "#ax1.axis('off')\n",
    "ax2.axis('off')\n",
    "\n",
    "ival_1 = NUM_COLORS / len(var_mms_ims)\n",
    "\n",
    "for i in range(len(var_mms_ims)):\n",
    "    iterval_1 = np.floor(ival_1 * i).astype(int)\n",
    "    c0, c1 = (cmap[iterval_1][0]*0.35,cmap[iterval_1][1]*0.35,cmap[iterval_1][2]*0.35,1), cmap[iterval_1]\n",
    "    cm = mpl.colors.LinearSegmentedColormap.from_list('cmap', [c0,c1], N = 10)\n",
    "    ax2.matshow(np.ma.array(var_mms_ims[i], \n",
    "                           mask = var_mms_ims[i]<thresh), cmap = cm)"
   ]
  },
  {
   "cell_type": "code",
   "execution_count": null,
   "id": "3a66ea9c",
   "metadata": {},
   "outputs": [],
   "source": [
    "#fig.savefig('sim_bpWrxry_125comp_25iter_0.23thresh_thresh0.001.svg', format='svg', dpi=1200)"
   ]
  },
  {
   "cell_type": "code",
   "execution_count": null,
   "id": "09a4b008",
   "metadata": {},
   "outputs": [],
   "source": [
    "# fp_var_W = '/Volumes/LaCie/4DSTEM/AuFilm_sim/Ag100/size0t100/Ag1p0_1t100_var_mms_nmfW_25comp_25iter_0.45thresh.npy'\n",
    "# fp_var_H = '/Volumes/LaCie/4DSTEM/AuFilm_sim/Ag100/size0t100/Ag1p0_1t100_var_mms_nmfH_25comp_25iter_0.45thresh.npy'\n",
    "# np.save(fp_var_W, classification.W['var_mms'])\n",
    "# np.save(fp_var_H, classification.H['var_mms'])\n",
    "\n",
    "# 25comp_25iter_0.45thresh_19.37.02min.sec - sigma2\n",
    "\n",
    "## 25comp_25iter_0.45thresh_18.39.06min.sec"
   ]
  },
  {
   "cell_type": "markdown",
   "id": "b8154689",
   "metadata": {},
   "source": [
    "## BP"
   ]
  },
  {
   "cell_type": "code",
   "execution_count": null,
   "id": "b7928b3a",
   "metadata": {},
   "outputs": [],
   "source": [
    "pca = sklearn.decomposition.PCA(n_components = 100)\n",
    "bp_pca = pca.fit_transform(classification.features['BP_mms'])"
   ]
  },
  {
   "cell_type": "code",
   "execution_count": null,
   "id": "0790a5fa",
   "metadata": {},
   "outputs": [],
   "source": [
    "plt.plot(pca.explained_variance_ratio_[0:30])\n",
    "plt.show()"
   ]
  },
  {
   "cell_type": "code",
   "execution_count": null,
   "id": "4f7e7782",
   "metadata": {},
   "outputs": [],
   "source": [
    "keys = ['BP_mms']\n",
    "comps = [40] * len(keys)\n",
    "iters_ = [5] * len(keys)\n",
    "_thresh = [0.10] * len(keys)\n",
    "max_components = dict(zip(keys, comps))\n",
    "merge_thresh = dict(zip(keys, _thresh))\n",
    "iters = dict(zip(keys, iters_))"
   ]
  },
  {
   "cell_type": "code",
   "execution_count": null,
   "id": "859067fa-b70b-463e-8f6a-4cbe28442e80",
   "metadata": {
    "collapsed": true,
    "jupyter": {
     "outputs_hidden": true
    },
    "tags": []
   },
   "outputs": [],
   "source": [
    "classification.NMF_iterative(keys = keys, max_components = max_components, merge_thresh = merge_thresh ,iters = iters)"
   ]
  },
  {
   "cell_type": "code",
   "execution_count": null,
   "id": "345ade27",
   "metadata": {},
   "outputs": [],
   "source": [
    "print(classification.W['BP_mms'].shape)"
   ]
  },
  {
   "cell_type": "code",
   "execution_count": null,
   "id": "54943ec1",
   "metadata": {},
   "outputs": [],
   "source": [
    "BP_mms_labels = (classification.W['BP_mms'].max(axis=1,keepdims=1) == classification.W['BP_mms']) * classification.W['BP_mms']\n",
    "BP_mms_ims = [BP_mms_labels[:,i].reshape(R_Nx, R_Ny) for i in range(BP_mms_labels.shape[1])]\n",
    "\n",
    "fig, ax = show_image_grid(lambda i:classification.W['BP_mms'][:,i].reshape(R_Nx, R_Ny)**0.5, 4,5, returnfig = True, cmap = 'inferno')"
   ]
  },
  {
   "cell_type": "code",
   "execution_count": null,
   "id": "fc0c3a7c",
   "metadata": {},
   "outputs": [],
   "source": [
    "fig, ax = show_image_grid(lambda i:BP_mms_ims[i]**0.5, 4,5, returnfig = True, cmap = 'inferno')"
   ]
  },
  {
   "cell_type": "code",
   "execution_count": null,
   "id": "99a6b478",
   "metadata": {},
   "outputs": [],
   "source": [
    "thresh = 0.01\n",
    "fig, (ax2) = plt.subplots(1, 1, figsize = (10,10))\n",
    "#ax1.matshow(im, cmap = 'inferno')\n",
    "ax2.matshow(np.zeros((R_Nx, R_Ny)), cmap = 'gray')\n",
    "#ax1.axis('off')\n",
    "ax2.axis('off')\n",
    "\n",
    "ival_1 = NUM_COLORS / len(BP_mms_ims)\n",
    "\n",
    "for i in range(len(BP_mms_ims)):\n",
    "    iterval_1 = np.floor(ival_1 * i).astype(int)\n",
    "    c0, c1 = (cmap[iterval_1][0]*0.35,cmap[iterval_1][1]*0.35,cmap[iterval_1][2]*0.35,1), cmap[iterval_1]\n",
    "    cm = mpl.colors.LinearSegmentedColormap.from_list('cmap', [c0,c1], N = 10)\n",
    "    ax2.matshow(np.ma.array(BP_mms_ims[i], \n",
    "                           mask = BP_mms_ims[i]<thresh), cmap = cm)"
   ]
  },
  {
   "cell_type": "code",
   "execution_count": null,
   "id": "fa729a8c",
   "metadata": {},
   "outputs": [],
   "source": [
    "#fig.savefig('sim_bpWrxry_125comp_25iter_0.23thresh_thresh0.001.svg', format='svg', dpi=1200)"
   ]
  },
  {
   "cell_type": "code",
   "execution_count": null,
   "id": "09a4b008",
   "metadata": {},
   "outputs": [],
   "source": [
    "# fp_bp_W = '/Volumes/LaCie/4DSTEM/AuFilm_sim/Ag100/size0t100/Ag1p0_1t100_bp_mms_nmfW_60comp_25iter_0.25thresh.npy'\n",
    "# fp_bp_H = '/Volumes/LaCie/4DSTEM/AuFilm_sim/Ag100/size0t100/Ag1p0_1t100_bp_mms_nmfH_60comp_25iter_0.25thresh.npy'\n",
    "# np.save(fp_bp_W, classification.W['BP_mms'])\n",
    "# np.save(fp_bp_H, classification.H['BP_mms'])\n",
    "\n",
    "#60comp_25iter_0.25thresh_88.18.03min.sec - sigma2"
   ]
  },
  {
   "cell_type": "markdown",
   "id": "91c612de",
   "metadata": {},
   "source": [
    "## Angular Averaging"
   ]
  },
  {
   "cell_type": "code",
   "execution_count": null,
   "id": "ff1faff0",
   "metadata": {},
   "outputs": [],
   "source": [
    "pca = sklearn.decomposition.PCA(n_components = 100)\n",
    "aa_pca = pca.fit_transform(classification.features['aa_mms'])"
   ]
  },
  {
   "cell_type": "code",
   "execution_count": null,
   "id": "db5051c1",
   "metadata": {},
   "outputs": [],
   "source": [
    "plt.plot(pca.explained_variance_ratio_[0:25])\n",
    "plt.show()"
   ]
  },
  {
   "cell_type": "code",
   "execution_count": null,
   "id": "376fa10d-f07c-4c08-8fda-63466434f5d3",
   "metadata": {},
   "outputs": [],
   "source": [
    "keys = ['aa_mms']\n",
    "comps =  [25] * len(keys)\n",
    "threshs = [0.35] * len(keys)\n",
    "iters_ = [10] * len(keys)\n",
    "max_components = dict(zip(keys, comps))\n",
    "merge_thresh = dict(zip(keys, threshs))\n",
    "iters = dict(zip(keys, iters_))"
   ]
  },
  {
   "cell_type": "code",
   "execution_count": null,
   "id": "f3c1521f",
   "metadata": {},
   "outputs": [],
   "source": [
    "classification.NMF_iterative(keys = keys, max_components = max_components, merge_thresh = merge_thresh, iters = iters)"
   ]
  },
  {
   "cell_type": "code",
   "execution_count": null,
   "id": "59764b3a",
   "metadata": {},
   "outputs": [],
   "source": [
    "classification.W['aa_mms'].shape"
   ]
  },
  {
   "cell_type": "code",
   "execution_count": null,
   "id": "e9d7e426",
   "metadata": {},
   "outputs": [],
   "source": [
    "aa_mms_labels = (classification.W['aa_mms'].max(axis=1,keepdims=1) == classification.W['aa_mms']) * classification.W['aa_mms']\n",
    "aa_mms_ims = [aa_mms_labels[:,i].reshape(R_Nx, R_Ny) for i in range(aa_mms_labels.shape[1])]"
   ]
  },
  {
   "cell_type": "code",
   "execution_count": null,
   "id": "76639e19",
   "metadata": {},
   "outputs": [],
   "source": [
    "fig, ax = show_image_grid(lambda i:classification.W['aa_mms'][:,i].reshape(R_Nx, R_Ny)**0.5, 4,5, returnfig = True, cmap = 'inferno')"
   ]
  },
  {
   "cell_type": "code",
   "execution_count": null,
   "id": "fc0c3a7c",
   "metadata": {},
   "outputs": [],
   "source": [
    "fig, ax = show_image_grid(lambda i:aa_mms_ims[i]**0.5, 4,5, returnfig = True, cmap = 'inferno')"
   ]
  },
  {
   "cell_type": "code",
   "execution_count": null,
   "id": "b4c2c7c8",
   "metadata": {},
   "outputs": [],
   "source": [
    "thresh = 0.01\n",
    "fig, (ax2) = plt.subplots(1, 1, figsize = (10,10))\n",
    "#ax1.matshow(im, cmap = 'inferno')\n",
    "ax2.matshow(np.zeros((R_Nx, R_Ny)), cmap = 'gray')\n",
    "#ax1.axis('off')\n",
    "ax2.axis('off')\n",
    "\n",
    "ival_1 = NUM_COLORS / len(aa_mms_ims)\n",
    "\n",
    "for i in range(len(aa_mms_ims)):\n",
    "    iterval_1 = np.floor(ival_1 * i).astype(int)\n",
    "    c0, c1 = (cmap[iterval_1][0]*0.35,cmap[iterval_1][1]*0.35,cmap[iterval_1][2]*0.35,1), cmap[iterval_1]\n",
    "    cm = mpl.colors.LinearSegmentedColormap.from_list('cmap', [c0,c1], N = 10)\n",
    "    ax2.matshow(np.ma.array(aa_mms_ims[i], \n",
    "                           mask = aa_mms_ims[i]<thresh), cmap = cm)"
   ]
  },
  {
   "cell_type": "code",
   "execution_count": null,
   "id": "d66565c8",
   "metadata": {},
   "outputs": [],
   "source": [
    "# fp_aa_W = '/Volumes/LaCie/4DSTEM/AuFilm_sim/Ag100/size0t100/sim_aa_mms_nmfW_50comp_25iter_0.40thresh.npy'\n",
    "# fp_aa_H = '/Volumes/LaCie/4DSTEM/AuFilm_sim/Ag100/size0t100/sim_aa_mms_nmfH_50comp_25iter_0.40thresh.npy'\n",
    "# np.save(fp_aa_W, classification.W['aa_mms'])\n",
    "# np.save(fp_aa_H, classification.H['aa_mms'])\n",
    "\n",
    "#50comp_25iter_0.40thresh_64.45.02min.sec - sigma2\n",
    "\n",
    "#100comp25iter0.45thresh1246.38.07min.sec"
   ]
  }
 ],
 "metadata": {
  "interpreter": {
   "hash": "bf7c52a66987609ab7d7191076c45d98dcf75257978c5c4b89baae5ad117886d"
  },
  "kernelspec": {
   "display_name": "ACOM-env [User Conda - acom-env]",
   "language": "python",
   "name": "conda-env-User_Conda_-_acom-env-python3.8"
  },
  "language_info": {
   "codemirror_mode": {
    "name": "ipython",
    "version": 3
   },
   "file_extension": ".py",
   "mimetype": "text/x-python",
   "name": "python",
   "nbconvert_exporter": "python",
   "pygments_lexer": "ipython3",
   "version": "3.8.11"
  }
 },
 "nbformat": 4,
 "nbformat_minor": 5
}
